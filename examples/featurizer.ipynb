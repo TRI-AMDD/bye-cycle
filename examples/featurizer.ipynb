{
 "cells": [
  {
   "cell_type": "code",
   "execution_count": 11,
   "id": "4a0e7ed6",
   "metadata": {},
   "outputs": [],
   "source": [
    "import os\n",
    "import bye_cycle\n",
    "import tensorflow as tf\n",
    "from tqdm import tqdm\n",
    "import numpy as np\n",
    "from beep.structure.cli import auto_load_processed"
   ]
  },
  {
   "cell_type": "code",
   "execution_count": 12,
   "id": "cd20e88c",
   "metadata": {},
   "outputs": [],
   "source": [
    "# Disabling tf warnings\n",
    "tf.get_logger().setLevel('INFO')\n",
    "# Disabling GPU\n",
    "RUN_ON_GPU = True\n",
    "if not RUN_ON_GPU:\n",
    "    os.environ[\"CUDA_VISIBLE_DEVICES\"] = \"-1\""
   ]
  },
  {
   "cell_type": "code",
   "execution_count": 13,
   "id": "6aa34bd1",
   "metadata": {},
   "outputs": [
    {
     "name": "stdout",
     "output_type": "stream",
     "text": [
      "8 Physical GPUs, 8 Logical GPUs\n"
     ]
    }
   ],
   "source": [
    "gpus = tf.config.list_physical_devices('GPU')\n",
    "if gpus:\n",
    "  # Restrict TensorFlow to only allocate 1GB of memory on the first GPU\n",
    "  try:\n",
    "    tf.config.set_logical_device_configuration(\n",
    "        gpus[0],\n",
    "        [tf.config.LogicalDeviceConfiguration(memory_limit=32*1024)])\n",
    "    logical_gpus = tf.config.list_logical_devices('GPU')\n",
    "    print(len(gpus), \"Physical GPUs,\", len(logical_gpus), \"Logical GPUs\")\n",
    "  except RuntimeError as e:\n",
    "    # Virtual devices must be set before GPUs have been initialized\n",
    "    print(e)"
   ]
  },
  {
   "cell_type": "code",
   "execution_count": 14,
   "id": "a7870d68",
   "metadata": {},
   "outputs": [],
   "source": [
    "structure_path = '/home/ec2-user/SageMaker/data_cache/structure/'\n",
    "#Get all structured files with the correct prefix\n",
    "names = [os.path.join(structure_path, n) for n in os.listdir(structure_path) if \"PreDiag\" in n or \"PredictionDiagnostics\" in n]\n",
    "#exclude stitched files\n",
    "names = [n for n in names if (not \"p2_structure\" in n and \".gz\" in n)]\n",
    "N = len(names)"
   ]
  },
  {
   "cell_type": "code",
   "execution_count": 15,
   "id": "7079bcd6",
   "metadata": {},
   "outputs": [],
   "source": [
    "cell_one = auto_load_processed(names[0])\n",
    "cell_two = auto_load_processed(names[-1])"
   ]
  },
  {
   "cell_type": "code",
   "execution_count": 16,
   "id": "de6371c6",
   "metadata": {},
   "outputs": [
    {
     "name": "stderr",
     "output_type": "stream",
     "text": [
      "100%|██████████| 1315/1315 [01:06<00:00, 19.79it/s]"
     ]
    },
    {
     "name": "stdout",
     "output_type": "stream",
     "text": [
      "Empty data found in cycles: [1, 2, 3, 4, 5, 36, 37, 38, 39, 40, 141, 142, 143, 144, 145, 246, 247, 248, 249, 250, 351, 352, 353, 354, 355, 456, 457, 458, 459, 460, 561, 562, 563, 564, 565, 666, 667, 668, 669, 670, 771, 772, 773, 774, 775, 876, 877, 878, 879, 880, 981, 982, 983, 984, 985, 1086, 1087, 1088, 1089, 1090, 1191, 1192, 1193, 1194, 1195, 1296, 1297, 1298, 1299, 1300] in cell\n"
     ]
    },
    {
     "name": "stderr",
     "output_type": "stream",
     "text": [
      "\n"
     ]
    }
   ],
   "source": [
    "n_points = 100\n",
    "max_time_idx = bye_cycle.clean_cycle_data(cell_one, 10).shape[0]\n",
    "max_cycle_idx = max(cell_one.structured_data['cycle_index'])\n",
    "interp_clean_cell_one = [] #np.empty((max_cycle_idx, max_time_idx, 3))\n",
    "empty_cycles = []\n",
    "for i in tqdm(range(max_cycle_idx)):\n",
    "    clean_dat = bye_cycle.clean_cycle_data(cell_one, i)\n",
    "    # Looks like there are some missing cycle measurements so ...\n",
    "    if clean_dat.shape[0] !=0:\n",
    "        interp_clean_cell_one.append(bye_cycle.interpol_cycle(clean_dat, n_points=100))\n",
    "    else:\n",
    "        empty_cycles.append(i)\n",
    "#     break\n",
    "#     np.append(clean_cell_one, np.array(clean_cycle_data(cell_one, i))[:, np.newaxis, :], axis=0)\n",
    "#     break\n",
    "interp_clean_cell_one = np.array(interp_clean_cell_one)\n",
    "print(f'Empty data found in cycles: {empty_cycles} in cell')"
   ]
  },
  {
   "cell_type": "code",
   "execution_count": 17,
   "id": "07df7f13",
   "metadata": {},
   "outputs": [
    {
     "name": "stdout",
     "output_type": "stream",
     "text": [
      "CACHED_DATA/cell_1314\n"
     ]
    }
   ],
   "source": [
    "print(f'CACHED_DATA/cell_{int(i):03d}')"
   ]
  },
  {
   "cell_type": "code",
   "execution_count": 18,
   "id": "347cc5e2",
   "metadata": {},
   "outputs": [
    {
     "name": "stdout",
     "output_type": "stream",
     "text": [
      "1314\n"
     ]
    }
   ],
   "source": [
    "print(i)\n",
    "if os.path.exists(f'CACHED_DATA/cell_{int(i):03d}.pkl'):\n",
    "    print(f'CACHED_DATA/cell_{int(i):03d}.pkl')"
   ]
  },
  {
   "cell_type": "code",
   "execution_count": 19,
   "id": "466cb955",
   "metadata": {},
   "outputs": [
    {
     "data": {
      "text/plain": [
       "100"
      ]
     },
     "execution_count": 19,
     "metadata": {},
     "output_type": "execute_result"
    }
   ],
   "source": [
    "n_points"
   ]
  },
  {
   "cell_type": "markdown",
   "id": "f94234cf",
   "metadata": {},
   "source": [
    "The printed cycles above are diagnostic cycles."
   ]
  },
  {
   "cell_type": "code",
   "execution_count": 20,
   "id": "91f5ae5c",
   "metadata": {},
   "outputs": [],
   "source": [
    "import pickle\n",
    "for i,n in enumerate(names):\n",
    "    features = []\n",
    "    if not os.path.exists(f'CACHED_DATA/cell_{int(i):03d}.pkl'):\n",
    "        cell = auto_load_processed(n)\n",
    "        print(f'Featurizing data for cell {i}.')\n",
    "        features.append(bye_cycle.prep_features_per_cell(cell, n_points,\n",
    "                                                         interpol_kind='quadratic',\n",
    "                                                         columns=['voltage', 'current', 'cycle_index', 'discharge_capacity']))\n",
    "        with open(f'CACHED_DATA/cell_{int(i):03d}.pkl','wb') as f: \n",
    "            pickle.dump(features, f)"
   ]
  },
  {
   "cell_type": "code",
   "execution_count": null,
   "id": "27f7126c",
   "metadata": {},
   "outputs": [],
   "source": []
  },
  {
   "cell_type": "code",
   "execution_count": null,
   "id": "20a85176",
   "metadata": {},
   "outputs": [],
   "source": []
  },
  {
   "cell_type": "code",
   "execution_count": 94,
   "id": "1871b177",
   "metadata": {},
   "outputs": [],
   "source": [
    "def prep_features_per_cell(cell, n_points=100, columns=['voltage', 'current', 'cycle_index'], interpol_kind='linear'):\n",
    "    max_cycle_idx = max(cell.structured_data['cycle_index'])\n",
    "    interp_clean_cell = []\n",
    "    empty_cycles = []\n",
    "    for i in tqdm(range(4346, max_cycle_idx)):\n",
    "        clean_dat = bye_cycle.clean_cycle_data(cell, i, columns=columns)\n",
    "        print(clean_dat.shape)\n",
    "        # Looks like there are some missing cycle measurements so ...\n",
    "        if clean_dat.shape[0] not in [0,1,2]:\n",
    "            from scipy.interpolate import interp1d\n",
    "            interpol_cell_cycle_data = []\n",
    "            for i,c in enumerate(columns):\n",
    "                x = np.arange(clean_dat[c].shape[0])\n",
    "                print(x)\n",
    "                f_out = interp1d(x, np.array([clean_dat[c]]), kind=interpol_kind)\n",
    "                new_x = np.linspace(0,clean_dat[c].shape[0]-1, n_points)\n",
    "                interpol_y = f_out(new_x)\n",
    "                interpol_cell_cycle_data.append(interpol_y[0])\n",
    "            interp_clean_cell.append(np.array(interpol_cell_cycle_data).T)\n",
    "#             interp_clean_cell.append(bye_cycle.interpol_cycle(clean_dat, n_points=n_points, columns=columns, interpol_kind=interpol_kind))\n",
    "        else:\n",
    "            empty_cycles.append(i)\n",
    "    interp_clean_cell = np.array(interp_clean_cell)\n",
    "    return interp_clean_cell"
   ]
  },
  {
   "cell_type": "code",
   "execution_count": 95,
   "id": "825c84d4",
   "metadata": {
    "scrolled": true
   },
   "outputs": [
    {
     "name": "stderr",
     "output_type": "stream",
     "text": [
      "  1%|          | 2/334 [00:00<00:26, 12.67it/s]"
     ]
    },
    {
     "name": "stdout",
     "output_type": "stream",
     "text": [
      "(2, 4)\n",
      "(8, 4)\n",
      "[0 1 2 3 4 5 6 7]\n",
      "[0 1 2 3 4 5 6 7]\n",
      "[0 1 2 3 4 5 6 7]\n",
      "[0 1 2 3 4 5 6 7]\n",
      "(10, 4)\n",
      "[0 1 2 3 4 5 6 7 8 9]\n",
      "[0 1 2 3 4 5 6 7 8 9]\n",
      "[0 1 2 3 4 5 6 7 8 9]\n",
      "[0 1 2 3 4 5 6 7 8 9]\n"
     ]
    },
    {
     "name": "stderr",
     "output_type": "stream",
     "text": [
      "  2%|▏         | 6/334 [00:00<00:26, 12.52it/s]"
     ]
    },
    {
     "name": "stdout",
     "output_type": "stream",
     "text": [
      "(9, 4)\n",
      "[0 1 2 3 4 5 6 7 8]\n",
      "[0 1 2 3 4 5 6 7 8]\n",
      "[0 1 2 3 4 5 6 7 8]\n",
      "[0 1 2 3 4 5 6 7 8]\n",
      "(10, 4)\n",
      "[0 1 2 3 4 5 6 7 8 9]\n",
      "[0 1 2 3 4 5 6 7 8 9]\n",
      "[0 1 2 3 4 5 6 7 8 9]\n",
      "[0 1 2 3 4 5 6 7 8 9]\n",
      "(9, 4)\n",
      "[0 1 2 3 4 5 6 7 8]\n",
      "[0 1 2 3 4 5 6 7 8]\n",
      "[0 1 2 3 4 5 6 7 8]\n",
      "[0 1 2 3 4 5 6 7 8]\n"
     ]
    },
    {
     "name": "stderr",
     "output_type": "stream",
     "text": [
      "\r",
      "  2%|▏         | 8/334 [00:00<00:26, 12.50it/s]"
     ]
    },
    {
     "name": "stdout",
     "output_type": "stream",
     "text": [
      "(9, 4)\n",
      "[0 1 2 3 4 5 6 7 8]\n",
      "[0 1 2 3 4 5 6 7 8]\n",
      "[0 1 2 3 4 5 6 7 8]\n",
      "[0 1 2 3 4 5 6 7 8]\n",
      "(9, 4)\n",
      "[0 1 2 3 4 5 6 7 8]\n",
      "[0 1 2 3 4 5 6 7 8]\n",
      "[0 1 2 3 4 5 6 7 8]\n",
      "[0 1 2 3 4 5 6 7 8]\n",
      "(10, 4)\n",
      "[0 1 2 3 4 5 6 7 8 9]\n",
      "[0 1 2 3 4 5 6 7 8 9]\n",
      "[0 1 2 3 4 5 6 7 8 9]\n",
      "[0 1 2 3 4 5 6 7 8 9]\n"
     ]
    },
    {
     "name": "stderr",
     "output_type": "stream",
     "text": [
      "  4%|▎         | 12/334 [00:00<00:25, 12.50it/s]"
     ]
    },
    {
     "name": "stdout",
     "output_type": "stream",
     "text": [
      "(9, 4)\n",
      "[0 1 2 3 4 5 6 7 8]\n",
      "[0 1 2 3 4 5 6 7 8]\n",
      "[0 1 2 3 4 5 6 7 8]\n",
      "[0 1 2 3 4 5 6 7 8]\n",
      "(10, 4)\n",
      "[0 1 2 3 4 5 6 7 8 9]\n",
      "[0 1 2 3 4 5 6 7 8 9]\n",
      "[0 1 2 3 4 5 6 7 8 9]\n",
      "[0 1 2 3 4 5 6 7 8 9]\n",
      "(8, 4)\n",
      "[0 1 2 3 4 5 6 7]\n",
      "[0 1 2 3 4 5 6 7]\n",
      "[0 1 2 3 4 5 6 7]\n",
      "[0 1 2 3 4 5 6 7]\n"
     ]
    },
    {
     "name": "stderr",
     "output_type": "stream",
     "text": [
      "\r",
      "  4%|▍         | 14/334 [00:01<00:25, 12.44it/s]"
     ]
    },
    {
     "name": "stdout",
     "output_type": "stream",
     "text": [
      "(10, 4)\n",
      "[0 1 2 3 4 5 6 7 8 9]\n",
      "[0 1 2 3 4 5 6 7 8 9]\n",
      "[0 1 2 3 4 5 6 7 8 9]\n",
      "[0 1 2 3 4 5 6 7 8 9]\n",
      "(10, 4)\n",
      "[0 1 2 3 4 5 6 7 8 9]\n",
      "[0 1 2 3 4 5 6 7 8 9]\n",
      "[0 1 2 3 4 5 6 7 8 9]\n",
      "[0 1 2 3 4 5 6 7 8 9]\n",
      "(10, 4)\n",
      "[0 1 2 3 4 5 6 7 8 9]\n",
      "[0 1 2 3 4 5 6 7 8 9]\n",
      "[0 1 2 3 4 5 6 7 8 9]\n",
      "[0 1 2 3 4 5 6 7 8 9]\n"
     ]
    },
    {
     "name": "stderr",
     "output_type": "stream",
     "text": [
      "  5%|▌         | 18/334 [00:01<00:25, 12.47it/s]"
     ]
    },
    {
     "name": "stdout",
     "output_type": "stream",
     "text": [
      "(10, 4)\n",
      "[0 1 2 3 4 5 6 7 8 9]\n",
      "[0 1 2 3 4 5 6 7 8 9]\n",
      "[0 1 2 3 4 5 6 7 8 9]\n",
      "[0 1 2 3 4 5 6 7 8 9]\n",
      "(10, 4)\n",
      "[0 1 2 3 4 5 6 7 8 9]\n",
      "[0 1 2 3 4 5 6 7 8 9]\n",
      "[0 1 2 3 4 5 6 7 8 9]\n",
      "[0 1 2 3 4 5 6 7 8 9]\n",
      "(10, 4)\n",
      "[0 1 2 3 4 5 6 7 8 9]\n",
      "[0 1 2 3 4 5 6 7 8 9]\n",
      "[0 1 2 3 4 5 6 7 8 9]\n",
      "[0 1 2 3 4 5 6 7 8 9]\n"
     ]
    },
    {
     "name": "stderr",
     "output_type": "stream",
     "text": [
      "\r",
      "  6%|▌         | 20/334 [00:01<00:25, 12.48it/s]"
     ]
    },
    {
     "name": "stdout",
     "output_type": "stream",
     "text": [
      "(8, 4)\n",
      "[0 1 2 3 4 5 6 7]\n",
      "[0 1 2 3 4 5 6 7]\n",
      "[0 1 2 3 4 5 6 7]\n",
      "[0 1 2 3 4 5 6 7]\n",
      "(10, 4)\n",
      "[0 1 2 3 4 5 6 7 8 9]\n",
      "[0 1 2 3 4 5 6 7 8 9]\n",
      "[0 1 2 3 4 5 6 7 8 9]\n",
      "[0 1 2 3 4 5 6 7 8 9]\n",
      "(8, 4)\n",
      "[0 1 2 3 4 5 6 7]\n",
      "[0 1 2 3 4 5 6 7]\n",
      "[0 1 2 3 4 5 6 7]\n",
      "[0 1 2 3 4 5 6 7]\n"
     ]
    },
    {
     "name": "stderr",
     "output_type": "stream",
     "text": [
      "  7%|▋         | 24/334 [00:01<00:24, 12.49it/s]"
     ]
    },
    {
     "name": "stdout",
     "output_type": "stream",
     "text": [
      "(8, 4)\n",
      "[0 1 2 3 4 5 6 7]\n",
      "[0 1 2 3 4 5 6 7]\n",
      "[0 1 2 3 4 5 6 7]\n",
      "[0 1 2 3 4 5 6 7]\n",
      "(10, 4)\n",
      "[0 1 2 3 4 5 6 7 8 9]\n",
      "[0 1 2 3 4 5 6 7 8 9]\n",
      "[0 1 2 3 4 5 6 7 8 9]\n",
      "[0 1 2 3 4 5 6 7 8 9]\n",
      "(8, 4)\n",
      "[0 1 2 3 4 5 6 7]\n",
      "[0 1 2 3 4 5 6 7]\n",
      "[0 1 2 3 4 5 6 7]\n",
      "[0 1 2 3 4 5 6 7]\n"
     ]
    },
    {
     "name": "stderr",
     "output_type": "stream",
     "text": [
      "  8%|▊         | 28/334 [00:02<00:24, 12.49it/s]"
     ]
    },
    {
     "name": "stdout",
     "output_type": "stream",
     "text": [
      "(8, 4)\n",
      "[0 1 2 3 4 5 6 7]\n",
      "[0 1 2 3 4 5 6 7]\n",
      "[0 1 2 3 4 5 6 7]\n",
      "[0 1 2 3 4 5 6 7]\n",
      "(10, 4)\n",
      "[0 1 2 3 4 5 6 7 8 9]\n",
      "[0 1 2 3 4 5 6 7 8 9]\n",
      "[0 1 2 3 4 5 6 7 8 9]\n",
      "[0 1 2 3 4 5 6 7 8 9]\n",
      "(10, 4)\n",
      "[0 1 2 3 4 5 6 7 8 9]\n",
      "[0 1 2 3 4 5 6 7 8 9]\n",
      "[0 1 2 3 4 5 6 7 8 9]\n",
      "[0 1 2 3 4 5 6 7 8 9]\n",
      "(10, 4)\n",
      "[0 1 2 3 4 5 6 7 8 9]\n",
      "[0 1 2 3 4 5 6 7 8 9]\n",
      "[0 1 2 3 4 5 6 7 8 9]\n",
      "[0 1 2 3 4 5 6 7 8 9]\n"
     ]
    },
    {
     "name": "stderr",
     "output_type": "stream",
     "text": [
      "\r",
      "  9%|▉         | 30/334 [00:02<00:24, 12.50it/s]"
     ]
    },
    {
     "name": "stdout",
     "output_type": "stream",
     "text": [
      "(8, 4)\n",
      "[0 1 2 3 4 5 6 7]\n",
      "[0 1 2 3 4 5 6 7]\n",
      "[0 1 2 3 4 5 6 7]\n",
      "[0 1 2 3 4 5 6 7]\n",
      "(8, 4)\n",
      "[0 1 2 3 4 5 6 7]\n",
      "[0 1 2 3 4 5 6 7]\n",
      "[0 1 2 3 4 5 6 7]\n",
      "[0 1 2 3 4 5 6 7]\n",
      "(8, 4)\n",
      "[0 1 2 3 4 5 6 7]\n",
      "[0 1 2 3 4 5 6 7]\n",
      "[0 1 2 3 4 5 6 7]\n",
      "[0 1 2 3 4 5 6 7]\n"
     ]
    },
    {
     "name": "stderr",
     "output_type": "stream",
     "text": [
      " 10%|█         | 34/334 [00:02<00:24, 12.50it/s]"
     ]
    },
    {
     "name": "stdout",
     "output_type": "stream",
     "text": [
      "(9, 4)\n",
      "[0 1 2 3 4 5 6 7 8]\n",
      "[0 1 2 3 4 5 6 7 8]\n",
      "[0 1 2 3 4 5 6 7 8]\n",
      "[0 1 2 3 4 5 6 7 8]\n",
      "(8, 4)\n",
      "[0 1 2 3 4 5 6 7]\n",
      "[0 1 2 3 4 5 6 7]\n",
      "[0 1 2 3 4 5 6 7]\n",
      "[0 1 2 3 4 5 6 7]\n",
      "(9, 4)\n",
      "[0 1 2 3 4 5 6 7 8]\n",
      "[0 1 2 3 4 5 6 7 8]\n",
      "[0 1 2 3 4 5 6 7 8]\n",
      "[0 1 2 3 4 5 6 7 8]\n"
     ]
    },
    {
     "name": "stderr",
     "output_type": "stream",
     "text": [
      "\r",
      " 11%|█         | 36/334 [00:02<00:23, 12.48it/s]"
     ]
    },
    {
     "name": "stdout",
     "output_type": "stream",
     "text": [
      "(7, 4)\n",
      "[0 1 2 3 4 5 6]\n",
      "[0 1 2 3 4 5 6]\n",
      "[0 1 2 3 4 5 6]\n",
      "[0 1 2 3 4 5 6]\n",
      "(10, 4)\n",
      "[0 1 2 3 4 5 6 7 8 9]\n",
      "[0 1 2 3 4 5 6 7 8 9]\n",
      "[0 1 2 3 4 5 6 7 8 9]\n",
      "[0 1 2 3 4 5 6 7 8 9]\n",
      "(10, 4)\n",
      "[0 1 2 3 4 5 6 7 8 9]\n",
      "[0 1 2 3 4 5 6 7 8 9]\n",
      "[0 1 2 3 4 5 6 7 8 9]\n",
      "[0 1 2 3 4 5 6 7 8 9]\n"
     ]
    },
    {
     "name": "stderr",
     "output_type": "stream",
     "text": [
      " 12%|█▏        | 40/334 [00:03<00:23, 12.48it/s]"
     ]
    },
    {
     "name": "stdout",
     "output_type": "stream",
     "text": [
      "(8, 4)\n",
      "[0 1 2 3 4 5 6 7]\n",
      "[0 1 2 3 4 5 6 7]\n",
      "[0 1 2 3 4 5 6 7]\n",
      "[0 1 2 3 4 5 6 7]\n",
      "(8, 4)\n",
      "[0 1 2 3 4 5 6 7]\n",
      "[0 1 2 3 4 5 6 7]\n",
      "[0 1 2 3 4 5 6 7]\n",
      "[0 1 2 3 4 5 6 7]\n",
      "(9, 4)\n",
      "[0 1 2 3 4 5 6 7 8]\n",
      "[0 1 2 3 4 5 6 7 8]\n",
      "[0 1 2 3 4 5 6 7 8]\n",
      "[0 1 2 3 4 5 6 7 8]\n"
     ]
    },
    {
     "name": "stderr",
     "output_type": "stream",
     "text": [
      "\r",
      " 13%|█▎        | 42/334 [00:03<00:23, 12.49it/s]"
     ]
    },
    {
     "name": "stdout",
     "output_type": "stream",
     "text": [
      "(10, 4)\n",
      "[0 1 2 3 4 5 6 7 8 9]\n",
      "[0 1 2 3 4 5 6 7 8 9]\n",
      "[0 1 2 3 4 5 6 7 8 9]\n",
      "[0 1 2 3 4 5 6 7 8 9]\n",
      "(8, 4)\n",
      "[0 1 2 3 4 5 6 7]\n",
      "[0 1 2 3 4 5 6 7]\n",
      "[0 1 2 3 4 5 6 7]\n",
      "[0 1 2 3 4 5 6 7]\n",
      "(9, 4)\n",
      "[0 1 2 3 4 5 6 7 8]\n",
      "[0 1 2 3 4 5 6 7 8]\n",
      "[0 1 2 3 4 5 6 7 8]\n",
      "[0 1 2 3 4 5 6 7 8]\n"
     ]
    },
    {
     "name": "stderr",
     "output_type": "stream",
     "text": [
      " 14%|█▍        | 46/334 [00:03<00:23, 12.48it/s]"
     ]
    },
    {
     "name": "stdout",
     "output_type": "stream",
     "text": [
      "(9, 4)\n",
      "[0 1 2 3 4 5 6 7 8]\n",
      "[0 1 2 3 4 5 6 7 8]\n",
      "[0 1 2 3 4 5 6 7 8]\n",
      "[0 1 2 3 4 5 6 7 8]\n",
      "(8, 4)\n",
      "[0 1 2 3 4 5 6 7]\n",
      "[0 1 2 3 4 5 6 7]\n",
      "[0 1 2 3 4 5 6 7]\n",
      "[0 1 2 3 4 5 6 7]\n",
      "(7, 4)\n",
      "[0 1 2 3 4 5 6]\n",
      "[0 1 2 3 4 5 6]\n",
      "[0 1 2 3 4 5 6]\n",
      "[0 1 2 3 4 5 6]\n"
     ]
    },
    {
     "name": "stderr",
     "output_type": "stream",
     "text": [
      "\r",
      " 14%|█▍        | 48/334 [00:03<00:22, 12.49it/s]"
     ]
    },
    {
     "name": "stdout",
     "output_type": "stream",
     "text": [
      "(9, 4)\n",
      "[0 1 2 3 4 5 6 7 8]\n",
      "[0 1 2 3 4 5 6 7 8]\n",
      "[0 1 2 3 4 5 6 7 8]\n",
      "[0 1 2 3 4 5 6 7 8]\n",
      "(9, 4)\n",
      "[0 1 2 3 4 5 6 7 8]\n",
      "[0 1 2 3 4 5 6 7 8]\n",
      "[0 1 2 3 4 5 6 7 8]\n",
      "[0 1 2 3 4 5 6 7 8]\n",
      "(10, 4)\n",
      "[0 1 2 3 4 5 6 7 8 9]\n",
      "[0 1 2 3 4 5 6 7 8 9]\n",
      "[0 1 2 3 4 5 6 7 8 9]\n",
      "[0 1 2 3 4 5 6 7 8 9]\n"
     ]
    },
    {
     "name": "stderr",
     "output_type": "stream",
     "text": [
      " 16%|█▌        | 52/334 [00:04<00:22, 12.48it/s]"
     ]
    },
    {
     "name": "stdout",
     "output_type": "stream",
     "text": [
      "(9, 4)\n",
      "[0 1 2 3 4 5 6 7 8]\n",
      "[0 1 2 3 4 5 6 7 8]\n",
      "[0 1 2 3 4 5 6 7 8]\n",
      "[0 1 2 3 4 5 6 7 8]\n",
      "(9, 4)\n",
      "[0 1 2 3 4 5 6 7 8]\n",
      "[0 1 2 3 4 5 6 7 8]\n",
      "[0 1 2 3 4 5 6 7 8]\n",
      "[0 1 2 3 4 5 6 7 8]\n",
      "(9, 4)\n",
      "[0 1 2 3 4 5 6 7 8]\n",
      "[0 1 2 3 4 5 6 7 8]\n",
      "[0 1 2 3 4 5 6 7 8]\n",
      "[0 1 2 3 4 5 6 7 8]\n"
     ]
    },
    {
     "name": "stderr",
     "output_type": "stream",
     "text": [
      "\r",
      " 16%|█▌        | 54/334 [00:04<00:22, 12.47it/s]"
     ]
    },
    {
     "name": "stdout",
     "output_type": "stream",
     "text": [
      "(7, 4)\n",
      "[0 1 2 3 4 5 6]\n",
      "[0 1 2 3 4 5 6]\n",
      "[0 1 2 3 4 5 6]\n",
      "[0 1 2 3 4 5 6]\n",
      "(7, 4)\n",
      "[0 1 2 3 4 5 6]\n",
      "[0 1 2 3 4 5 6]\n",
      "[0 1 2 3 4 5 6]\n",
      "[0 1 2 3 4 5 6]\n",
      "(8, 4)\n",
      "[0 1 2 3 4 5 6 7]\n",
      "[0 1 2 3 4 5 6 7]\n",
      "[0 1 2 3 4 5 6 7]\n",
      "[0 1 2 3 4 5 6 7]\n"
     ]
    },
    {
     "name": "stderr",
     "output_type": "stream",
     "text": [
      " 17%|█▋        | 58/334 [00:04<00:22, 12.48it/s]"
     ]
    },
    {
     "name": "stdout",
     "output_type": "stream",
     "text": [
      "(9, 4)\n",
      "[0 1 2 3 4 5 6 7 8]\n",
      "[0 1 2 3 4 5 6 7 8]\n",
      "[0 1 2 3 4 5 6 7 8]\n",
      "[0 1 2 3 4 5 6 7 8]\n",
      "(9, 4)\n",
      "[0 1 2 3 4 5 6 7 8]\n",
      "[0 1 2 3 4 5 6 7 8]\n",
      "[0 1 2 3 4 5 6 7 8]\n",
      "[0 1 2 3 4 5 6 7 8]\n",
      "(7, 4)\n",
      "[0 1 2 3 4 5 6]\n",
      "[0 1 2 3 4 5 6]\n",
      "[0 1 2 3 4 5 6]\n",
      "[0 1 2 3 4 5 6]\n"
     ]
    },
    {
     "name": "stderr",
     "output_type": "stream",
     "text": [
      "\r",
      " 18%|█▊        | 60/334 [00:04<00:21, 12.50it/s]"
     ]
    },
    {
     "name": "stdout",
     "output_type": "stream",
     "text": [
      "(10, 4)\n",
      "[0 1 2 3 4 5 6 7 8 9]\n",
      "[0 1 2 3 4 5 6 7 8 9]\n",
      "[0 1 2 3 4 5 6 7 8 9]\n",
      "[0 1 2 3 4 5 6 7 8 9]\n",
      "(7, 4)\n",
      "[0 1 2 3 4 5 6]\n",
      "[0 1 2 3 4 5 6]\n",
      "[0 1 2 3 4 5 6]\n",
      "[0 1 2 3 4 5 6]\n",
      "(10, 4)\n",
      "[0 1 2 3 4 5 6 7 8 9]\n",
      "[0 1 2 3 4 5 6 7 8 9]\n",
      "[0 1 2 3 4 5 6 7 8 9]\n",
      "[0 1 2 3 4 5 6 7 8 9]\n"
     ]
    },
    {
     "name": "stderr",
     "output_type": "stream",
     "text": [
      " 19%|█▉        | 64/334 [00:05<00:21, 12.50it/s]"
     ]
    },
    {
     "name": "stdout",
     "output_type": "stream",
     "text": [
      "(10, 4)\n",
      "[0 1 2 3 4 5 6 7 8 9]\n",
      "[0 1 2 3 4 5 6 7 8 9]\n",
      "[0 1 2 3 4 5 6 7 8 9]\n",
      "[0 1 2 3 4 5 6 7 8 9]\n",
      "(9, 4)\n",
      "[0 1 2 3 4 5 6 7 8]\n",
      "[0 1 2 3 4 5 6 7 8]\n",
      "[0 1 2 3 4 5 6 7 8]\n",
      "[0 1 2 3 4 5 6 7 8]\n",
      "(7, 4)\n",
      "[0 1 2 3 4 5 6]\n",
      "[0 1 2 3 4 5 6]\n",
      "[0 1 2 3 4 5 6]\n",
      "[0 1 2 3 4 5 6]\n"
     ]
    },
    {
     "name": "stderr",
     "output_type": "stream",
     "text": [
      "\r",
      " 20%|█▉        | 66/334 [00:05<00:21, 12.49it/s]"
     ]
    },
    {
     "name": "stdout",
     "output_type": "stream",
     "text": [
      "(9, 4)\n",
      "[0 1 2 3 4 5 6 7 8]\n",
      "[0 1 2 3 4 5 6 7 8]\n",
      "[0 1 2 3 4 5 6 7 8]\n",
      "[0 1 2 3 4 5 6 7 8]\n",
      "(7, 4)\n",
      "[0 1 2 3 4 5 6]\n",
      "[0 1 2 3 4 5 6]\n",
      "[0 1 2 3 4 5 6]\n",
      "[0 1 2 3 4 5 6]\n",
      "(9, 4)\n",
      "[0 1 2 3 4 5 6 7 8]\n",
      "[0 1 2 3 4 5 6 7 8]\n",
      "[0 1 2 3 4 5 6 7 8]\n",
      "[0 1 2 3 4 5 6 7 8]\n"
     ]
    },
    {
     "name": "stderr",
     "output_type": "stream",
     "text": [
      " 21%|██        | 70/334 [00:05<00:21, 12.52it/s]"
     ]
    },
    {
     "name": "stdout",
     "output_type": "stream",
     "text": [
      "(7, 4)\n",
      "[0 1 2 3 4 5 6]\n",
      "[0 1 2 3 4 5 6]\n",
      "[0 1 2 3 4 5 6]\n",
      "[0 1 2 3 4 5 6]\n",
      "(9, 4)\n",
      "[0 1 2 3 4 5 6 7 8]\n",
      "[0 1 2 3 4 5 6 7 8]\n",
      "[0 1 2 3 4 5 6 7 8]\n",
      "[0 1 2 3 4 5 6 7 8]\n",
      "(7, 4)\n",
      "[0 1 2 3 4 5 6]\n",
      "[0 1 2 3 4 5 6]\n",
      "[0 1 2 3 4 5 6]\n",
      "[0 1 2 3 4 5 6]\n"
     ]
    },
    {
     "name": "stderr",
     "output_type": "stream",
     "text": [
      "\r",
      " 22%|██▏       | 72/334 [00:05<00:20, 12.50it/s]"
     ]
    },
    {
     "name": "stdout",
     "output_type": "stream",
     "text": [
      "(7, 4)\n",
      "[0 1 2 3 4 5 6]\n",
      "[0 1 2 3 4 5 6]\n",
      "[0 1 2 3 4 5 6]\n",
      "[0 1 2 3 4 5 6]\n",
      "(7, 4)\n",
      "[0 1 2 3 4 5 6]\n",
      "[0 1 2 3 4 5 6]\n",
      "[0 1 2 3 4 5 6]\n",
      "[0 1 2 3 4 5 6]\n",
      "(8, 4)\n",
      "[0 1 2 3 4 5 6 7]\n",
      "[0 1 2 3 4 5 6 7]\n",
      "[0 1 2 3 4 5 6 7]\n",
      "[0 1 2 3 4 5 6 7]\n"
     ]
    },
    {
     "name": "stderr",
     "output_type": "stream",
     "text": [
      " 23%|██▎       | 76/334 [00:06<00:20, 12.50it/s]"
     ]
    },
    {
     "name": "stdout",
     "output_type": "stream",
     "text": [
      "(7, 4)\n",
      "[0 1 2 3 4 5 6]\n",
      "[0 1 2 3 4 5 6]\n",
      "[0 1 2 3 4 5 6]\n",
      "[0 1 2 3 4 5 6]\n",
      "(7, 4)\n",
      "[0 1 2 3 4 5 6]\n",
      "[0 1 2 3 4 5 6]\n",
      "[0 1 2 3 4 5 6]\n",
      "[0 1 2 3 4 5 6]\n",
      "(7, 4)\n",
      "[0 1 2 3 4 5 6]\n",
      "[0 1 2 3 4 5 6]\n",
      "[0 1 2 3 4 5 6]\n",
      "[0 1 2 3 4 5 6]\n"
     ]
    },
    {
     "name": "stderr",
     "output_type": "stream",
     "text": [
      "\r",
      " 23%|██▎       | 78/334 [00:06<00:20, 12.47it/s]"
     ]
    },
    {
     "name": "stdout",
     "output_type": "stream",
     "text": [
      "(9, 4)\n",
      "[0 1 2 3 4 5 6 7 8]\n",
      "[0 1 2 3 4 5 6 7 8]\n",
      "[0 1 2 3 4 5 6 7 8]\n",
      "[0 1 2 3 4 5 6 7 8]\n",
      "(7, 4)\n",
      "[0 1 2 3 4 5 6]\n",
      "[0 1 2 3 4 5 6]\n",
      "[0 1 2 3 4 5 6]\n",
      "[0 1 2 3 4 5 6]\n",
      "(9, 4)\n",
      "[0 1 2 3 4 5 6 7 8]\n",
      "[0 1 2 3 4 5 6 7 8]\n",
      "[0 1 2 3 4 5 6 7 8]\n",
      "[0 1 2 3 4 5 6 7 8]\n"
     ]
    },
    {
     "name": "stderr",
     "output_type": "stream",
     "text": [
      " 25%|██▍       | 82/334 [00:06<00:20, 12.50it/s]"
     ]
    },
    {
     "name": "stdout",
     "output_type": "stream",
     "text": [
      "(9, 4)\n",
      "[0 1 2 3 4 5 6 7 8]\n",
      "[0 1 2 3 4 5 6 7 8]\n",
      "[0 1 2 3 4 5 6 7 8]\n",
      "[0 1 2 3 4 5 6 7 8]\n",
      "(7, 4)\n",
      "[0 1 2 3 4 5 6]\n",
      "[0 1 2 3 4 5 6]\n",
      "[0 1 2 3 4 5 6]\n",
      "[0 1 2 3 4 5 6]\n",
      "(9, 4)\n",
      "[0 1 2 3 4 5 6 7 8]\n",
      "[0 1 2 3 4 5 6 7 8]\n",
      "[0 1 2 3 4 5 6 7 8]\n",
      "[0 1 2 3 4 5 6 7 8]\n"
     ]
    },
    {
     "name": "stderr",
     "output_type": "stream",
     "text": [
      "\r",
      " 25%|██▌       | 84/334 [00:06<00:20, 12.49it/s]"
     ]
    },
    {
     "name": "stdout",
     "output_type": "stream",
     "text": [
      "(7, 4)\n",
      "[0 1 2 3 4 5 6]\n",
      "[0 1 2 3 4 5 6]\n",
      "[0 1 2 3 4 5 6]\n",
      "[0 1 2 3 4 5 6]\n",
      "(9, 4)\n",
      "[0 1 2 3 4 5 6 7 8]\n",
      "[0 1 2 3 4 5 6 7 8]\n",
      "[0 1 2 3 4 5 6 7 8]\n",
      "[0 1 2 3 4 5 6 7 8]\n",
      "(9, 4)\n",
      "[0 1 2 3 4 5 6 7 8]\n",
      "[0 1 2 3 4 5 6 7 8]\n",
      "[0 1 2 3 4 5 6 7 8]\n",
      "[0 1 2 3 4 5 6 7 8]\n"
     ]
    },
    {
     "name": "stderr",
     "output_type": "stream",
     "text": [
      " 26%|██▋       | 88/334 [00:07<00:19, 12.50it/s]"
     ]
    },
    {
     "name": "stdout",
     "output_type": "stream",
     "text": [
      "(9, 4)\n",
      "[0 1 2 3 4 5 6 7 8]\n",
      "[0 1 2 3 4 5 6 7 8]\n",
      "[0 1 2 3 4 5 6 7 8]\n",
      "[0 1 2 3 4 5 6 7 8]\n",
      "(7, 4)\n",
      "[0 1 2 3 4 5 6]\n",
      "[0 1 2 3 4 5 6]\n",
      "[0 1 2 3 4 5 6]\n",
      "[0 1 2 3 4 5 6]\n",
      "(7, 4)\n",
      "[0 1 2 3 4 5 6]\n",
      "[0 1 2 3 4 5 6]\n",
      "[0 1 2 3 4 5 6]\n",
      "[0 1 2 3 4 5 6]\n"
     ]
    },
    {
     "name": "stderr",
     "output_type": "stream",
     "text": [
      "\r",
      " 27%|██▋       | 90/334 [00:07<00:19, 12.47it/s]"
     ]
    },
    {
     "name": "stdout",
     "output_type": "stream",
     "text": [
      "(9, 4)\n",
      "[0 1 2 3 4 5 6 7 8]\n",
      "[0 1 2 3 4 5 6 7 8]\n",
      "[0 1 2 3 4 5 6 7 8]\n",
      "[0 1 2 3 4 5 6 7 8]\n",
      "(9, 4)\n",
      "[0 1 2 3 4 5 6 7 8]\n",
      "[0 1 2 3 4 5 6 7 8]\n",
      "[0 1 2 3 4 5 6 7 8]\n",
      "[0 1 2 3 4 5 6 7 8]\n",
      "(7, 4)\n",
      "[0 1 2 3 4 5 6]\n",
      "[0 1 2 3 4 5 6]\n",
      "[0 1 2 3 4 5 6]\n",
      "[0 1 2 3 4 5 6]\n"
     ]
    },
    {
     "name": "stderr",
     "output_type": "stream",
     "text": [
      " 28%|██▊       | 94/334 [00:07<00:19, 12.41it/s]"
     ]
    },
    {
     "name": "stdout",
     "output_type": "stream",
     "text": [
      "(8, 4)\n",
      "[0 1 2 3 4 5 6 7]\n",
      "[0 1 2 3 4 5 6 7]\n",
      "[0 1 2 3 4 5 6 7]\n",
      "[0 1 2 3 4 5 6 7]\n",
      "(9, 4)\n",
      "[0 1 2 3 4 5 6 7 8]\n",
      "[0 1 2 3 4 5 6 7 8]\n",
      "[0 1 2 3 4 5 6 7 8]\n",
      "[0 1 2 3 4 5 6 7 8]\n",
      "(7, 4)\n",
      "[0 1 2 3 4 5 6]\n",
      "[0 1 2 3 4 5 6]\n",
      "[0 1 2 3 4 5 6]\n",
      "[0 1 2 3 4 5 6]\n"
     ]
    },
    {
     "name": "stderr",
     "output_type": "stream",
     "text": [
      "\r",
      " 29%|██▊       | 96/334 [00:07<00:19, 12.38it/s]"
     ]
    },
    {
     "name": "stdout",
     "output_type": "stream",
     "text": [
      "(7, 4)\n",
      "[0 1 2 3 4 5 6]\n",
      "[0 1 2 3 4 5 6]\n",
      "[0 1 2 3 4 5 6]\n",
      "[0 1 2 3 4 5 6]\n",
      "(7, 4)\n",
      "[0 1 2 3 4 5 6]\n",
      "[0 1 2 3 4 5 6]\n",
      "[0 1 2 3 4 5 6]\n",
      "[0 1 2 3 4 5 6]\n",
      "(9, 4)\n",
      "[0 1 2 3 4 5 6 7 8]\n",
      "[0 1 2 3 4 5 6 7 8]\n",
      "[0 1 2 3 4 5 6 7 8]\n",
      "[0 1 2 3 4 5 6 7 8]\n"
     ]
    },
    {
     "name": "stderr",
     "output_type": "stream",
     "text": [
      " 30%|██▉       | 100/334 [00:08<00:18, 12.41it/s]"
     ]
    },
    {
     "name": "stdout",
     "output_type": "stream",
     "text": [
      "(8, 4)\n",
      "[0 1 2 3 4 5 6 7]\n",
      "[0 1 2 3 4 5 6 7]\n",
      "[0 1 2 3 4 5 6 7]\n",
      "[0 1 2 3 4 5 6 7]\n",
      "(7, 4)\n",
      "[0 1 2 3 4 5 6]\n",
      "[0 1 2 3 4 5 6]\n",
      "[0 1 2 3 4 5 6]\n",
      "[0 1 2 3 4 5 6]\n",
      "(7, 4)\n",
      "[0 1 2 3 4 5 6]\n",
      "[0 1 2 3 4 5 6]\n",
      "[0 1 2 3 4 5 6]\n",
      "[0 1 2 3 4 5 6]\n"
     ]
    },
    {
     "name": "stderr",
     "output_type": "stream",
     "text": [
      "\r",
      " 31%|███       | 102/334 [00:08<00:18, 12.48it/s]"
     ]
    },
    {
     "name": "stdout",
     "output_type": "stream",
     "text": [
      "(0, 4)\n",
      "(0, 4)\n",
      "(0, 4)\n"
     ]
    },
    {
     "name": "stderr",
     "output_type": "stream",
     "text": [
      " 32%|███▏      | 106/334 [00:08<00:18, 12.58it/s]"
     ]
    },
    {
     "name": "stdout",
     "output_type": "stream",
     "text": [
      "(0, 4)\n",
      "(0, 4)\n",
      "(5, 4)\n",
      "[0 1 2 3 4]\n",
      "[0 1 2 3 4]\n",
      "[0 1 2 3 4]\n",
      "[0 1 2 3 4]\n"
     ]
    },
    {
     "name": "stderr",
     "output_type": "stream",
     "text": [
      "\r",
      " 32%|███▏      | 108/334 [00:08<00:18, 12.53it/s]"
     ]
    },
    {
     "name": "stdout",
     "output_type": "stream",
     "text": [
      "(10, 4)\n",
      "[0 1 2 3 4 5 6 7 8 9]\n",
      "[0 1 2 3 4 5 6 7 8 9]\n",
      "[0 1 2 3 4 5 6 7 8 9]\n",
      "[0 1 2 3 4 5 6 7 8 9]\n",
      "(9, 4)\n",
      "[0 1 2 3 4 5 6 7 8]\n",
      "[0 1 2 3 4 5 6 7 8]\n",
      "[0 1 2 3 4 5 6 7 8]\n",
      "[0 1 2 3 4 5 6 7 8]\n",
      "(11, 4)\n",
      "[ 0  1  2  3  4  5  6  7  8  9 10]\n",
      "[ 0  1  2  3  4  5  6  7  8  9 10]\n",
      "[ 0  1  2  3  4  5  6  7  8  9 10]\n",
      "[ 0  1  2  3  4  5  6  7  8  9 10]\n"
     ]
    },
    {
     "name": "stderr",
     "output_type": "stream",
     "text": [
      " 34%|███▎      | 112/334 [00:08<00:17, 12.48it/s]"
     ]
    },
    {
     "name": "stdout",
     "output_type": "stream",
     "text": [
      "(9, 4)\n",
      "[0 1 2 3 4 5 6 7 8]\n",
      "[0 1 2 3 4 5 6 7 8]\n",
      "[0 1 2 3 4 5 6 7 8]\n",
      "[0 1 2 3 4 5 6 7 8]\n",
      "(11, 4)\n",
      "[ 0  1  2  3  4  5  6  7  8  9 10]\n",
      "[ 0  1  2  3  4  5  6  7  8  9 10]\n",
      "[ 0  1  2  3  4  5  6  7  8  9 10]\n",
      "[ 0  1  2  3  4  5  6  7  8  9 10]\n",
      "(11, 4)\n",
      "[ 0  1  2  3  4  5  6  7  8  9 10]\n",
      "[ 0  1  2  3  4  5  6  7  8  9 10]\n",
      "[ 0  1  2  3  4  5  6  7  8  9 10]\n",
      "[ 0  1  2  3  4  5  6  7  8  9 10]\n"
     ]
    },
    {
     "name": "stderr",
     "output_type": "stream",
     "text": [
      "\r",
      " 34%|███▍      | 114/334 [00:09<00:17, 12.46it/s]"
     ]
    },
    {
     "name": "stdout",
     "output_type": "stream",
     "text": [
      "(10, 4)\n",
      "[0 1 2 3 4 5 6 7 8 9]\n",
      "[0 1 2 3 4 5 6 7 8 9]\n",
      "[0 1 2 3 4 5 6 7 8 9]\n",
      "[0 1 2 3 4 5 6 7 8 9]\n",
      "(9, 4)\n",
      "[0 1 2 3 4 5 6 7 8]\n",
      "[0 1 2 3 4 5 6 7 8]\n",
      "[0 1 2 3 4 5 6 7 8]\n",
      "[0 1 2 3 4 5 6 7 8]\n",
      "(8, 4)\n",
      "[0 1 2 3 4 5 6 7]\n",
      "[0 1 2 3 4 5 6 7]\n",
      "[0 1 2 3 4 5 6 7]\n",
      "[0 1 2 3 4 5 6 7]\n"
     ]
    },
    {
     "name": "stderr",
     "output_type": "stream",
     "text": [
      " 35%|███▌      | 118/334 [00:09<00:17, 12.45it/s]"
     ]
    },
    {
     "name": "stdout",
     "output_type": "stream",
     "text": [
      "(10, 4)\n",
      "[0 1 2 3 4 5 6 7 8 9]\n",
      "[0 1 2 3 4 5 6 7 8 9]\n",
      "[0 1 2 3 4 5 6 7 8 9]\n",
      "[0 1 2 3 4 5 6 7 8 9]\n",
      "(8, 4)\n",
      "[0 1 2 3 4 5 6 7]\n",
      "[0 1 2 3 4 5 6 7]\n",
      "[0 1 2 3 4 5 6 7]\n",
      "[0 1 2 3 4 5 6 7]\n",
      "(8, 4)\n",
      "[0 1 2 3 4 5 6 7]\n",
      "[0 1 2 3 4 5 6 7]\n",
      "[0 1 2 3 4 5 6 7]\n",
      "[0 1 2 3 4 5 6 7]\n"
     ]
    },
    {
     "name": "stderr",
     "output_type": "stream",
     "text": [
      "\r",
      " 36%|███▌      | 120/334 [00:09<00:17, 12.46it/s]"
     ]
    },
    {
     "name": "stdout",
     "output_type": "stream",
     "text": [
      "(9, 4)\n",
      "[0 1 2 3 4 5 6 7 8]\n",
      "[0 1 2 3 4 5 6 7 8]\n",
      "[0 1 2 3 4 5 6 7 8]\n",
      "[0 1 2 3 4 5 6 7 8]\n",
      "(9, 4)\n",
      "[0 1 2 3 4 5 6 7 8]\n",
      "[0 1 2 3 4 5 6 7 8]\n",
      "[0 1 2 3 4 5 6 7 8]\n",
      "[0 1 2 3 4 5 6 7 8]\n",
      "(10, 4)\n",
      "[0 1 2 3 4 5 6 7 8 9]\n",
      "[0 1 2 3 4 5 6 7 8 9]\n",
      "[0 1 2 3 4 5 6 7 8 9]\n",
      "[0 1 2 3 4 5 6 7 8 9]\n"
     ]
    },
    {
     "name": "stderr",
     "output_type": "stream",
     "text": [
      " 37%|███▋      | 124/334 [00:09<00:16, 12.45it/s]"
     ]
    },
    {
     "name": "stdout",
     "output_type": "stream",
     "text": [
      "(10, 4)\n",
      "[0 1 2 3 4 5 6 7 8 9]\n",
      "[0 1 2 3 4 5 6 7 8 9]\n",
      "[0 1 2 3 4 5 6 7 8 9]\n",
      "[0 1 2 3 4 5 6 7 8 9]\n",
      "(8, 4)\n",
      "[0 1 2 3 4 5 6 7]\n",
      "[0 1 2 3 4 5 6 7]\n",
      "[0 1 2 3 4 5 6 7]\n",
      "[0 1 2 3 4 5 6 7]\n",
      "(10, 4)\n",
      "[0 1 2 3 4 5 6 7 8 9]\n",
      "[0 1 2 3 4 5 6 7 8 9]\n",
      "[0 1 2 3 4 5 6 7 8 9]\n",
      "[0 1 2 3 4 5 6 7 8 9]\n"
     ]
    },
    {
     "name": "stderr",
     "output_type": "stream",
     "text": [
      "\r",
      " 38%|███▊      | 126/334 [00:10<00:16, 12.46it/s]"
     ]
    },
    {
     "name": "stdout",
     "output_type": "stream",
     "text": [
      "(8, 4)\n",
      "[0 1 2 3 4 5 6 7]\n",
      "[0 1 2 3 4 5 6 7]\n",
      "[0 1 2 3 4 5 6 7]\n",
      "[0 1 2 3 4 5 6 7]\n",
      "(10, 4)\n",
      "[0 1 2 3 4 5 6 7 8 9]\n",
      "[0 1 2 3 4 5 6 7 8 9]\n",
      "[0 1 2 3 4 5 6 7 8 9]\n",
      "[0 1 2 3 4 5 6 7 8 9]\n",
      "(10, 4)\n",
      "[0 1 2 3 4 5 6 7 8 9]\n",
      "[0 1 2 3 4 5 6 7 8 9]\n",
      "[0 1 2 3 4 5 6 7 8 9]\n",
      "[0 1 2 3 4 5 6 7 8 9]\n"
     ]
    },
    {
     "name": "stderr",
     "output_type": "stream",
     "text": [
      " 39%|███▉      | 130/334 [00:10<00:16, 12.46it/s]"
     ]
    },
    {
     "name": "stdout",
     "output_type": "stream",
     "text": [
      "(8, 4)\n",
      "[0 1 2 3 4 5 6 7]\n",
      "[0 1 2 3 4 5 6 7]\n",
      "[0 1 2 3 4 5 6 7]\n",
      "[0 1 2 3 4 5 6 7]\n",
      "(8, 4)\n",
      "[0 1 2 3 4 5 6 7]\n",
      "[0 1 2 3 4 5 6 7]\n",
      "[0 1 2 3 4 5 6 7]\n",
      "[0 1 2 3 4 5 6 7]\n",
      "(8, 4)\n",
      "[0 1 2 3 4 5 6 7]\n",
      "[0 1 2 3 4 5 6 7]\n",
      "[0 1 2 3 4 5 6 7]\n",
      "[0 1 2 3 4 5 6 7]\n"
     ]
    },
    {
     "name": "stderr",
     "output_type": "stream",
     "text": [
      "\r",
      " 40%|███▉      | 132/334 [00:10<00:16, 12.45it/s]"
     ]
    },
    {
     "name": "stdout",
     "output_type": "stream",
     "text": [
      "(9, 4)\n",
      "[0 1 2 3 4 5 6 7 8]\n",
      "[0 1 2 3 4 5 6 7 8]\n",
      "[0 1 2 3 4 5 6 7 8]\n",
      "[0 1 2 3 4 5 6 7 8]\n",
      "(8, 4)\n",
      "[0 1 2 3 4 5 6 7]\n",
      "[0 1 2 3 4 5 6 7]\n",
      "[0 1 2 3 4 5 6 7]\n",
      "[0 1 2 3 4 5 6 7]\n",
      "(8, 4)\n",
      "[0 1 2 3 4 5 6 7]\n",
      "[0 1 2 3 4 5 6 7]\n",
      "[0 1 2 3 4 5 6 7]\n",
      "[0 1 2 3 4 5 6 7]\n"
     ]
    },
    {
     "name": "stderr",
     "output_type": "stream",
     "text": [
      " 41%|████      | 136/334 [00:10<00:15, 12.48it/s]"
     ]
    },
    {
     "name": "stdout",
     "output_type": "stream",
     "text": [
      "(9, 4)\n",
      "[0 1 2 3 4 5 6 7 8]\n",
      "[0 1 2 3 4 5 6 7 8]\n",
      "[0 1 2 3 4 5 6 7 8]\n",
      "[0 1 2 3 4 5 6 7 8]\n",
      "(7, 4)\n",
      "[0 1 2 3 4 5 6]\n",
      "[0 1 2 3 4 5 6]\n",
      "[0 1 2 3 4 5 6]\n",
      "[0 1 2 3 4 5 6]\n",
      "(9, 4)\n",
      "[0 1 2 3 4 5 6 7 8]\n",
      "[0 1 2 3 4 5 6 7 8]\n",
      "[0 1 2 3 4 5 6 7 8]\n",
      "[0 1 2 3 4 5 6 7 8]\n"
     ]
    },
    {
     "name": "stderr",
     "output_type": "stream",
     "text": [
      "\r",
      " 41%|████▏     | 138/334 [00:11<00:15, 12.48it/s]"
     ]
    },
    {
     "name": "stdout",
     "output_type": "stream",
     "text": [
      "(9, 4)\n",
      "[0 1 2 3 4 5 6 7 8]\n",
      "[0 1 2 3 4 5 6 7 8]\n",
      "[0 1 2 3 4 5 6 7 8]\n",
      "[0 1 2 3 4 5 6 7 8]\n",
      "(7, 4)\n",
      "[0 1 2 3 4 5 6]\n",
      "[0 1 2 3 4 5 6]\n",
      "[0 1 2 3 4 5 6]\n",
      "[0 1 2 3 4 5 6]\n",
      "(7, 4)\n",
      "[0 1 2 3 4 5 6]\n",
      "[0 1 2 3 4 5 6]\n",
      "[0 1 2 3 4 5 6]\n",
      "[0 1 2 3 4 5 6]\n"
     ]
    },
    {
     "name": "stderr",
     "output_type": "stream",
     "text": [
      " 43%|████▎     | 142/334 [00:11<00:15, 12.49it/s]"
     ]
    },
    {
     "name": "stdout",
     "output_type": "stream",
     "text": [
      "(7, 4)\n",
      "[0 1 2 3 4 5 6]\n",
      "[0 1 2 3 4 5 6]\n",
      "[0 1 2 3 4 5 6]\n",
      "[0 1 2 3 4 5 6]\n",
      "(9, 4)\n",
      "[0 1 2 3 4 5 6 7 8]\n",
      "[0 1 2 3 4 5 6 7 8]\n",
      "[0 1 2 3 4 5 6 7 8]\n",
      "[0 1 2 3 4 5 6 7 8]\n",
      "(9, 4)\n",
      "[0 1 2 3 4 5 6 7 8]\n",
      "[0 1 2 3 4 5 6 7 8]\n",
      "[0 1 2 3 4 5 6 7 8]\n",
      "[0 1 2 3 4 5 6 7 8]\n"
     ]
    },
    {
     "name": "stderr",
     "output_type": "stream",
     "text": [
      "\r",
      " 43%|████▎     | 144/334 [00:11<00:15, 12.49it/s]"
     ]
    },
    {
     "name": "stdout",
     "output_type": "stream",
     "text": [
      "(9, 4)\n",
      "[0 1 2 3 4 5 6 7 8]\n",
      "[0 1 2 3 4 5 6 7 8]\n",
      "[0 1 2 3 4 5 6 7 8]\n",
      "[0 1 2 3 4 5 6 7 8]\n",
      "(9, 4)\n",
      "[0 1 2 3 4 5 6 7 8]\n",
      "[0 1 2 3 4 5 6 7 8]\n",
      "[0 1 2 3 4 5 6 7 8]\n",
      "[0 1 2 3 4 5 6 7 8]\n",
      "(7, 4)\n",
      "[0 1 2 3 4 5 6]\n",
      "[0 1 2 3 4 5 6]\n",
      "[0 1 2 3 4 5 6]\n",
      "[0 1 2 3 4 5 6]\n"
     ]
    },
    {
     "name": "stderr",
     "output_type": "stream",
     "text": [
      " 44%|████▍     | 148/334 [00:11<00:14, 12.51it/s]"
     ]
    },
    {
     "name": "stdout",
     "output_type": "stream",
     "text": [
      "(9, 4)\n",
      "[0 1 2 3 4 5 6 7 8]\n",
      "[0 1 2 3 4 5 6 7 8]\n",
      "[0 1 2 3 4 5 6 7 8]\n",
      "[0 1 2 3 4 5 6 7 8]\n",
      "(7, 4)\n",
      "[0 1 2 3 4 5 6]\n",
      "[0 1 2 3 4 5 6]\n",
      "[0 1 2 3 4 5 6]\n",
      "[0 1 2 3 4 5 6]\n",
      "(7, 4)\n",
      "[0 1 2 3 4 5 6]\n",
      "[0 1 2 3 4 5 6]\n",
      "[0 1 2 3 4 5 6]\n",
      "[0 1 2 3 4 5 6]\n"
     ]
    },
    {
     "name": "stderr",
     "output_type": "stream",
     "text": [
      "\r",
      " 45%|████▍     | 150/334 [00:12<00:14, 12.50it/s]"
     ]
    },
    {
     "name": "stdout",
     "output_type": "stream",
     "text": [
      "(7, 4)\n",
      "[0 1 2 3 4 5 6]\n",
      "[0 1 2 3 4 5 6]\n",
      "[0 1 2 3 4 5 6]\n",
      "[0 1 2 3 4 5 6]\n",
      "(9, 4)\n",
      "[0 1 2 3 4 5 6 7 8]\n",
      "[0 1 2 3 4 5 6 7 8]\n",
      "[0 1 2 3 4 5 6 7 8]\n",
      "[0 1 2 3 4 5 6 7 8]\n",
      "(9, 4)\n",
      "[0 1 2 3 4 5 6 7 8]\n",
      "[0 1 2 3 4 5 6 7 8]\n",
      "[0 1 2 3 4 5 6 7 8]\n",
      "[0 1 2 3 4 5 6 7 8]\n"
     ]
    },
    {
     "name": "stderr",
     "output_type": "stream",
     "text": [
      " 46%|████▌     | 154/334 [00:12<00:14, 12.51it/s]"
     ]
    },
    {
     "name": "stdout",
     "output_type": "stream",
     "text": [
      "(9, 4)\n",
      "[0 1 2 3 4 5 6 7 8]\n",
      "[0 1 2 3 4 5 6 7 8]\n",
      "[0 1 2 3 4 5 6 7 8]\n",
      "[0 1 2 3 4 5 6 7 8]\n",
      "(9, 4)\n",
      "[0 1 2 3 4 5 6 7 8]\n",
      "[0 1 2 3 4 5 6 7 8]\n",
      "[0 1 2 3 4 5 6 7 8]\n",
      "[0 1 2 3 4 5 6 7 8]\n",
      "(7, 4)\n",
      "[0 1 2 3 4 5 6]\n",
      "[0 1 2 3 4 5 6]\n",
      "[0 1 2 3 4 5 6]\n",
      "[0 1 2 3 4 5 6]\n"
     ]
    },
    {
     "name": "stderr",
     "output_type": "stream",
     "text": [
      "\r",
      " 47%|████▋     | 156/334 [00:12<00:14, 12.50it/s]"
     ]
    },
    {
     "name": "stdout",
     "output_type": "stream",
     "text": [
      "(9, 4)\n",
      "[0 1 2 3 4 5 6 7 8]\n",
      "[0 1 2 3 4 5 6 7 8]\n",
      "[0 1 2 3 4 5 6 7 8]\n",
      "[0 1 2 3 4 5 6 7 8]\n",
      "(7, 4)\n",
      "[0 1 2 3 4 5 6]\n",
      "[0 1 2 3 4 5 6]\n",
      "[0 1 2 3 4 5 6]\n",
      "[0 1 2 3 4 5 6]\n",
      "(9, 4)\n",
      "[0 1 2 3 4 5 6 7 8]\n",
      "[0 1 2 3 4 5 6 7 8]\n",
      "[0 1 2 3 4 5 6 7 8]\n",
      "[0 1 2 3 4 5 6 7 8]\n"
     ]
    },
    {
     "name": "stderr",
     "output_type": "stream",
     "text": [
      " 48%|████▊     | 160/334 [00:12<00:13, 12.46it/s]"
     ]
    },
    {
     "name": "stdout",
     "output_type": "stream",
     "text": [
      "(7, 4)\n",
      "[0 1 2 3 4 5 6]\n",
      "[0 1 2 3 4 5 6]\n",
      "[0 1 2 3 4 5 6]\n",
      "[0 1 2 3 4 5 6]\n",
      "(9, 4)\n",
      "[0 1 2 3 4 5 6 7 8]\n",
      "[0 1 2 3 4 5 6 7 8]\n",
      "[0 1 2 3 4 5 6 7 8]\n",
      "[0 1 2 3 4 5 6 7 8]\n",
      "(7, 4)\n",
      "[0 1 2 3 4 5 6]\n",
      "[0 1 2 3 4 5 6]\n",
      "[0 1 2 3 4 5 6]\n",
      "[0 1 2 3 4 5 6]\n"
     ]
    },
    {
     "name": "stderr",
     "output_type": "stream",
     "text": [
      "\r",
      " 49%|████▊     | 162/334 [00:12<00:13, 12.48it/s]"
     ]
    },
    {
     "name": "stdout",
     "output_type": "stream",
     "text": [
      "(7, 4)\n",
      "[0 1 2 3 4 5 6]\n",
      "[0 1 2 3 4 5 6]\n",
      "[0 1 2 3 4 5 6]\n",
      "[0 1 2 3 4 5 6]\n",
      "(9, 4)\n",
      "[0 1 2 3 4 5 6 7 8]\n",
      "[0 1 2 3 4 5 6 7 8]\n",
      "[0 1 2 3 4 5 6 7 8]\n",
      "[0 1 2 3 4 5 6 7 8]\n",
      "(9, 4)\n",
      "[0 1 2 3 4 5 6 7 8]\n",
      "[0 1 2 3 4 5 6 7 8]\n",
      "[0 1 2 3 4 5 6 7 8]\n",
      "[0 1 2 3 4 5 6 7 8]\n"
     ]
    },
    {
     "name": "stderr",
     "output_type": "stream",
     "text": [
      " 50%|████▉     | 166/334 [00:13<00:13, 12.51it/s]"
     ]
    },
    {
     "name": "stdout",
     "output_type": "stream",
     "text": [
      "(7, 4)\n",
      "[0 1 2 3 4 5 6]\n",
      "[0 1 2 3 4 5 6]\n",
      "[0 1 2 3 4 5 6]\n",
      "[0 1 2 3 4 5 6]\n",
      "(7, 4)\n",
      "[0 1 2 3 4 5 6]\n",
      "[0 1 2 3 4 5 6]\n",
      "[0 1 2 3 4 5 6]\n",
      "[0 1 2 3 4 5 6]\n",
      "(9, 4)\n",
      "[0 1 2 3 4 5 6 7 8]\n",
      "[0 1 2 3 4 5 6 7 8]\n",
      "[0 1 2 3 4 5 6 7 8]\n",
      "[0 1 2 3 4 5 6 7 8]\n"
     ]
    },
    {
     "name": "stderr",
     "output_type": "stream",
     "text": [
      "\r",
      " 50%|█████     | 168/334 [00:13<00:13, 12.49it/s]"
     ]
    },
    {
     "name": "stdout",
     "output_type": "stream",
     "text": [
      "(9, 4)\n",
      "[0 1 2 3 4 5 6 7 8]\n",
      "[0 1 2 3 4 5 6 7 8]\n",
      "[0 1 2 3 4 5 6 7 8]\n",
      "[0 1 2 3 4 5 6 7 8]\n",
      "(7, 4)\n",
      "[0 1 2 3 4 5 6]\n",
      "[0 1 2 3 4 5 6]\n",
      "[0 1 2 3 4 5 6]\n",
      "[0 1 2 3 4 5 6]\n",
      "(7, 4)\n",
      "[0 1 2 3 4 5 6]\n",
      "[0 1 2 3 4 5 6]\n",
      "[0 1 2 3 4 5 6]\n",
      "[0 1 2 3 4 5 6]\n"
     ]
    },
    {
     "name": "stderr",
     "output_type": "stream",
     "text": [
      " 51%|█████▏    | 172/334 [00:13<00:12, 12.47it/s]"
     ]
    },
    {
     "name": "stdout",
     "output_type": "stream",
     "text": [
      "(7, 4)\n",
      "[0 1 2 3 4 5 6]\n",
      "[0 1 2 3 4 5 6]\n",
      "[0 1 2 3 4 5 6]\n",
      "[0 1 2 3 4 5 6]\n",
      "(9, 4)\n",
      "[0 1 2 3 4 5 6 7 8]\n",
      "[0 1 2 3 4 5 6 7 8]\n",
      "[0 1 2 3 4 5 6 7 8]\n",
      "[0 1 2 3 4 5 6 7 8]\n",
      "(9, 4)\n",
      "[0 1 2 3 4 5 6 7 8]\n",
      "[0 1 2 3 4 5 6 7 8]\n",
      "[0 1 2 3 4 5 6 7 8]\n",
      "[0 1 2 3 4 5 6 7 8]\n"
     ]
    },
    {
     "name": "stderr",
     "output_type": "stream",
     "text": [
      "\r",
      " 52%|█████▏    | 174/334 [00:13<00:12, 12.46it/s]"
     ]
    },
    {
     "name": "stdout",
     "output_type": "stream",
     "text": [
      "(9, 4)\n",
      "[0 1 2 3 4 5 6 7 8]\n",
      "[0 1 2 3 4 5 6 7 8]\n",
      "[0 1 2 3 4 5 6 7 8]\n",
      "[0 1 2 3 4 5 6 7 8]\n",
      "(9, 4)\n",
      "[0 1 2 3 4 5 6 7 8]\n",
      "[0 1 2 3 4 5 6 7 8]\n",
      "[0 1 2 3 4 5 6 7 8]\n",
      "[0 1 2 3 4 5 6 7 8]\n",
      "(7, 4)\n",
      "[0 1 2 3 4 5 6]\n",
      "[0 1 2 3 4 5 6]\n",
      "[0 1 2 3 4 5 6]\n",
      "[0 1 2 3 4 5 6]\n"
     ]
    },
    {
     "name": "stderr",
     "output_type": "stream",
     "text": [
      " 53%|█████▎    | 178/334 [00:14<00:12, 12.51it/s]"
     ]
    },
    {
     "name": "stdout",
     "output_type": "stream",
     "text": [
      "(7, 4)\n",
      "[0 1 2 3 4 5 6]\n",
      "[0 1 2 3 4 5 6]\n",
      "[0 1 2 3 4 5 6]\n",
      "[0 1 2 3 4 5 6]\n",
      "(6, 4)\n",
      "[0 1 2 3 4 5]\n",
      "[0 1 2 3 4 5]\n",
      "[0 1 2 3 4 5]\n",
      "[0 1 2 3 4 5]\n",
      "(7, 4)\n",
      "[0 1 2 3 4 5 6]\n",
      "[0 1 2 3 4 5 6]\n",
      "[0 1 2 3 4 5 6]\n",
      "[0 1 2 3 4 5 6]\n"
     ]
    },
    {
     "name": "stderr",
     "output_type": "stream",
     "text": [
      "\r",
      " 54%|█████▍    | 180/334 [00:14<00:12, 12.50it/s]"
     ]
    },
    {
     "name": "stdout",
     "output_type": "stream",
     "text": [
      "(7, 4)\n",
      "[0 1 2 3 4 5 6]\n",
      "[0 1 2 3 4 5 6]\n",
      "[0 1 2 3 4 5 6]\n",
      "[0 1 2 3 4 5 6]\n",
      "(7, 4)\n",
      "[0 1 2 3 4 5 6]\n",
      "[0 1 2 3 4 5 6]\n",
      "[0 1 2 3 4 5 6]\n",
      "[0 1 2 3 4 5 6]\n",
      "(9, 4)\n",
      "[0 1 2 3 4 5 6 7 8]\n",
      "[0 1 2 3 4 5 6 7 8]\n",
      "[0 1 2 3 4 5 6 7 8]\n",
      "[0 1 2 3 4 5 6 7 8]\n"
     ]
    },
    {
     "name": "stderr",
     "output_type": "stream",
     "text": [
      " 55%|█████▌    | 184/334 [00:14<00:12, 12.48it/s]"
     ]
    },
    {
     "name": "stdout",
     "output_type": "stream",
     "text": [
      "(9, 4)\n",
      "[0 1 2 3 4 5 6 7 8]\n",
      "[0 1 2 3 4 5 6 7 8]\n",
      "[0 1 2 3 4 5 6 7 8]\n",
      "[0 1 2 3 4 5 6 7 8]\n",
      "(9, 4)\n",
      "[0 1 2 3 4 5 6 7 8]\n",
      "[0 1 2 3 4 5 6 7 8]\n",
      "[0 1 2 3 4 5 6 7 8]\n",
      "[0 1 2 3 4 5 6 7 8]\n",
      "(9, 4)\n",
      "[0 1 2 3 4 5 6 7 8]\n",
      "[0 1 2 3 4 5 6 7 8]\n",
      "[0 1 2 3 4 5 6 7 8]\n",
      "[0 1 2 3 4 5 6 7 8]\n"
     ]
    },
    {
     "name": "stderr",
     "output_type": "stream",
     "text": [
      "\r",
      " 56%|█████▌    | 186/334 [00:14<00:11, 12.50it/s]"
     ]
    },
    {
     "name": "stdout",
     "output_type": "stream",
     "text": [
      "(7, 4)\n",
      "[0 1 2 3 4 5 6]\n",
      "[0 1 2 3 4 5 6]\n",
      "[0 1 2 3 4 5 6]\n",
      "[0 1 2 3 4 5 6]\n",
      "(9, 4)\n",
      "[0 1 2 3 4 5 6 7 8]\n",
      "[0 1 2 3 4 5 6 7 8]\n",
      "[0 1 2 3 4 5 6 7 8]\n",
      "[0 1 2 3 4 5 6 7 8]\n",
      "(9, 4)\n",
      "[0 1 2 3 4 5 6 7 8]\n",
      "[0 1 2 3 4 5 6 7 8]\n",
      "[0 1 2 3 4 5 6 7 8]\n",
      "[0 1 2 3 4 5 6 7 8]\n"
     ]
    },
    {
     "name": "stderr",
     "output_type": "stream",
     "text": [
      " 57%|█████▋    | 190/334 [00:15<00:11, 12.50it/s]"
     ]
    },
    {
     "name": "stdout",
     "output_type": "stream",
     "text": [
      "(9, 4)\n",
      "[0 1 2 3 4 5 6 7 8]\n",
      "[0 1 2 3 4 5 6 7 8]\n",
      "[0 1 2 3 4 5 6 7 8]\n",
      "[0 1 2 3 4 5 6 7 8]\n",
      "(9, 4)\n",
      "[0 1 2 3 4 5 6 7 8]\n",
      "[0 1 2 3 4 5 6 7 8]\n",
      "[0 1 2 3 4 5 6 7 8]\n",
      "[0 1 2 3 4 5 6 7 8]\n",
      "(6, 4)\n",
      "[0 1 2 3 4 5]\n",
      "[0 1 2 3 4 5]\n",
      "[0 1 2 3 4 5]\n",
      "[0 1 2 3 4 5]\n"
     ]
    },
    {
     "name": "stderr",
     "output_type": "stream",
     "text": [
      "\r",
      " 57%|█████▋    | 192/334 [00:15<00:11, 12.50it/s]"
     ]
    },
    {
     "name": "stdout",
     "output_type": "stream",
     "text": [
      "(7, 4)\n",
      "[0 1 2 3 4 5 6]\n",
      "[0 1 2 3 4 5 6]\n",
      "[0 1 2 3 4 5 6]\n",
      "[0 1 2 3 4 5 6]\n",
      "(7, 4)\n",
      "[0 1 2 3 4 5 6]\n",
      "[0 1 2 3 4 5 6]\n",
      "[0 1 2 3 4 5 6]\n",
      "[0 1 2 3 4 5 6]\n",
      "(9, 4)\n",
      "[0 1 2 3 4 5 6 7 8]\n",
      "[0 1 2 3 4 5 6 7 8]\n",
      "[0 1 2 3 4 5 6 7 8]\n",
      "[0 1 2 3 4 5 6 7 8]\n"
     ]
    },
    {
     "name": "stderr",
     "output_type": "stream",
     "text": [
      " 59%|█████▊    | 196/334 [00:15<00:11, 12.43it/s]"
     ]
    },
    {
     "name": "stdout",
     "output_type": "stream",
     "text": [
      "(8, 4)\n",
      "[0 1 2 3 4 5 6 7]\n",
      "[0 1 2 3 4 5 6 7]\n",
      "[0 1 2 3 4 5 6 7]\n",
      "[0 1 2 3 4 5 6 7]\n",
      "(9, 4)\n",
      "[0 1 2 3 4 5 6 7 8]\n",
      "[0 1 2 3 4 5 6 7 8]\n",
      "[0 1 2 3 4 5 6 7 8]\n",
      "[0 1 2 3 4 5 6 7 8]\n",
      "(7, 4)\n",
      "[0 1 2 3 4 5 6]\n",
      "[0 1 2 3 4 5 6]\n",
      "[0 1 2 3 4 5 6]\n",
      "[0 1 2 3 4 5 6]\n"
     ]
    },
    {
     "name": "stderr",
     "output_type": "stream",
     "text": [
      "\r",
      " 59%|█████▉    | 198/334 [00:15<00:10, 12.45it/s]"
     ]
    },
    {
     "name": "stdout",
     "output_type": "stream",
     "text": [
      "(9, 4)\n",
      "[0 1 2 3 4 5 6 7 8]\n",
      "[0 1 2 3 4 5 6 7 8]\n",
      "[0 1 2 3 4 5 6 7 8]\n",
      "[0 1 2 3 4 5 6 7 8]\n",
      "(7, 4)\n",
      "[0 1 2 3 4 5 6]\n",
      "[0 1 2 3 4 5 6]\n",
      "[0 1 2 3 4 5 6]\n",
      "[0 1 2 3 4 5 6]\n",
      "(7, 4)\n",
      "[0 1 2 3 4 5 6]\n",
      "[0 1 2 3 4 5 6]\n",
      "[0 1 2 3 4 5 6]\n",
      "[0 1 2 3 4 5 6]\n"
     ]
    },
    {
     "name": "stderr",
     "output_type": "stream",
     "text": [
      " 60%|██████    | 202/334 [00:16<00:10, 12.47it/s]"
     ]
    },
    {
     "name": "stdout",
     "output_type": "stream",
     "text": [
      "(7, 4)\n",
      "[0 1 2 3 4 5 6]\n",
      "[0 1 2 3 4 5 6]\n",
      "[0 1 2 3 4 5 6]\n",
      "[0 1 2 3 4 5 6]\n",
      "(7, 4)\n",
      "[0 1 2 3 4 5 6]\n",
      "[0 1 2 3 4 5 6]\n",
      "[0 1 2 3 4 5 6]\n",
      "[0 1 2 3 4 5 6]\n",
      "(9, 4)\n",
      "[0 1 2 3 4 5 6 7 8]\n",
      "[0 1 2 3 4 5 6 7 8]\n",
      "[0 1 2 3 4 5 6 7 8]\n",
      "[0 1 2 3 4 5 6 7 8]\n"
     ]
    },
    {
     "name": "stderr",
     "output_type": "stream",
     "text": [
      "\r",
      " 61%|██████    | 204/334 [00:16<00:10, 12.47it/s]"
     ]
    },
    {
     "name": "stdout",
     "output_type": "stream",
     "text": [
      "(9, 4)\n",
      "[0 1 2 3 4 5 6 7 8]\n",
      "[0 1 2 3 4 5 6 7 8]\n",
      "[0 1 2 3 4 5 6 7 8]\n",
      "[0 1 2 3 4 5 6 7 8]\n",
      "(6, 4)\n",
      "[0 1 2 3 4 5]\n",
      "[0 1 2 3 4 5]\n",
      "[0 1 2 3 4 5]\n",
      "[0 1 2 3 4 5]\n",
      "(9, 4)\n",
      "[0 1 2 3 4 5 6 7 8]\n",
      "[0 1 2 3 4 5 6 7 8]\n",
      "[0 1 2 3 4 5 6 7 8]\n",
      "[0 1 2 3 4 5 6 7 8]\n"
     ]
    },
    {
     "name": "stderr",
     "output_type": "stream",
     "text": [
      " 62%|██████▏   | 208/334 [00:16<00:09, 12.64it/s]"
     ]
    },
    {
     "name": "stdout",
     "output_type": "stream",
     "text": [
      "(0, 4)\n",
      "(0, 4)\n",
      "(0, 4)\n"
     ]
    },
    {
     "name": "stderr",
     "output_type": "stream",
     "text": [
      "\r",
      " 63%|██████▎   | 210/334 [00:16<00:09, 12.71it/s]"
     ]
    },
    {
     "name": "stdout",
     "output_type": "stream",
     "text": [
      "(0, 4)\n",
      "(0, 4)\n",
      "(5, 4)\n",
      "[0 1 2 3 4]\n",
      "[0 1 2 3 4]\n",
      "[0 1 2 3 4]\n",
      "[0 1 2 3 4]\n"
     ]
    },
    {
     "name": "stderr",
     "output_type": "stream",
     "text": [
      " 64%|██████▍   | 214/334 [00:17<00:09, 12.62it/s]"
     ]
    },
    {
     "name": "stdout",
     "output_type": "stream",
     "text": [
      "(7, 4)\n",
      "[0 1 2 3 4 5 6]\n",
      "[0 1 2 3 4 5 6]\n",
      "[0 1 2 3 4 5 6]\n",
      "[0 1 2 3 4 5 6]\n",
      "(8, 4)\n",
      "[0 1 2 3 4 5 6 7]\n",
      "[0 1 2 3 4 5 6 7]\n",
      "[0 1 2 3 4 5 6 7]\n",
      "[0 1 2 3 4 5 6 7]\n",
      "(11, 4)\n",
      "[ 0  1  2  3  4  5  6  7  8  9 10]\n",
      "[ 0  1  2  3  4  5  6  7  8  9 10]\n",
      "[ 0  1  2  3  4  5  6  7  8  9 10]\n",
      "[ 0  1  2  3  4  5  6  7  8  9 10]\n"
     ]
    },
    {
     "name": "stderr",
     "output_type": "stream",
     "text": [
      "\r",
      " 65%|██████▍   | 216/334 [00:17<00:09, 12.56it/s]"
     ]
    },
    {
     "name": "stdout",
     "output_type": "stream",
     "text": [
      "(11, 4)\n",
      "[ 0  1  2  3  4  5  6  7  8  9 10]\n",
      "[ 0  1  2  3  4  5  6  7  8  9 10]\n",
      "[ 0  1  2  3  4  5  6  7  8  9 10]\n",
      "[ 0  1  2  3  4  5  6  7  8  9 10]\n",
      "(8, 4)\n",
      "[0 1 2 3 4 5 6 7]\n",
      "[0 1 2 3 4 5 6 7]\n",
      "[0 1 2 3 4 5 6 7]\n",
      "[0 1 2 3 4 5 6 7]\n",
      "(8, 4)\n",
      "[0 1 2 3 4 5 6 7]\n",
      "[0 1 2 3 4 5 6 7]\n",
      "[0 1 2 3 4 5 6 7]\n",
      "[0 1 2 3 4 5 6 7]\n"
     ]
    },
    {
     "name": "stderr",
     "output_type": "stream",
     "text": [
      " 66%|██████▌   | 220/334 [00:17<00:09, 12.50it/s]"
     ]
    },
    {
     "name": "stdout",
     "output_type": "stream",
     "text": [
      "(10, 4)\n",
      "[0 1 2 3 4 5 6 7 8 9]\n",
      "[0 1 2 3 4 5 6 7 8 9]\n",
      "[0 1 2 3 4 5 6 7 8 9]\n",
      "[0 1 2 3 4 5 6 7 8 9]\n",
      "(8, 4)\n",
      "[0 1 2 3 4 5 6 7]\n",
      "[0 1 2 3 4 5 6 7]\n",
      "[0 1 2 3 4 5 6 7]\n",
      "[0 1 2 3 4 5 6 7]\n",
      "(10, 4)\n",
      "[0 1 2 3 4 5 6 7 8 9]\n",
      "[0 1 2 3 4 5 6 7 8 9]\n",
      "[0 1 2 3 4 5 6 7 8 9]\n",
      "[0 1 2 3 4 5 6 7 8 9]\n"
     ]
    },
    {
     "name": "stderr",
     "output_type": "stream",
     "text": [
      "\r",
      " 66%|██████▋   | 222/334 [00:17<00:08, 12.49it/s]"
     ]
    },
    {
     "name": "stdout",
     "output_type": "stream",
     "text": [
      "(10, 4)\n",
      "[0 1 2 3 4 5 6 7 8 9]\n",
      "[0 1 2 3 4 5 6 7 8 9]\n",
      "[0 1 2 3 4 5 6 7 8 9]\n",
      "[0 1 2 3 4 5 6 7 8 9]\n",
      "(10, 4)\n",
      "[0 1 2 3 4 5 6 7 8 9]\n",
      "[0 1 2 3 4 5 6 7 8 9]\n",
      "[0 1 2 3 4 5 6 7 8 9]\n",
      "[0 1 2 3 4 5 6 7 8 9]\n",
      "(10, 4)\n",
      "[0 1 2 3 4 5 6 7 8 9]\n",
      "[0 1 2 3 4 5 6 7 8 9]\n",
      "[0 1 2 3 4 5 6 7 8 9]\n",
      "[0 1 2 3 4 5 6 7 8 9]\n"
     ]
    },
    {
     "name": "stderr",
     "output_type": "stream",
     "text": [
      " 68%|██████▊   | 226/334 [00:18<00:08, 12.41it/s]"
     ]
    },
    {
     "name": "stdout",
     "output_type": "stream",
     "text": [
      "(10, 4)\n",
      "[0 1 2 3 4 5 6 7 8 9]\n",
      "[0 1 2 3 4 5 6 7 8 9]\n",
      "[0 1 2 3 4 5 6 7 8 9]\n",
      "[0 1 2 3 4 5 6 7 8 9]\n",
      "(8, 4)\n",
      "[0 1 2 3 4 5 6 7]\n",
      "[0 1 2 3 4 5 6 7]\n",
      "[0 1 2 3 4 5 6 7]\n",
      "[0 1 2 3 4 5 6 7]\n",
      "(10, 4)\n",
      "[0 1 2 3 4 5 6 7 8 9]\n",
      "[0 1 2 3 4 5 6 7 8 9]\n",
      "[0 1 2 3 4 5 6 7 8 9]\n",
      "[0 1 2 3 4 5 6 7 8 9]\n"
     ]
    },
    {
     "name": "stderr",
     "output_type": "stream",
     "text": [
      "\r",
      " 68%|██████▊   | 228/334 [00:18<00:08, 12.44it/s]"
     ]
    },
    {
     "name": "stdout",
     "output_type": "stream",
     "text": [
      "(8, 4)\n",
      "[0 1 2 3 4 5 6 7]\n",
      "[0 1 2 3 4 5 6 7]\n",
      "[0 1 2 3 4 5 6 7]\n",
      "[0 1 2 3 4 5 6 7]\n",
      "(8, 4)\n",
      "[0 1 2 3 4 5 6 7]\n",
      "[0 1 2 3 4 5 6 7]\n",
      "[0 1 2 3 4 5 6 7]\n",
      "[0 1 2 3 4 5 6 7]\n",
      "(10, 4)\n",
      "[0 1 2 3 4 5 6 7 8 9]\n",
      "[0 1 2 3 4 5 6 7 8 9]\n",
      "[0 1 2 3 4 5 6 7 8 9]\n",
      "[0 1 2 3 4 5 6 7 8 9]\n"
     ]
    },
    {
     "name": "stderr",
     "output_type": "stream",
     "text": [
      " 69%|██████▉   | 232/334 [00:18<00:08, 12.44it/s]"
     ]
    },
    {
     "name": "stdout",
     "output_type": "stream",
     "text": [
      "(8, 4)\n",
      "[0 1 2 3 4 5 6 7]\n",
      "[0 1 2 3 4 5 6 7]\n",
      "[0 1 2 3 4 5 6 7]\n",
      "[0 1 2 3 4 5 6 7]\n",
      "(10, 4)\n",
      "[0 1 2 3 4 5 6 7 8 9]\n",
      "[0 1 2 3 4 5 6 7 8 9]\n",
      "[0 1 2 3 4 5 6 7 8 9]\n",
      "[0 1 2 3 4 5 6 7 8 9]\n",
      "(8, 4)\n",
      "[0 1 2 3 4 5 6 7]\n",
      "[0 1 2 3 4 5 6 7]\n",
      "[0 1 2 3 4 5 6 7]\n",
      "[0 1 2 3 4 5 6 7]\n"
     ]
    },
    {
     "name": "stderr",
     "output_type": "stream",
     "text": [
      "\r",
      " 70%|███████   | 234/334 [00:18<00:08, 12.43it/s]"
     ]
    },
    {
     "name": "stdout",
     "output_type": "stream",
     "text": [
      "(10, 4)\n",
      "[0 1 2 3 4 5 6 7 8 9]\n",
      "[0 1 2 3 4 5 6 7 8 9]\n",
      "[0 1 2 3 4 5 6 7 8 9]\n",
      "[0 1 2 3 4 5 6 7 8 9]\n",
      "(7, 4)\n",
      "[0 1 2 3 4 5 6]\n",
      "[0 1 2 3 4 5 6]\n",
      "[0 1 2 3 4 5 6]\n",
      "[0 1 2 3 4 5 6]\n",
      "(9, 4)\n",
      "[0 1 2 3 4 5 6 7 8]\n",
      "[0 1 2 3 4 5 6 7 8]\n",
      "[0 1 2 3 4 5 6 7 8]\n",
      "[0 1 2 3 4 5 6 7 8]\n"
     ]
    },
    {
     "name": "stderr",
     "output_type": "stream",
     "text": [
      " 71%|███████▏  | 238/334 [00:19<00:07, 12.44it/s]"
     ]
    },
    {
     "name": "stdout",
     "output_type": "stream",
     "text": [
      "(10, 4)\n",
      "[0 1 2 3 4 5 6 7 8 9]\n",
      "[0 1 2 3 4 5 6 7 8 9]\n",
      "[0 1 2 3 4 5 6 7 8 9]\n",
      "[0 1 2 3 4 5 6 7 8 9]\n",
      "(9, 4)\n",
      "[0 1 2 3 4 5 6 7 8]\n",
      "[0 1 2 3 4 5 6 7 8]\n",
      "[0 1 2 3 4 5 6 7 8]\n",
      "[0 1 2 3 4 5 6 7 8]\n",
      "(9, 4)\n",
      "[0 1 2 3 4 5 6 7 8]\n",
      "[0 1 2 3 4 5 6 7 8]\n",
      "[0 1 2 3 4 5 6 7 8]\n",
      "[0 1 2 3 4 5 6 7 8]\n"
     ]
    },
    {
     "name": "stderr",
     "output_type": "stream",
     "text": [
      "\r",
      " 72%|███████▏  | 240/334 [00:19<00:07, 12.44it/s]"
     ]
    },
    {
     "name": "stdout",
     "output_type": "stream",
     "text": [
      "(7, 4)\n",
      "[0 1 2 3 4 5 6]\n",
      "[0 1 2 3 4 5 6]\n",
      "[0 1 2 3 4 5 6]\n",
      "[0 1 2 3 4 5 6]\n",
      "(8, 4)\n",
      "[0 1 2 3 4 5 6 7]\n",
      "[0 1 2 3 4 5 6 7]\n",
      "[0 1 2 3 4 5 6 7]\n",
      "[0 1 2 3 4 5 6 7]\n",
      "(9, 4)\n",
      "[0 1 2 3 4 5 6 7 8]\n",
      "[0 1 2 3 4 5 6 7 8]\n",
      "[0 1 2 3 4 5 6 7 8]\n",
      "[0 1 2 3 4 5 6 7 8]\n"
     ]
    },
    {
     "name": "stderr",
     "output_type": "stream",
     "text": [
      " 73%|███████▎  | 244/334 [00:19<00:07, 12.43it/s]"
     ]
    },
    {
     "name": "stdout",
     "output_type": "stream",
     "text": [
      "(7, 4)\n",
      "[0 1 2 3 4 5 6]\n",
      "[0 1 2 3 4 5 6]\n",
      "[0 1 2 3 4 5 6]\n",
      "[0 1 2 3 4 5 6]\n",
      "(9, 4)\n",
      "[0 1 2 3 4 5 6 7 8]\n",
      "[0 1 2 3 4 5 6 7 8]\n",
      "[0 1 2 3 4 5 6 7 8]\n",
      "[0 1 2 3 4 5 6 7 8]\n",
      "(8, 4)\n",
      "[0 1 2 3 4 5 6 7]\n",
      "[0 1 2 3 4 5 6 7]\n",
      "[0 1 2 3 4 5 6 7]\n",
      "[0 1 2 3 4 5 6 7]\n"
     ]
    },
    {
     "name": "stderr",
     "output_type": "stream",
     "text": [
      "\r",
      " 74%|███████▎  | 246/334 [00:19<00:07, 12.43it/s]"
     ]
    },
    {
     "name": "stdout",
     "output_type": "stream",
     "text": [
      "(7, 4)\n",
      "[0 1 2 3 4 5 6]\n",
      "[0 1 2 3 4 5 6]\n",
      "[0 1 2 3 4 5 6]\n",
      "[0 1 2 3 4 5 6]\n",
      "(7, 4)\n",
      "[0 1 2 3 4 5 6]\n",
      "[0 1 2 3 4 5 6]\n",
      "[0 1 2 3 4 5 6]\n",
      "[0 1 2 3 4 5 6]\n",
      "(7, 4)\n",
      "[0 1 2 3 4 5 6]\n",
      "[0 1 2 3 4 5 6]\n",
      "[0 1 2 3 4 5 6]\n",
      "[0 1 2 3 4 5 6]\n"
     ]
    },
    {
     "name": "stderr",
     "output_type": "stream",
     "text": [
      " 75%|███████▍  | 250/334 [00:20<00:06, 12.45it/s]"
     ]
    },
    {
     "name": "stdout",
     "output_type": "stream",
     "text": [
      "(7, 4)\n",
      "[0 1 2 3 4 5 6]\n",
      "[0 1 2 3 4 5 6]\n",
      "[0 1 2 3 4 5 6]\n",
      "[0 1 2 3 4 5 6]\n",
      "(7, 4)\n",
      "[0 1 2 3 4 5 6]\n",
      "[0 1 2 3 4 5 6]\n",
      "[0 1 2 3 4 5 6]\n",
      "[0 1 2 3 4 5 6]\n",
      "(9, 4)\n",
      "[0 1 2 3 4 5 6 7 8]\n",
      "[0 1 2 3 4 5 6 7 8]\n",
      "[0 1 2 3 4 5 6 7 8]\n",
      "[0 1 2 3 4 5 6 7 8]\n"
     ]
    },
    {
     "name": "stderr",
     "output_type": "stream",
     "text": [
      "\r",
      " 75%|███████▌  | 252/334 [00:20<00:06, 12.46it/s]"
     ]
    },
    {
     "name": "stdout",
     "output_type": "stream",
     "text": [
      "(10, 4)\n",
      "[0 1 2 3 4 5 6 7 8 9]\n",
      "[0 1 2 3 4 5 6 7 8 9]\n",
      "[0 1 2 3 4 5 6 7 8 9]\n",
      "[0 1 2 3 4 5 6 7 8 9]\n",
      "(7, 4)\n",
      "[0 1 2 3 4 5 6]\n",
      "[0 1 2 3 4 5 6]\n",
      "[0 1 2 3 4 5 6]\n",
      "[0 1 2 3 4 5 6]\n",
      "(7, 4)\n",
      "[0 1 2 3 4 5 6]\n",
      "[0 1 2 3 4 5 6]\n",
      "[0 1 2 3 4 5 6]\n",
      "[0 1 2 3 4 5 6]\n"
     ]
    },
    {
     "name": "stderr",
     "output_type": "stream",
     "text": [
      " 77%|███████▋  | 256/334 [00:20<00:06, 12.49it/s]"
     ]
    },
    {
     "name": "stdout",
     "output_type": "stream",
     "text": [
      "(7, 4)\n",
      "[0 1 2 3 4 5 6]\n",
      "[0 1 2 3 4 5 6]\n",
      "[0 1 2 3 4 5 6]\n",
      "[0 1 2 3 4 5 6]\n",
      "(7, 4)\n",
      "[0 1 2 3 4 5 6]\n",
      "[0 1 2 3 4 5 6]\n",
      "[0 1 2 3 4 5 6]\n",
      "[0 1 2 3 4 5 6]\n",
      "(9, 4)\n",
      "[0 1 2 3 4 5 6 7 8]\n",
      "[0 1 2 3 4 5 6 7 8]\n",
      "[0 1 2 3 4 5 6 7 8]\n",
      "[0 1 2 3 4 5 6 7 8]\n"
     ]
    },
    {
     "name": "stderr",
     "output_type": "stream",
     "text": [
      "\r",
      " 77%|███████▋  | 258/334 [00:20<00:06, 12.47it/s]"
     ]
    },
    {
     "name": "stdout",
     "output_type": "stream",
     "text": [
      "(9, 4)\n",
      "[0 1 2 3 4 5 6 7 8]\n",
      "[0 1 2 3 4 5 6 7 8]\n",
      "[0 1 2 3 4 5 6 7 8]\n",
      "[0 1 2 3 4 5 6 7 8]\n",
      "(9, 4)\n",
      "[0 1 2 3 4 5 6 7 8]\n",
      "[0 1 2 3 4 5 6 7 8]\n",
      "[0 1 2 3 4 5 6 7 8]\n",
      "[0 1 2 3 4 5 6 7 8]\n",
      "(7, 4)\n",
      "[0 1 2 3 4 5 6]\n",
      "[0 1 2 3 4 5 6]\n",
      "[0 1 2 3 4 5 6]\n",
      "[0 1 2 3 4 5 6]\n"
     ]
    },
    {
     "name": "stderr",
     "output_type": "stream",
     "text": [
      " 78%|███████▊  | 262/334 [00:20<00:05, 12.45it/s]"
     ]
    },
    {
     "name": "stdout",
     "output_type": "stream",
     "text": [
      "(7, 4)\n",
      "[0 1 2 3 4 5 6]\n",
      "[0 1 2 3 4 5 6]\n",
      "[0 1 2 3 4 5 6]\n",
      "[0 1 2 3 4 5 6]\n",
      "(7, 4)\n",
      "[0 1 2 3 4 5 6]\n",
      "[0 1 2 3 4 5 6]\n",
      "[0 1 2 3 4 5 6]\n",
      "[0 1 2 3 4 5 6]\n",
      "(7, 4)\n",
      "[0 1 2 3 4 5 6]\n",
      "[0 1 2 3 4 5 6]\n",
      "[0 1 2 3 4 5 6]\n",
      "[0 1 2 3 4 5 6]\n"
     ]
    },
    {
     "name": "stderr",
     "output_type": "stream",
     "text": [
      "\r",
      " 79%|███████▉  | 264/334 [00:21<00:05, 12.45it/s]"
     ]
    },
    {
     "name": "stdout",
     "output_type": "stream",
     "text": [
      "(9, 4)\n",
      "[0 1 2 3 4 5 6 7 8]\n",
      "[0 1 2 3 4 5 6 7 8]\n",
      "[0 1 2 3 4 5 6 7 8]\n",
      "[0 1 2 3 4 5 6 7 8]\n",
      "(7, 4)\n",
      "[0 1 2 3 4 5 6]\n",
      "[0 1 2 3 4 5 6]\n",
      "[0 1 2 3 4 5 6]\n",
      "[0 1 2 3 4 5 6]\n",
      "(7, 4)\n",
      "[0 1 2 3 4 5 6]\n",
      "[0 1 2 3 4 5 6]\n",
      "[0 1 2 3 4 5 6]\n",
      "[0 1 2 3 4 5 6]\n"
     ]
    },
    {
     "name": "stderr",
     "output_type": "stream",
     "text": [
      " 80%|████████  | 268/334 [00:21<00:05, 12.46it/s]"
     ]
    },
    {
     "name": "stdout",
     "output_type": "stream",
     "text": [
      "(9, 4)\n",
      "[0 1 2 3 4 5 6 7 8]\n",
      "[0 1 2 3 4 5 6 7 8]\n",
      "[0 1 2 3 4 5 6 7 8]\n",
      "[0 1 2 3 4 5 6 7 8]\n",
      "(9, 4)\n",
      "[0 1 2 3 4 5 6 7 8]\n",
      "[0 1 2 3 4 5 6 7 8]\n",
      "[0 1 2 3 4 5 6 7 8]\n",
      "[0 1 2 3 4 5 6 7 8]\n",
      "(9, 4)\n",
      "[0 1 2 3 4 5 6 7 8]\n",
      "[0 1 2 3 4 5 6 7 8]\n",
      "[0 1 2 3 4 5 6 7 8]\n",
      "[0 1 2 3 4 5 6 7 8]\n"
     ]
    },
    {
     "name": "stderr",
     "output_type": "stream",
     "text": [
      "\r",
      " 81%|████████  | 270/334 [00:21<00:05, 12.45it/s]"
     ]
    },
    {
     "name": "stdout",
     "output_type": "stream",
     "text": [
      "(7, 4)\n",
      "[0 1 2 3 4 5 6]\n",
      "[0 1 2 3 4 5 6]\n",
      "[0 1 2 3 4 5 6]\n",
      "[0 1 2 3 4 5 6]\n",
      "(7, 4)\n",
      "[0 1 2 3 4 5 6]\n",
      "[0 1 2 3 4 5 6]\n",
      "[0 1 2 3 4 5 6]\n",
      "[0 1 2 3 4 5 6]\n",
      "(9, 4)\n",
      "[0 1 2 3 4 5 6 7 8]\n",
      "[0 1 2 3 4 5 6 7 8]\n",
      "[0 1 2 3 4 5 6 7 8]\n",
      "[0 1 2 3 4 5 6 7 8]\n"
     ]
    },
    {
     "name": "stderr",
     "output_type": "stream",
     "text": [
      " 82%|████████▏ | 274/334 [00:21<00:04, 12.48it/s]"
     ]
    },
    {
     "name": "stdout",
     "output_type": "stream",
     "text": [
      "(9, 4)\n",
      "[0 1 2 3 4 5 6 7 8]\n",
      "[0 1 2 3 4 5 6 7 8]\n",
      "[0 1 2 3 4 5 6 7 8]\n",
      "[0 1 2 3 4 5 6 7 8]\n",
      "(7, 4)\n",
      "[0 1 2 3 4 5 6]\n",
      "[0 1 2 3 4 5 6]\n",
      "[0 1 2 3 4 5 6]\n",
      "[0 1 2 3 4 5 6]\n",
      "(9, 4)\n",
      "[0 1 2 3 4 5 6 7 8]\n",
      "[0 1 2 3 4 5 6 7 8]\n",
      "[0 1 2 3 4 5 6 7 8]\n",
      "[0 1 2 3 4 5 6 7 8]\n"
     ]
    },
    {
     "name": "stderr",
     "output_type": "stream",
     "text": [
      "\r",
      " 83%|████████▎ | 276/334 [00:22<00:04, 12.46it/s]"
     ]
    },
    {
     "name": "stdout",
     "output_type": "stream",
     "text": [
      "(9, 4)\n",
      "[0 1 2 3 4 5 6 7 8]\n",
      "[0 1 2 3 4 5 6 7 8]\n",
      "[0 1 2 3 4 5 6 7 8]\n",
      "[0 1 2 3 4 5 6 7 8]\n",
      "(7, 4)\n",
      "[0 1 2 3 4 5 6]\n",
      "[0 1 2 3 4 5 6]\n",
      "[0 1 2 3 4 5 6]\n",
      "[0 1 2 3 4 5 6]\n",
      "(7, 4)\n",
      "[0 1 2 3 4 5 6]\n",
      "[0 1 2 3 4 5 6]\n",
      "[0 1 2 3 4 5 6]\n",
      "[0 1 2 3 4 5 6]\n"
     ]
    },
    {
     "name": "stderr",
     "output_type": "stream",
     "text": [
      " 84%|████████▍ | 280/334 [00:22<00:04, 12.50it/s]"
     ]
    },
    {
     "name": "stdout",
     "output_type": "stream",
     "text": [
      "(7, 4)\n",
      "[0 1 2 3 4 5 6]\n",
      "[0 1 2 3 4 5 6]\n",
      "[0 1 2 3 4 5 6]\n",
      "[0 1 2 3 4 5 6]\n",
      "(9, 4)\n",
      "[0 1 2 3 4 5 6 7 8]\n",
      "[0 1 2 3 4 5 6 7 8]\n",
      "[0 1 2 3 4 5 6 7 8]\n",
      "[0 1 2 3 4 5 6 7 8]\n",
      "(9, 4)\n",
      "[0 1 2 3 4 5 6 7 8]\n",
      "[0 1 2 3 4 5 6 7 8]\n",
      "[0 1 2 3 4 5 6 7 8]\n",
      "[0 1 2 3 4 5 6 7 8]\n"
     ]
    },
    {
     "name": "stderr",
     "output_type": "stream",
     "text": [
      "\r",
      " 84%|████████▍ | 282/334 [00:22<00:04, 12.50it/s]"
     ]
    },
    {
     "name": "stdout",
     "output_type": "stream",
     "text": [
      "(9, 4)\n",
      "[0 1 2 3 4 5 6 7 8]\n",
      "[0 1 2 3 4 5 6 7 8]\n",
      "[0 1 2 3 4 5 6 7 8]\n",
      "[0 1 2 3 4 5 6 7 8]\n",
      "(7, 4)\n",
      "[0 1 2 3 4 5 6]\n",
      "[0 1 2 3 4 5 6]\n",
      "[0 1 2 3 4 5 6]\n",
      "[0 1 2 3 4 5 6]\n",
      "(7, 4)\n",
      "[0 1 2 3 4 5 6]\n",
      "[0 1 2 3 4 5 6]\n",
      "[0 1 2 3 4 5 6]\n",
      "[0 1 2 3 4 5 6]\n"
     ]
    },
    {
     "name": "stderr",
     "output_type": "stream",
     "text": [
      " 86%|████████▌ | 286/334 [00:22<00:03, 12.53it/s]"
     ]
    },
    {
     "name": "stdout",
     "output_type": "stream",
     "text": [
      "(9, 4)\n",
      "[0 1 2 3 4 5 6 7 8]\n",
      "[0 1 2 3 4 5 6 7 8]\n",
      "[0 1 2 3 4 5 6 7 8]\n",
      "[0 1 2 3 4 5 6 7 8]\n",
      "(6, 4)\n",
      "[0 1 2 3 4 5]\n",
      "[0 1 2 3 4 5]\n",
      "[0 1 2 3 4 5]\n",
      "[0 1 2 3 4 5]\n",
      "(9, 4)\n",
      "[0 1 2 3 4 5 6 7 8]\n",
      "[0 1 2 3 4 5 6 7 8]\n",
      "[0 1 2 3 4 5 6 7 8]\n",
      "[0 1 2 3 4 5 6 7 8]\n"
     ]
    },
    {
     "name": "stderr",
     "output_type": "stream",
     "text": [
      "\r",
      " 86%|████████▌ | 288/334 [00:23<00:03, 12.50it/s]"
     ]
    },
    {
     "name": "stdout",
     "output_type": "stream",
     "text": [
      "(9, 4)\n",
      "[0 1 2 3 4 5 6 7 8]\n",
      "[0 1 2 3 4 5 6 7 8]\n",
      "[0 1 2 3 4 5 6 7 8]\n",
      "[0 1 2 3 4 5 6 7 8]\n",
      "(9, 4)\n",
      "[0 1 2 3 4 5 6 7 8]\n",
      "[0 1 2 3 4 5 6 7 8]\n",
      "[0 1 2 3 4 5 6 7 8]\n",
      "[0 1 2 3 4 5 6 7 8]\n",
      "(9, 4)\n",
      "[0 1 2 3 4 5 6 7 8]\n",
      "[0 1 2 3 4 5 6 7 8]\n",
      "[0 1 2 3 4 5 6 7 8]\n",
      "[0 1 2 3 4 5 6 7 8]\n"
     ]
    },
    {
     "name": "stderr",
     "output_type": "stream",
     "text": [
      " 87%|████████▋ | 292/334 [00:23<00:03, 12.51it/s]"
     ]
    },
    {
     "name": "stdout",
     "output_type": "stream",
     "text": [
      "(9, 4)\n",
      "[0 1 2 3 4 5 6 7 8]\n",
      "[0 1 2 3 4 5 6 7 8]\n",
      "[0 1 2 3 4 5 6 7 8]\n",
      "[0 1 2 3 4 5 6 7 8]\n",
      "(7, 4)\n",
      "[0 1 2 3 4 5 6]\n",
      "[0 1 2 3 4 5 6]\n",
      "[0 1 2 3 4 5 6]\n",
      "[0 1 2 3 4 5 6]\n",
      "(8, 4)\n",
      "[0 1 2 3 4 5 6 7]\n",
      "[0 1 2 3 4 5 6 7]\n",
      "[0 1 2 3 4 5 6 7]\n",
      "[0 1 2 3 4 5 6 7]\n"
     ]
    },
    {
     "name": "stderr",
     "output_type": "stream",
     "text": [
      "\r",
      " 88%|████████▊ | 294/334 [00:23<00:03, 12.49it/s]"
     ]
    },
    {
     "name": "stdout",
     "output_type": "stream",
     "text": [
      "(8, 4)\n",
      "[0 1 2 3 4 5 6 7]\n",
      "[0 1 2 3 4 5 6 7]\n",
      "[0 1 2 3 4 5 6 7]\n",
      "[0 1 2 3 4 5 6 7]\n",
      "(6, 4)\n",
      "[0 1 2 3 4 5]\n",
      "[0 1 2 3 4 5]\n",
      "[0 1 2 3 4 5]\n",
      "[0 1 2 3 4 5]\n",
      "(6, 4)\n",
      "[0 1 2 3 4 5]\n",
      "[0 1 2 3 4 5]\n",
      "[0 1 2 3 4 5]\n",
      "[0 1 2 3 4 5]\n"
     ]
    },
    {
     "name": "stderr",
     "output_type": "stream",
     "text": [
      " 89%|████████▉ | 298/334 [00:23<00:02, 12.50it/s]"
     ]
    },
    {
     "name": "stdout",
     "output_type": "stream",
     "text": [
      "(8, 4)\n",
      "[0 1 2 3 4 5 6 7]\n",
      "[0 1 2 3 4 5 6 7]\n",
      "[0 1 2 3 4 5 6 7]\n",
      "[0 1 2 3 4 5 6 7]\n",
      "(8, 4)\n",
      "[0 1 2 3 4 5 6 7]\n",
      "[0 1 2 3 4 5 6 7]\n",
      "[0 1 2 3 4 5 6 7]\n",
      "[0 1 2 3 4 5 6 7]\n",
      "(6, 4)\n",
      "[0 1 2 3 4 5]\n",
      "[0 1 2 3 4 5]\n",
      "[0 1 2 3 4 5]\n",
      "[0 1 2 3 4 5]\n"
     ]
    },
    {
     "name": "stderr",
     "output_type": "stream",
     "text": [
      "\r",
      " 90%|████████▉ | 300/334 [00:24<00:02, 12.48it/s]"
     ]
    },
    {
     "name": "stdout",
     "output_type": "stream",
     "text": [
      "(6, 4)\n",
      "[0 1 2 3 4 5]\n",
      "[0 1 2 3 4 5]\n",
      "[0 1 2 3 4 5]\n",
      "[0 1 2 3 4 5]\n",
      "(6, 4)\n",
      "[0 1 2 3 4 5]\n",
      "[0 1 2 3 4 5]\n",
      "[0 1 2 3 4 5]\n",
      "[0 1 2 3 4 5]\n",
      "(6, 4)\n",
      "[0 1 2 3 4 5]\n",
      "[0 1 2 3 4 5]\n",
      "[0 1 2 3 4 5]\n",
      "[0 1 2 3 4 5]\n"
     ]
    },
    {
     "name": "stderr",
     "output_type": "stream",
     "text": [
      " 91%|█████████ | 304/334 [00:24<00:02, 12.49it/s]"
     ]
    },
    {
     "name": "stdout",
     "output_type": "stream",
     "text": [
      "(8, 4)\n",
      "[0 1 2 3 4 5 6 7]\n",
      "[0 1 2 3 4 5 6 7]\n",
      "[0 1 2 3 4 5 6 7]\n",
      "[0 1 2 3 4 5 6 7]\n",
      "(6, 4)\n",
      "[0 1 2 3 4 5]\n",
      "[0 1 2 3 4 5]\n",
      "[0 1 2 3 4 5]\n",
      "[0 1 2 3 4 5]\n",
      "(6, 4)\n",
      "[0 1 2 3 4 5]\n",
      "[0 1 2 3 4 5]\n",
      "[0 1 2 3 4 5]\n",
      "[0 1 2 3 4 5]\n"
     ]
    },
    {
     "name": "stderr",
     "output_type": "stream",
     "text": [
      "\r",
      " 92%|█████████▏| 306/334 [00:24<00:02, 12.49it/s]"
     ]
    },
    {
     "name": "stdout",
     "output_type": "stream",
     "text": [
      "(9, 4)\n",
      "[0 1 2 3 4 5 6 7 8]\n",
      "[0 1 2 3 4 5 6 7 8]\n",
      "[0 1 2 3 4 5 6 7 8]\n",
      "[0 1 2 3 4 5 6 7 8]\n",
      "(6, 4)\n",
      "[0 1 2 3 4 5]\n",
      "[0 1 2 3 4 5]\n",
      "[0 1 2 3 4 5]\n",
      "[0 1 2 3 4 5]\n",
      "(8, 4)\n",
      "[0 1 2 3 4 5 6 7]\n",
      "[0 1 2 3 4 5 6 7]\n",
      "[0 1 2 3 4 5 6 7]\n",
      "[0 1 2 3 4 5 6 7]\n"
     ]
    },
    {
     "name": "stderr",
     "output_type": "stream",
     "text": [
      " 93%|█████████▎| 310/334 [00:24<00:01, 12.50it/s]"
     ]
    },
    {
     "name": "stdout",
     "output_type": "stream",
     "text": [
      "(6, 4)\n",
      "[0 1 2 3 4 5]\n",
      "[0 1 2 3 4 5]\n",
      "[0 1 2 3 4 5]\n",
      "[0 1 2 3 4 5]\n",
      "(6, 4)\n",
      "[0 1 2 3 4 5]\n",
      "[0 1 2 3 4 5]\n",
      "[0 1 2 3 4 5]\n",
      "[0 1 2 3 4 5]\n",
      "(6, 4)\n",
      "[0 1 2 3 4 5]\n",
      "[0 1 2 3 4 5]\n",
      "[0 1 2 3 4 5]\n",
      "[0 1 2 3 4 5]\n"
     ]
    },
    {
     "name": "stderr",
     "output_type": "stream",
     "text": [
      "\r",
      " 93%|█████████▎| 312/334 [00:24<00:01, 12.64it/s]"
     ]
    },
    {
     "name": "stdout",
     "output_type": "stream",
     "text": [
      "(0, 4)\n",
      "(0, 4)\n",
      "(0, 4)\n"
     ]
    },
    {
     "name": "stderr",
     "output_type": "stream",
     "text": [
      " 95%|█████████▍| 316/334 [00:25<00:01, 12.81it/s]"
     ]
    },
    {
     "name": "stdout",
     "output_type": "stream",
     "text": [
      "(0, 4)\n",
      "(0, 4)\n",
      "(1, 4)\n"
     ]
    },
    {
     "name": "stderr",
     "output_type": "stream",
     "text": [
      "\r",
      " 95%|█████████▌| 318/334 [00:25<00:01, 12.69it/s]"
     ]
    },
    {
     "name": "stdout",
     "output_type": "stream",
     "text": [
      "(6, 4)\n",
      "[0 1 2 3 4 5]\n",
      "[0 1 2 3 4 5]\n",
      "[0 1 2 3 4 5]\n",
      "[0 1 2 3 4 5]\n",
      "(11, 4)\n",
      "[ 0  1  2  3  4  5  6  7  8  9 10]\n",
      "[ 0  1  2  3  4  5  6  7  8  9 10]\n",
      "[ 0  1  2  3  4  5  6  7  8  9 10]\n",
      "[ 0  1  2  3  4  5  6  7  8  9 10]\n",
      "(9, 4)\n",
      "[0 1 2 3 4 5 6 7 8]\n",
      "[0 1 2 3 4 5 6 7 8]\n",
      "[0 1 2 3 4 5 6 7 8]\n",
      "[0 1 2 3 4 5 6 7 8]\n"
     ]
    },
    {
     "name": "stderr",
     "output_type": "stream",
     "text": [
      " 96%|█████████▋| 322/334 [00:25<00:00, 12.59it/s]"
     ]
    },
    {
     "name": "stdout",
     "output_type": "stream",
     "text": [
      "(9, 4)\n",
      "[0 1 2 3 4 5 6 7 8]\n",
      "[0 1 2 3 4 5 6 7 8]\n",
      "[0 1 2 3 4 5 6 7 8]\n",
      "[0 1 2 3 4 5 6 7 8]\n",
      "(10, 4)\n",
      "[0 1 2 3 4 5 6 7 8 9]\n",
      "[0 1 2 3 4 5 6 7 8 9]\n",
      "[0 1 2 3 4 5 6 7 8 9]\n",
      "[0 1 2 3 4 5 6 7 8 9]\n",
      "(9, 4)\n",
      "[0 1 2 3 4 5 6 7 8]\n",
      "[0 1 2 3 4 5 6 7 8]\n",
      "[0 1 2 3 4 5 6 7 8]\n",
      "[0 1 2 3 4 5 6 7 8]\n"
     ]
    },
    {
     "name": "stderr",
     "output_type": "stream",
     "text": [
      "\r",
      " 97%|█████████▋| 324/334 [00:25<00:00, 12.54it/s]"
     ]
    },
    {
     "name": "stdout",
     "output_type": "stream",
     "text": [
      "(9, 4)\n",
      "[0 1 2 3 4 5 6 7 8]\n",
      "[0 1 2 3 4 5 6 7 8]\n",
      "[0 1 2 3 4 5 6 7 8]\n",
      "[0 1 2 3 4 5 6 7 8]\n",
      "(7, 4)\n",
      "[0 1 2 3 4 5 6]\n",
      "[0 1 2 3 4 5 6]\n",
      "[0 1 2 3 4 5 6]\n",
      "[0 1 2 3 4 5 6]\n",
      "(7, 4)\n",
      "[0 1 2 3 4 5 6]\n",
      "[0 1 2 3 4 5 6]\n",
      "[0 1 2 3 4 5 6]\n",
      "[0 1 2 3 4 5 6]\n"
     ]
    },
    {
     "name": "stderr",
     "output_type": "stream",
     "text": [
      " 98%|█████████▊| 328/334 [00:26<00:00, 12.47it/s]"
     ]
    },
    {
     "name": "stdout",
     "output_type": "stream",
     "text": [
      "(7, 4)\n",
      "[0 1 2 3 4 5 6]\n",
      "[0 1 2 3 4 5 6]\n",
      "[0 1 2 3 4 5 6]\n",
      "[0 1 2 3 4 5 6]\n",
      "(9, 4)\n",
      "[0 1 2 3 4 5 6 7 8]\n",
      "[0 1 2 3 4 5 6 7 8]\n",
      "[0 1 2 3 4 5 6 7 8]\n",
      "[0 1 2 3 4 5 6 7 8]\n",
      "(7, 4)\n",
      "[0 1 2 3 4 5 6]\n",
      "[0 1 2 3 4 5 6]\n",
      "[0 1 2 3 4 5 6]\n",
      "[0 1 2 3 4 5 6]\n"
     ]
    },
    {
     "name": "stderr",
     "output_type": "stream",
     "text": [
      "\r",
      " 99%|█████████▉| 330/334 [00:26<00:00, 12.36it/s]"
     ]
    },
    {
     "name": "stdout",
     "output_type": "stream",
     "text": [
      "(870, 4)\n",
      "[  0   1   2   3   4   5   6   7   8   9  10  11  12  13  14  15  16  17\n",
      "  18  19  20  21  22  23  24  25  26  27  28  29  30  31  32  33  34  35\n",
      "  36  37  38  39  40  41  42  43  44  45  46  47  48  49  50  51  52  53\n",
      "  54  55  56  57  58  59  60  61  62  63  64  65  66  67  68  69  70  71\n",
      "  72  73  74  75  76  77  78  79  80  81  82  83  84  85  86  87  88  89\n",
      "  90  91  92  93  94  95  96  97  98  99 100 101 102 103 104 105 106 107\n",
      " 108 109 110 111 112 113 114 115 116 117 118 119 120 121 122 123 124 125\n",
      " 126 127 128 129 130 131 132 133 134 135 136 137 138 139 140 141 142 143\n",
      " 144 145 146 147 148 149 150 151 152 153 154 155 156 157 158 159 160 161\n",
      " 162 163 164 165 166 167 168 169 170 171 172 173 174 175 176 177 178 179\n",
      " 180 181 182 183 184 185 186 187 188 189 190 191 192 193 194 195 196 197\n",
      " 198 199 200 201 202 203 204 205 206 207 208 209 210 211 212 213 214 215\n",
      " 216 217 218 219 220 221 222 223 224 225 226 227 228 229 230 231 232 233\n",
      " 234 235 236 237 238 239 240 241 242 243 244 245 246 247 248 249 250 251\n",
      " 252 253 254 255 256 257 258 259 260 261 262 263 264 265 266 267 268 269\n",
      " 270 271 272 273 274 275 276 277 278 279 280 281 282 283 284 285 286 287\n",
      " 288 289 290 291 292 293 294 295 296 297 298 299 300 301 302 303 304 305\n",
      " 306 307 308 309 310 311 312 313 314 315 316 317 318 319 320 321 322 323\n",
      " 324 325 326 327 328 329 330 331 332 333 334 335 336 337 338 339 340 341\n",
      " 342 343 344 345 346 347 348 349 350 351 352 353 354 355 356 357 358 359\n",
      " 360 361 362 363 364 365 366 367 368 369 370 371 372 373 374 375 376 377\n",
      " 378 379 380 381 382 383 384 385 386 387 388 389 390 391 392 393 394 395\n",
      " 396 397 398 399 400 401 402 403 404 405 406 407 408 409 410 411 412 413\n",
      " 414 415 416 417 418 419 420 421 422 423 424 425 426 427 428 429 430 431\n",
      " 432 433 434 435 436 437 438 439 440 441 442 443 444 445 446 447 448 449\n",
      " 450 451 452 453 454 455 456 457 458 459 460 461 462 463 464 465 466 467\n",
      " 468 469 470 471 472 473 474 475 476 477 478 479 480 481 482 483 484 485\n",
      " 486 487 488 489 490 491 492 493 494 495 496 497 498 499 500 501 502 503\n",
      " 504 505 506 507 508 509 510 511 512 513 514 515 516 517 518 519 520 521\n",
      " 522 523 524 525 526 527 528 529 530 531 532 533 534 535 536 537 538 539\n",
      " 540 541 542 543 544 545 546 547 548 549 550 551 552 553 554 555 556 557\n",
      " 558 559 560 561 562 563 564 565 566 567 568 569 570 571 572 573 574 575\n",
      " 576 577 578 579 580 581 582 583 584 585 586 587 588 589 590 591 592 593\n",
      " 594 595 596 597 598 599 600 601 602 603 604 605 606 607 608 609 610 611\n",
      " 612 613 614 615 616 617 618 619 620 621 622 623 624 625 626 627 628 629\n",
      " 630 631 632 633 634 635 636 637 638 639 640 641 642 643 644 645 646 647\n",
      " 648 649 650 651 652 653 654 655 656 657 658 659 660 661 662 663 664 665\n",
      " 666 667 668 669 670 671 672 673 674 675 676 677 678 679 680 681 682 683\n",
      " 684 685 686 687 688 689 690 691 692 693 694 695 696 697 698 699 700 701\n",
      " 702 703 704 705 706 707 708 709 710 711 712 713 714 715 716 717 718 719\n",
      " 720 721 722 723 724 725 726 727 728 729 730 731 732 733 734 735 736 737\n",
      " 738 739 740 741 742 743 744 745 746 747 748 749 750 751 752 753 754 755\n",
      " 756 757 758 759 760 761 762 763 764 765 766 767 768 769 770 771 772 773\n",
      " 774 775 776 777 778 779 780 781 782 783 784 785 786 787 788 789 790 791\n",
      " 792 793 794 795 796 797 798 799 800 801 802 803 804 805 806 807 808 809\n",
      " 810 811 812 813 814 815 816 817 818 819 820 821 822 823 824 825 826 827\n",
      " 828 829 830 831 832 833 834 835 836 837 838 839 840 841 842 843 844 845\n",
      " 846 847 848 849 850 851 852 853 854 855 856 857 858 859 860 861 862 863\n",
      " 864 865 866 867 868 869]\n",
      "[  0   1   2   3   4   5   6   7   8   9  10  11  12  13  14  15  16  17\n",
      "  18  19  20  21  22  23  24  25  26  27  28  29  30  31  32  33  34  35\n",
      "  36  37  38  39  40  41  42  43  44  45  46  47  48  49  50  51  52  53\n",
      "  54  55  56  57  58  59  60  61  62  63  64  65  66  67  68  69  70  71\n",
      "  72  73  74  75  76  77  78  79  80  81  82  83  84  85  86  87  88  89\n",
      "  90  91  92  93  94  95  96  97  98  99 100 101 102 103 104 105 106 107\n",
      " 108 109 110 111 112 113 114 115 116 117 118 119 120 121 122 123 124 125\n",
      " 126 127 128 129 130 131 132 133 134 135 136 137 138 139 140 141 142 143\n",
      " 144 145 146 147 148 149 150 151 152 153 154 155 156 157 158 159 160 161\n",
      " 162 163 164 165 166 167 168 169 170 171 172 173 174 175 176 177 178 179\n",
      " 180 181 182 183 184 185 186 187 188 189 190 191 192 193 194 195 196 197\n",
      " 198 199 200 201 202 203 204 205 206 207 208 209 210 211 212 213 214 215\n",
      " 216 217 218 219 220 221 222 223 224 225 226 227 228 229 230 231 232 233\n",
      " 234 235 236 237 238 239 240 241 242 243 244 245 246 247 248 249 250 251\n",
      " 252 253 254 255 256 257 258 259 260 261 262 263 264 265 266 267 268 269\n",
      " 270 271 272 273 274 275 276 277 278 279 280 281 282 283 284 285 286 287\n",
      " 288 289 290 291 292 293 294 295 296 297 298 299 300 301 302 303 304 305\n",
      " 306 307 308 309 310 311 312 313 314 315 316 317 318 319 320 321 322 323\n",
      " 324 325 326 327 328 329 330 331 332 333 334 335 336 337 338 339 340 341\n",
      " 342 343 344 345 346 347 348 349 350 351 352 353 354 355 356 357 358 359\n",
      " 360 361 362 363 364 365 366 367 368 369 370 371 372 373 374 375 376 377\n",
      " 378 379 380 381 382 383 384 385 386 387 388 389 390 391 392 393 394 395\n",
      " 396 397 398 399 400 401 402 403 404 405 406 407 408 409 410 411 412 413\n",
      " 414 415 416 417 418 419 420 421 422 423 424 425 426 427 428 429 430 431\n",
      " 432 433 434 435 436 437 438 439 440 441 442 443 444 445 446 447 448 449\n",
      " 450 451 452 453 454 455 456 457 458 459 460 461 462 463 464 465 466 467\n",
      " 468 469 470 471 472 473 474 475 476 477 478 479 480 481 482 483 484 485\n",
      " 486 487 488 489 490 491 492 493 494 495 496 497 498 499 500 501 502 503\n",
      " 504 505 506 507 508 509 510 511 512 513 514 515 516 517 518 519 520 521\n",
      " 522 523 524 525 526 527 528 529 530 531 532 533 534 535 536 537 538 539\n",
      " 540 541 542 543 544 545 546 547 548 549 550 551 552 553 554 555 556 557\n",
      " 558 559 560 561 562 563 564 565 566 567 568 569 570 571 572 573 574 575\n",
      " 576 577 578 579 580 581 582 583 584 585 586 587 588 589 590 591 592 593\n",
      " 594 595 596 597 598 599 600 601 602 603 604 605 606 607 608 609 610 611\n",
      " 612 613 614 615 616 617 618 619 620 621 622 623 624 625 626 627 628 629\n",
      " 630 631 632 633 634 635 636 637 638 639 640 641 642 643 644 645 646 647\n",
      " 648 649 650 651 652 653 654 655 656 657 658 659 660 661 662 663 664 665\n",
      " 666 667 668 669 670 671 672 673 674 675 676 677 678 679 680 681 682 683\n",
      " 684 685 686 687 688 689 690 691 692 693 694 695 696 697 698 699 700 701\n",
      " 702 703 704 705 706 707 708 709 710 711 712 713 714 715 716 717 718 719\n",
      " 720 721 722 723 724 725 726 727 728 729 730 731 732 733 734 735 736 737\n",
      " 738 739 740 741 742 743 744 745 746 747 748 749 750 751 752 753 754 755\n",
      " 756 757 758 759 760 761 762 763 764 765 766 767 768 769 770 771 772 773\n",
      " 774 775 776 777 778 779 780 781 782 783 784 785 786 787 788 789 790 791\n",
      " 792 793 794 795 796 797 798 799 800 801 802 803 804 805 806 807 808 809\n",
      " 810 811 812 813 814 815 816 817 818 819 820 821 822 823 824 825 826 827\n",
      " 828 829 830 831 832 833 834 835 836 837 838 839 840 841 842 843 844 845\n",
      " 846 847 848 849 850 851 852 853 854 855 856 857 858 859 860 861 862 863\n",
      " 864 865 866 867 868 869]\n",
      "[  0   1   2   3   4   5   6   7   8   9  10  11  12  13  14  15  16  17\n",
      "  18  19  20  21  22  23  24  25  26  27  28  29  30  31  32  33  34  35\n",
      "  36  37  38  39  40  41  42  43  44  45  46  47  48  49  50  51  52  53\n",
      "  54  55  56  57  58  59  60  61  62  63  64  65  66  67  68  69  70  71\n",
      "  72  73  74  75  76  77  78  79  80  81  82  83  84  85  86  87  88  89\n",
      "  90  91  92  93  94  95  96  97  98  99 100 101 102 103 104 105 106 107\n",
      " 108 109 110 111 112 113 114 115 116 117 118 119 120 121 122 123 124 125\n",
      " 126 127 128 129 130 131 132 133 134 135 136 137 138 139 140 141 142 143\n",
      " 144 145 146 147 148 149 150 151 152 153 154 155 156 157 158 159 160 161\n",
      " 162 163 164 165 166 167 168 169 170 171 172 173 174 175 176 177 178 179\n",
      " 180 181 182 183 184 185 186 187 188 189 190 191 192 193 194 195 196 197\n",
      " 198 199 200 201 202 203 204 205 206 207 208 209 210 211 212 213 214 215\n",
      " 216 217 218 219 220 221 222 223 224 225 226 227 228 229 230 231 232 233\n",
      " 234 235 236 237 238 239 240 241 242 243 244 245 246 247 248 249 250 251\n",
      " 252 253 254 255 256 257 258 259 260 261 262 263 264 265 266 267 268 269\n",
      " 270 271 272 273 274 275 276 277 278 279 280 281 282 283 284 285 286 287\n",
      " 288 289 290 291 292 293 294 295 296 297 298 299 300 301 302 303 304 305\n",
      " 306 307 308 309 310 311 312 313 314 315 316 317 318 319 320 321 322 323\n",
      " 324 325 326 327 328 329 330 331 332 333 334 335 336 337 338 339 340 341\n",
      " 342 343 344 345 346 347 348 349 350 351 352 353 354 355 356 357 358 359\n",
      " 360 361 362 363 364 365 366 367 368 369 370 371 372 373 374 375 376 377\n",
      " 378 379 380 381 382 383 384 385 386 387 388 389 390 391 392 393 394 395\n",
      " 396 397 398 399 400 401 402 403 404 405 406 407 408 409 410 411 412 413\n",
      " 414 415 416 417 418 419 420 421 422 423 424 425 426 427 428 429 430 431\n",
      " 432 433 434 435 436 437 438 439 440 441 442 443 444 445 446 447 448 449\n",
      " 450 451 452 453 454 455 456 457 458 459 460 461 462 463 464 465 466 467\n",
      " 468 469 470 471 472 473 474 475 476 477 478 479 480 481 482 483 484 485\n",
      " 486 487 488 489 490 491 492 493 494 495 496 497 498 499 500 501 502 503\n",
      " 504 505 506 507 508 509 510 511 512 513 514 515 516 517 518 519 520 521\n",
      " 522 523 524 525 526 527 528 529 530 531 532 533 534 535 536 537 538 539\n",
      " 540 541 542 543 544 545 546 547 548 549 550 551 552 553 554 555 556 557\n",
      " 558 559 560 561 562 563 564 565 566 567 568 569 570 571 572 573 574 575\n",
      " 576 577 578 579 580 581 582 583 584 585 586 587 588 589 590 591 592 593\n",
      " 594 595 596 597 598 599 600 601 602 603 604 605 606 607 608 609 610 611\n",
      " 612 613 614 615 616 617 618 619 620 621 622 623 624 625 626 627 628 629\n",
      " 630 631 632 633 634 635 636 637 638 639 640 641 642 643 644 645 646 647\n",
      " 648 649 650 651 652 653 654 655 656 657 658 659 660 661 662 663 664 665\n",
      " 666 667 668 669 670 671 672 673 674 675 676 677 678 679 680 681 682 683\n",
      " 684 685 686 687 688 689 690 691 692 693 694 695 696 697 698 699 700 701\n",
      " 702 703 704 705 706 707 708 709 710 711 712 713 714 715 716 717 718 719\n",
      " 720 721 722 723 724 725 726 727 728 729 730 731 732 733 734 735 736 737\n",
      " 738 739 740 741 742 743 744 745 746 747 748 749 750 751 752 753 754 755\n",
      " 756 757 758 759 760 761 762 763 764 765 766 767 768 769 770 771 772 773\n",
      " 774 775 776 777 778 779 780 781 782 783 784 785 786 787 788 789 790 791\n",
      " 792 793 794 795 796 797 798 799 800 801 802 803 804 805 806 807 808 809\n",
      " 810 811 812 813 814 815 816 817 818 819 820 821 822 823 824 825 826 827\n",
      " 828 829 830 831 832 833 834 835 836 837 838 839 840 841 842 843 844 845\n",
      " 846 847 848 849 850 851 852 853 854 855 856 857 858 859 860 861 862 863\n",
      " 864 865 866 867 868 869]\n",
      "[  0   1   2   3   4   5   6   7   8   9  10  11  12  13  14  15  16  17\n",
      "  18  19  20  21  22  23  24  25  26  27  28  29  30  31  32  33  34  35\n",
      "  36  37  38  39  40  41  42  43  44  45  46  47  48  49  50  51  52  53\n",
      "  54  55  56  57  58  59  60  61  62  63  64  65  66  67  68  69  70  71\n",
      "  72  73  74  75  76  77  78  79  80  81  82  83  84  85  86  87  88  89\n",
      "  90  91  92  93  94  95  96  97  98  99 100 101 102 103 104 105 106 107\n",
      " 108 109 110 111 112 113 114 115 116 117 118 119 120 121 122 123 124 125\n",
      " 126 127 128 129 130 131 132 133 134 135 136 137 138 139 140 141 142 143\n",
      " 144 145 146 147 148 149 150 151 152 153 154 155 156 157 158 159 160 161\n",
      " 162 163 164 165 166 167 168 169 170 171 172 173 174 175 176 177 178 179\n",
      " 180 181 182 183 184 185 186 187 188 189 190 191 192 193 194 195 196 197\n",
      " 198 199 200 201 202 203 204 205 206 207 208 209 210 211 212 213 214 215\n",
      " 216 217 218 219 220 221 222 223 224 225 226 227 228 229 230 231 232 233\n",
      " 234 235 236 237 238 239 240 241 242 243 244 245 246 247 248 249 250 251\n",
      " 252 253 254 255 256 257 258 259 260 261 262 263 264 265 266 267 268 269\n",
      " 270 271 272 273 274 275 276 277 278 279 280 281 282 283 284 285 286 287\n",
      " 288 289 290 291 292 293 294 295 296 297 298 299 300 301 302 303 304 305\n",
      " 306 307 308 309 310 311 312 313 314 315 316 317 318 319 320 321 322 323\n",
      " 324 325 326 327 328 329 330 331 332 333 334 335 336 337 338 339 340 341\n",
      " 342 343 344 345 346 347 348 349 350 351 352 353 354 355 356 357 358 359\n",
      " 360 361 362 363 364 365 366 367 368 369 370 371 372 373 374 375 376 377\n",
      " 378 379 380 381 382 383 384 385 386 387 388 389 390 391 392 393 394 395\n",
      " 396 397 398 399 400 401 402 403 404 405 406 407 408 409 410 411 412 413\n",
      " 414 415 416 417 418 419 420 421 422 423 424 425 426 427 428 429 430 431\n",
      " 432 433 434 435 436 437 438 439 440 441 442 443 444 445 446 447 448 449\n",
      " 450 451 452 453 454 455 456 457 458 459 460 461 462 463 464 465 466 467\n",
      " 468 469 470 471 472 473 474 475 476 477 478 479 480 481 482 483 484 485\n",
      " 486 487 488 489 490 491 492 493 494 495 496 497 498 499 500 501 502 503\n",
      " 504 505 506 507 508 509 510 511 512 513 514 515 516 517 518 519 520 521\n",
      " 522 523 524 525 526 527 528 529 530 531 532 533 534 535 536 537 538 539\n",
      " 540 541 542 543 544 545 546 547 548 549 550 551 552 553 554 555 556 557\n",
      " 558 559 560 561 562 563 564 565 566 567 568 569 570 571 572 573 574 575\n",
      " 576 577 578 579 580 581 582 583 584 585 586 587 588 589 590 591 592 593\n",
      " 594 595 596 597 598 599 600 601 602 603 604 605 606 607 608 609 610 611\n",
      " 612 613 614 615 616 617 618 619 620 621 622 623 624 625 626 627 628 629\n",
      " 630 631 632 633 634 635 636 637 638 639 640 641 642 643 644 645 646 647\n",
      " 648 649 650 651 652 653 654 655 656 657 658 659 660 661 662 663 664 665\n",
      " 666 667 668 669 670 671 672 673 674 675 676 677 678 679 680 681 682 683\n",
      " 684 685 686 687 688 689 690 691 692 693 694 695 696 697 698 699 700 701\n",
      " 702 703 704 705 706 707 708 709 710 711 712 713 714 715 716 717 718 719\n",
      " 720 721 722 723 724 725 726 727 728 729 730 731 732 733 734 735 736 737\n",
      " 738 739 740 741 742 743 744 745 746 747 748 749 750 751 752 753 754 755\n",
      " 756 757 758 759 760 761 762 763 764 765 766 767 768 769 770 771 772 773\n",
      " 774 775 776 777 778 779 780 781 782 783 784 785 786 787 788 789 790 791\n",
      " 792 793 794 795 796 797 798 799 800 801 802 803 804 805 806 807 808 809\n",
      " 810 811 812 813 814 815 816 817 818 819 820 821 822 823 824 825 826 827\n",
      " 828 829 830 831 832 833 834 835 836 837 838 839 840 841 842 843 844 845\n",
      " 846 847 848 849 850 851 852 853 854 855 856 857 858 859 860 861 862 863\n",
      " 864 865 866 867 868 869]\n",
      "(0, 4)\n",
      "(0, 4)\n"
     ]
    },
    {
     "name": "stderr",
     "output_type": "stream",
     "text": [
      "100%|██████████| 334/334 [00:26<00:00, 12.49it/s]"
     ]
    },
    {
     "name": "stdout",
     "output_type": "stream",
     "text": [
      "(0, 4)\n",
      "(0, 4)\n",
      "(0, 4)\n"
     ]
    },
    {
     "name": "stderr",
     "output_type": "stream",
     "text": [
      "\n"
     ]
    },
    {
     "data": {
      "text/plain": [
       "array([[[ 3.501e+00, -9.680e+00,  4.347e+03,  6.154e-04],\n",
       "        [ 3.501e+00, -9.680e+00,  4.347e+03,  6.064e-04],\n",
       "        [ 3.501e+00, -9.680e+00,  4.347e+03,  5.977e-04],\n",
       "        ...,\n",
       "        [ 3.512e+00, -9.681e+00,  4.347e+03,  1.410e-04],\n",
       "        [ 3.512e+00, -9.681e+00,  4.347e+03,  1.365e-04],\n",
       "        [ 3.513e+00, -9.681e+00,  4.347e+03,  1.321e-04]],\n",
       "\n",
       "       [[ 3.501e+00, -9.680e+00,  4.348e+03,  6.705e-04],\n",
       "        [ 3.501e+00, -9.680e+00,  4.348e+03,  6.553e-04],\n",
       "        [ 3.501e+00, -9.680e+00,  4.348e+03,  6.407e-04],\n",
       "        ...,\n",
       "        [ 3.516e+00, -9.684e+00,  4.348e+03,  1.263e-04],\n",
       "        [ 3.516e+00, -9.684e+00,  4.348e+03,  1.217e-04],\n",
       "        [ 3.516e+00, -9.684e+00,  4.348e+03,  1.171e-04]],\n",
       "\n",
       "       [[ 3.501e+00, -9.680e+00,  4.349e+03,  7.033e-04],\n",
       "        [ 3.501e+00, -9.680e+00,  4.349e+03,  6.903e-04],\n",
       "        [ 3.501e+00, -9.680e+00,  4.349e+03,  6.776e-04],\n",
       "        ...,\n",
       "        [ 3.514e+00, -9.683e+00,  4.349e+03,  1.424e-04],\n",
       "        [ 3.514e+00, -9.683e+00,  4.349e+03,  1.376e-04],\n",
       "        [ 3.514e+00, -9.683e+00,  4.349e+03,  1.327e-04]],\n",
       "\n",
       "       ...,\n",
       "\n",
       "       [[ 3.501e+00, -9.680e+00,  4.672e+03,  4.063e-04],\n",
       "        [ 3.501e+00, -9.680e+00,  4.672e+03,  4.032e-04],\n",
       "        [ 3.501e+00, -9.680e+00,  4.672e+03,  4.002e-04],\n",
       "        ...,\n",
       "        [ 3.514e+00, -9.686e+00,  4.672e+03,  1.096e-04],\n",
       "        [ 3.514e+00, -9.686e+00,  4.672e+03,  1.066e-04],\n",
       "        [ 3.514e+00, -9.686e+00,  4.672e+03,  1.035e-04]],\n",
       "\n",
       "       [[ 3.501e+00, -9.680e+00,  4.673e+03,  3.881e-04],\n",
       "        [ 3.501e+00, -9.680e+00,  4.673e+03,  3.856e-04],\n",
       "        [ 3.501e+00, -9.680e+00,  4.673e+03,  3.831e-04],\n",
       "        ...,\n",
       "        [ 3.511e+00, -9.682e+00,  4.673e+03,  1.427e-04],\n",
       "        [ 3.511e+00, -9.682e+00,  4.673e+03,  1.401e-04],\n",
       "        [ 3.511e+00, -9.682e+00,  4.673e+03,  1.376e-04]],\n",
       "\n",
       "       [[ 2.701e+00, -6.919e-01,  4.674e+03,  4.242e+00],\n",
       "        [ 2.716e+00, -6.915e-01,  4.674e+03,  4.239e+00],\n",
       "        [ 2.731e+00, -6.917e-01,  4.674e+03,  4.235e+00],\n",
       "        ...,\n",
       "        [ 4.150e+00, -6.917e-01,  4.674e+03,  3.454e-04],\n",
       "        [ 4.165e+00, -6.917e-01,  4.674e+03,  8.710e-05],\n",
       "        [ 4.180e+00, -6.970e-01,  4.674e+03,  9.189e-06]]])"
      ]
     },
     "execution_count": 95,
     "metadata": {},
     "output_type": "execute_result"
    }
   ],
   "source": [
    "prep_features_per_cell(cell, n_points, interpol_kind='quadratic',\n",
    "                                                         columns=['voltage', 'current', 'cycle_index', 'discharge_capacity'])"
   ]
  },
  {
   "cell_type": "code",
   "execution_count": 83,
   "id": "1ca87ef0",
   "metadata": {},
   "outputs": [],
   "source": [
    "n_points=100\n",
    "columns=['voltage', 'current', 'cycle_index']\n",
    "interpol_kind='linear'"
   ]
  },
  {
   "cell_type": "code",
   "execution_count": 84,
   "id": "c96961b7",
   "metadata": {},
   "outputs": [
    {
     "data": {
      "text/plain": [
       "array([[ 3.501e+00, -9.682e+00,  4.346e+03],\n",
       "       [ 3.501e+00, -9.682e+00,  4.346e+03],\n",
       "       [ 3.501e+00, -9.682e+00,  4.346e+03],\n",
       "       [ 3.501e+00, -9.682e+00,  4.346e+03],\n",
       "       [ 3.501e+00, -9.682e+00,  4.346e+03],\n",
       "       [ 3.501e+00, -9.682e+00,  4.346e+03],\n",
       "       [ 3.501e+00, -9.682e+00,  4.346e+03],\n",
       "       [ 3.501e+00, -9.682e+00,  4.346e+03],\n",
       "       [ 3.501e+00, -9.682e+00,  4.346e+03],\n",
       "       [ 3.501e+00, -9.682e+00,  4.346e+03],\n",
       "       [ 3.501e+00, -9.682e+00,  4.346e+03],\n",
       "       [ 3.501e+00, -9.682e+00,  4.346e+03],\n",
       "       [ 3.501e+00, -9.682e+00,  4.346e+03],\n",
       "       [ 3.501e+00, -9.682e+00,  4.346e+03],\n",
       "       [ 3.501e+00, -9.682e+00,  4.346e+03],\n",
       "       [ 3.501e+00, -9.682e+00,  4.346e+03],\n",
       "       [ 3.501e+00, -9.682e+00,  4.346e+03],\n",
       "       [ 3.501e+00, -9.682e+00,  4.346e+03],\n",
       "       [ 3.501e+00, -9.682e+00,  4.346e+03],\n",
       "       [ 3.501e+00, -9.682e+00,  4.346e+03],\n",
       "       [ 3.501e+00, -9.682e+00,  4.346e+03],\n",
       "       [ 3.501e+00, -9.682e+00,  4.346e+03],\n",
       "       [ 3.501e+00, -9.682e+00,  4.346e+03],\n",
       "       [ 3.501e+00, -9.682e+00,  4.346e+03],\n",
       "       [ 3.501e+00, -9.682e+00,  4.346e+03],\n",
       "       [ 3.501e+00, -9.682e+00,  4.346e+03],\n",
       "       [ 3.501e+00, -9.682e+00,  4.346e+03],\n",
       "       [ 3.501e+00, -9.682e+00,  4.346e+03],\n",
       "       [ 3.501e+00, -9.682e+00,  4.346e+03],\n",
       "       [ 3.501e+00, -9.682e+00,  4.346e+03],\n",
       "       [ 3.501e+00, -9.682e+00,  4.346e+03],\n",
       "       [ 3.501e+00, -9.682e+00,  4.346e+03],\n",
       "       [ 3.501e+00, -9.682e+00,  4.346e+03],\n",
       "       [ 3.501e+00, -9.682e+00,  4.346e+03],\n",
       "       [ 3.501e+00, -9.682e+00,  4.346e+03],\n",
       "       [ 3.501e+00, -9.682e+00,  4.346e+03],\n",
       "       [ 3.501e+00, -9.682e+00,  4.346e+03],\n",
       "       [ 3.501e+00, -9.682e+00,  4.346e+03],\n",
       "       [ 3.501e+00, -9.682e+00,  4.346e+03],\n",
       "       [ 3.501e+00, -9.682e+00,  4.346e+03],\n",
       "       [ 3.501e+00, -9.682e+00,  4.346e+03],\n",
       "       [ 3.501e+00, -9.682e+00,  4.346e+03],\n",
       "       [ 3.501e+00, -9.682e+00,  4.346e+03],\n",
       "       [ 3.501e+00, -9.682e+00,  4.346e+03],\n",
       "       [ 3.501e+00, -9.682e+00,  4.346e+03],\n",
       "       [ 3.501e+00, -9.682e+00,  4.346e+03],\n",
       "       [ 3.501e+00, -9.682e+00,  4.346e+03],\n",
       "       [ 3.501e+00, -9.682e+00,  4.346e+03],\n",
       "       [ 3.501e+00, -9.682e+00,  4.346e+03],\n",
       "       [ 3.501e+00, -9.682e+00,  4.346e+03],\n",
       "       [ 3.501e+00, -9.682e+00,  4.346e+03],\n",
       "       [ 3.501e+00, -9.682e+00,  4.346e+03],\n",
       "       [ 3.501e+00, -9.682e+00,  4.346e+03],\n",
       "       [ 3.502e+00, -9.682e+00,  4.346e+03],\n",
       "       [ 3.502e+00, -9.682e+00,  4.346e+03],\n",
       "       [ 3.502e+00, -9.682e+00,  4.346e+03],\n",
       "       [ 3.502e+00, -9.682e+00,  4.346e+03],\n",
       "       [ 3.502e+00, -9.682e+00,  4.346e+03],\n",
       "       [ 3.502e+00, -9.682e+00,  4.346e+03],\n",
       "       [ 3.502e+00, -9.682e+00,  4.346e+03],\n",
       "       [ 3.502e+00, -9.682e+00,  4.346e+03],\n",
       "       [ 3.502e+00, -9.682e+00,  4.346e+03],\n",
       "       [ 3.502e+00, -9.682e+00,  4.346e+03],\n",
       "       [ 3.502e+00, -9.682e+00,  4.346e+03],\n",
       "       [ 3.502e+00, -9.682e+00,  4.346e+03],\n",
       "       [ 3.502e+00, -9.682e+00,  4.346e+03],\n",
       "       [ 3.502e+00, -9.682e+00,  4.346e+03],\n",
       "       [ 3.502e+00, -9.682e+00,  4.346e+03],\n",
       "       [ 3.502e+00, -9.682e+00,  4.346e+03],\n",
       "       [ 3.502e+00, -9.682e+00,  4.346e+03],\n",
       "       [ 3.502e+00, -9.682e+00,  4.346e+03],\n",
       "       [ 3.502e+00, -9.682e+00,  4.346e+03],\n",
       "       [ 3.502e+00, -9.682e+00,  4.346e+03],\n",
       "       [ 3.502e+00, -9.682e+00,  4.346e+03],\n",
       "       [ 3.502e+00, -9.682e+00,  4.346e+03],\n",
       "       [ 3.502e+00, -9.682e+00,  4.346e+03],\n",
       "       [ 3.502e+00, -9.682e+00,  4.346e+03],\n",
       "       [ 3.502e+00, -9.682e+00,  4.346e+03],\n",
       "       [ 3.502e+00, -9.682e+00,  4.346e+03],\n",
       "       [ 3.502e+00, -9.682e+00,  4.346e+03],\n",
       "       [ 3.502e+00, -9.682e+00,  4.346e+03],\n",
       "       [ 3.502e+00, -9.682e+00,  4.346e+03],\n",
       "       [ 3.502e+00, -9.682e+00,  4.346e+03],\n",
       "       [ 3.502e+00, -9.682e+00,  4.346e+03],\n",
       "       [ 3.502e+00, -9.682e+00,  4.346e+03],\n",
       "       [ 3.502e+00, -9.682e+00,  4.346e+03],\n",
       "       [ 3.502e+00, -9.682e+00,  4.346e+03],\n",
       "       [ 3.502e+00, -9.682e+00,  4.346e+03],\n",
       "       [ 3.502e+00, -9.682e+00,  4.346e+03],\n",
       "       [ 3.502e+00, -9.682e+00,  4.346e+03],\n",
       "       [ 3.502e+00, -9.682e+00,  4.346e+03],\n",
       "       [ 3.502e+00, -9.682e+00,  4.346e+03],\n",
       "       [ 3.502e+00, -9.682e+00,  4.346e+03],\n",
       "       [ 3.502e+00, -9.682e+00,  4.346e+03],\n",
       "       [ 3.502e+00, -9.682e+00,  4.346e+03],\n",
       "       [ 3.502e+00, -9.682e+00,  4.346e+03],\n",
       "       [ 3.502e+00, -9.682e+00,  4.346e+03],\n",
       "       [ 3.502e+00, -9.682e+00,  4.346e+03],\n",
       "       [ 3.502e+00, -9.682e+00,  4.346e+03],\n",
       "       [ 3.502e+00, -9.682e+00,  4.346e+03]])"
      ]
     },
     "execution_count": 84,
     "metadata": {},
     "output_type": "execute_result"
    }
   ],
   "source": [
    "\n",
    "from scipy.interpolate import interp1d\n",
    "interpol_cell_cycle_data = []\n",
    "for i,c in enumerate(columns):\n",
    "    x = np.arange(clean_dat[c].shape[0])\n",
    "    f_out = interp1d(x, np.array([clean_dat[c]]), kind=interpol_kind)\n",
    "    new_x = np.linspace(0,clean_dat[c].shape[0]-1, n_points)\n",
    "    interpol_y = f_out(new_x)\n",
    "    interpol_cell_cycle_data.append(interpol_y[0])\n",
    "np.array(interpol_cell_cycle_data).T"
   ]
  },
  {
   "cell_type": "code",
   "execution_count": 33,
   "id": "45f80b60",
   "metadata": {},
   "outputs": [],
   "source": [
    "def prep_features_per_cell(cell, n_points=100, columns=['voltage', 'current', 'cycle_index'], interpol_kind='linear'):\n",
    "    max_cycle_idx = max(cell.structured_data['cycle_index'])\n",
    "    interp_clean_cell = []\n",
    "    empty_cycles = []\n",
    "    for i in tqdm(range(max_cycle_idx)):\n",
    "        clean_dat = bye_cycle.clean_cycle_data(cell, i, columns=columns)\n",
    "        # Looks like there are some missing cycle measurements so ...\n",
    "        if clean_dat.shape[0] not in [0,1]:\n",
    "            interp_clean_cell.append(bye_cycle.interpol_cycle(clean_dat, n_points=n_points, columns=columns, interpol_kind=interpol_kind))\n",
    "        else:\n",
    "            empty_cycles.append(i)\n",
    "    interp_clean_cell = np.array(interp_clean_cell)\n",
    "    return interp_clean_cell"
   ]
  },
  {
   "cell_type": "code",
   "execution_count": 68,
   "id": "5c0cf5e3",
   "metadata": {},
   "outputs": [],
   "source": [
    "max_cycle_idx = max(cell.structured_data['cycle_index'])\n",
    "clean_dat = bye_cycle.clean_cycle_data(cell, 4346)\n",
    "a = bye_cycle.interpol_cycle(clean_dat, n_points=n_points, columns=columns, interpol_kind='linear')\n",
    "if clean_dat.shape[0] not in [0,1]:\n",
    "            interp_clean_cell.append(bye_cycle.interpol_cycle(clean_dat, n_points=n_points, columns=columns, interpol_kind='linear'))"
   ]
  },
  {
   "cell_type": "code",
   "execution_count": 69,
   "id": "bbcec866",
   "metadata": {},
   "outputs": [
    {
     "data": {
      "text/plain": [
       "array([[ 3.501e+00, -9.682e+00,  4.346e+03,  1.631e-04],\n",
       "       [ 3.501e+00, -9.682e+00,  4.346e+03,  1.628e-04],\n",
       "       [ 3.501e+00, -9.682e+00,  4.346e+03,  1.625e-04],\n",
       "       [ 3.501e+00, -9.682e+00,  4.346e+03,  1.622e-04],\n",
       "       [ 3.501e+00, -9.682e+00,  4.346e+03,  1.619e-04],\n",
       "       [ 3.501e+00, -9.682e+00,  4.346e+03,  1.616e-04],\n",
       "       [ 3.501e+00, -9.682e+00,  4.346e+03,  1.613e-04],\n",
       "       [ 3.501e+00, -9.682e+00,  4.346e+03,  1.610e-04],\n",
       "       [ 3.501e+00, -9.682e+00,  4.346e+03,  1.607e-04],\n",
       "       [ 3.501e+00, -9.682e+00,  4.346e+03,  1.604e-04],\n",
       "       [ 3.501e+00, -9.682e+00,  4.346e+03,  1.601e-04],\n",
       "       [ 3.501e+00, -9.682e+00,  4.346e+03,  1.598e-04],\n",
       "       [ 3.501e+00, -9.682e+00,  4.346e+03,  1.595e-04],\n",
       "       [ 3.501e+00, -9.682e+00,  4.346e+03,  1.592e-04],\n",
       "       [ 3.501e+00, -9.682e+00,  4.346e+03,  1.589e-04],\n",
       "       [ 3.501e+00, -9.682e+00,  4.346e+03,  1.586e-04],\n",
       "       [ 3.501e+00, -9.682e+00,  4.346e+03,  1.583e-04],\n",
       "       [ 3.501e+00, -9.682e+00,  4.346e+03,  1.580e-04],\n",
       "       [ 3.501e+00, -9.682e+00,  4.346e+03,  1.577e-04],\n",
       "       [ 3.501e+00, -9.682e+00,  4.346e+03,  1.574e-04],\n",
       "       [ 3.501e+00, -9.682e+00,  4.346e+03,  1.571e-04],\n",
       "       [ 3.501e+00, -9.682e+00,  4.346e+03,  1.568e-04],\n",
       "       [ 3.501e+00, -9.682e+00,  4.346e+03,  1.565e-04],\n",
       "       [ 3.501e+00, -9.682e+00,  4.346e+03,  1.562e-04],\n",
       "       [ 3.501e+00, -9.682e+00,  4.346e+03,  1.559e-04],\n",
       "       [ 3.501e+00, -9.682e+00,  4.346e+03,  1.556e-04],\n",
       "       [ 3.501e+00, -9.682e+00,  4.346e+03,  1.553e-04],\n",
       "       [ 3.501e+00, -9.682e+00,  4.346e+03,  1.550e-04],\n",
       "       [ 3.501e+00, -9.682e+00,  4.346e+03,  1.547e-04],\n",
       "       [ 3.501e+00, -9.682e+00,  4.346e+03,  1.544e-04],\n",
       "       [ 3.501e+00, -9.682e+00,  4.346e+03,  1.541e-04],\n",
       "       [ 3.501e+00, -9.682e+00,  4.346e+03,  1.538e-04],\n",
       "       [ 3.501e+00, -9.682e+00,  4.346e+03,  1.535e-04],\n",
       "       [ 3.501e+00, -9.682e+00,  4.346e+03,  1.532e-04],\n",
       "       [ 3.501e+00, -9.682e+00,  4.346e+03,  1.529e-04],\n",
       "       [ 3.501e+00, -9.682e+00,  4.346e+03,  1.527e-04],\n",
       "       [ 3.501e+00, -9.682e+00,  4.346e+03,  1.524e-04],\n",
       "       [ 3.501e+00, -9.682e+00,  4.346e+03,  1.521e-04],\n",
       "       [ 3.501e+00, -9.682e+00,  4.346e+03,  1.518e-04],\n",
       "       [ 3.501e+00, -9.682e+00,  4.346e+03,  1.515e-04],\n",
       "       [ 3.501e+00, -9.682e+00,  4.346e+03,  1.512e-04],\n",
       "       [ 3.501e+00, -9.682e+00,  4.346e+03,  1.509e-04],\n",
       "       [ 3.501e+00, -9.682e+00,  4.346e+03,  1.506e-04],\n",
       "       [ 3.501e+00, -9.682e+00,  4.346e+03,  1.503e-04],\n",
       "       [ 3.501e+00, -9.682e+00,  4.346e+03,  1.500e-04],\n",
       "       [ 3.501e+00, -9.682e+00,  4.346e+03,  1.497e-04],\n",
       "       [ 3.501e+00, -9.682e+00,  4.346e+03,  1.494e-04],\n",
       "       [ 3.501e+00, -9.682e+00,  4.346e+03,  1.491e-04],\n",
       "       [ 3.501e+00, -9.682e+00,  4.346e+03,  1.488e-04],\n",
       "       [ 3.501e+00, -9.682e+00,  4.346e+03,  1.485e-04],\n",
       "       [ 3.501e+00, -9.682e+00,  4.346e+03,  1.482e-04],\n",
       "       [ 3.501e+00, -9.682e+00,  4.346e+03,  1.479e-04],\n",
       "       [ 3.501e+00, -9.682e+00,  4.346e+03,  1.476e-04],\n",
       "       [ 3.502e+00, -9.682e+00,  4.346e+03,  1.473e-04],\n",
       "       [ 3.502e+00, -9.682e+00,  4.346e+03,  1.470e-04],\n",
       "       [ 3.502e+00, -9.682e+00,  4.346e+03,  1.467e-04],\n",
       "       [ 3.502e+00, -9.682e+00,  4.346e+03,  1.464e-04],\n",
       "       [ 3.502e+00, -9.682e+00,  4.346e+03,  1.461e-04],\n",
       "       [ 3.502e+00, -9.682e+00,  4.346e+03,  1.458e-04],\n",
       "       [ 3.502e+00, -9.682e+00,  4.346e+03,  1.455e-04],\n",
       "       [ 3.502e+00, -9.682e+00,  4.346e+03,  1.452e-04],\n",
       "       [ 3.502e+00, -9.682e+00,  4.346e+03,  1.449e-04],\n",
       "       [ 3.502e+00, -9.682e+00,  4.346e+03,  1.446e-04],\n",
       "       [ 3.502e+00, -9.682e+00,  4.346e+03,  1.443e-04],\n",
       "       [ 3.502e+00, -9.682e+00,  4.346e+03,  1.440e-04],\n",
       "       [ 3.502e+00, -9.682e+00,  4.346e+03,  1.437e-04],\n",
       "       [ 3.502e+00, -9.682e+00,  4.346e+03,  1.434e-04],\n",
       "       [ 3.502e+00, -9.682e+00,  4.346e+03,  1.431e-04],\n",
       "       [ 3.502e+00, -9.682e+00,  4.346e+03,  1.428e-04],\n",
       "       [ 3.502e+00, -9.682e+00,  4.346e+03,  1.425e-04],\n",
       "       [ 3.502e+00, -9.682e+00,  4.346e+03,  1.422e-04],\n",
       "       [ 3.502e+00, -9.682e+00,  4.346e+03,  1.419e-04],\n",
       "       [ 3.502e+00, -9.682e+00,  4.346e+03,  1.416e-04],\n",
       "       [ 3.502e+00, -9.682e+00,  4.346e+03,  1.413e-04],\n",
       "       [ 3.502e+00, -9.682e+00,  4.346e+03,  1.410e-04],\n",
       "       [ 3.502e+00, -9.682e+00,  4.346e+03,  1.407e-04],\n",
       "       [ 3.502e+00, -9.682e+00,  4.346e+03,  1.404e-04],\n",
       "       [ 3.502e+00, -9.682e+00,  4.346e+03,  1.401e-04],\n",
       "       [ 3.502e+00, -9.682e+00,  4.346e+03,  1.398e-04],\n",
       "       [ 3.502e+00, -9.682e+00,  4.346e+03,  1.395e-04],\n",
       "       [ 3.502e+00, -9.682e+00,  4.346e+03,  1.392e-04],\n",
       "       [ 3.502e+00, -9.682e+00,  4.346e+03,  1.389e-04],\n",
       "       [ 3.502e+00, -9.682e+00,  4.346e+03,  1.386e-04],\n",
       "       [ 3.502e+00, -9.682e+00,  4.346e+03,  1.383e-04],\n",
       "       [ 3.502e+00, -9.682e+00,  4.346e+03,  1.381e-04],\n",
       "       [ 3.502e+00, -9.682e+00,  4.346e+03,  1.378e-04],\n",
       "       [ 3.502e+00, -9.682e+00,  4.346e+03,  1.375e-04],\n",
       "       [ 3.502e+00, -9.682e+00,  4.346e+03,  1.372e-04],\n",
       "       [ 3.502e+00, -9.682e+00,  4.346e+03,  1.369e-04],\n",
       "       [ 3.502e+00, -9.682e+00,  4.346e+03,  1.366e-04],\n",
       "       [ 3.502e+00, -9.682e+00,  4.346e+03,  1.363e-04],\n",
       "       [ 3.502e+00, -9.682e+00,  4.346e+03,  1.360e-04],\n",
       "       [ 3.502e+00, -9.682e+00,  4.346e+03,  1.357e-04],\n",
       "       [ 3.502e+00, -9.682e+00,  4.346e+03,  1.354e-04],\n",
       "       [ 3.502e+00, -9.682e+00,  4.346e+03,  1.351e-04],\n",
       "       [ 3.502e+00, -9.682e+00,  4.346e+03,  1.348e-04],\n",
       "       [ 3.502e+00, -9.682e+00,  4.346e+03,  1.345e-04],\n",
       "       [ 3.502e+00, -9.682e+00,  4.346e+03,  1.342e-04],\n",
       "       [ 3.502e+00, -9.682e+00,  4.346e+03,  1.339e-04],\n",
       "       [ 3.502e+00, -9.682e+00,  4.346e+03,  1.336e-04]])"
      ]
     },
     "execution_count": 69,
     "metadata": {},
     "output_type": "execute_result"
    }
   ],
   "source": [
    "a"
   ]
  },
  {
   "cell_type": "code",
   "execution_count": 66,
   "id": "cbd174e7",
   "metadata": {},
   "outputs": [
    {
     "data": {
      "text/plain": [
       "[array([[ 3.501e+00, -9.682e+00,  4.346e+03,  1.631e-04],\n",
       "        [ 3.501e+00, -9.682e+00,  4.346e+03,  1.628e-04],\n",
       "        [ 3.501e+00, -9.682e+00,  4.346e+03,  1.625e-04],\n",
       "        [ 3.501e+00, -9.682e+00,  4.346e+03,  1.622e-04],\n",
       "        [ 3.501e+00, -9.682e+00,  4.346e+03,  1.619e-04],\n",
       "        [ 3.501e+00, -9.682e+00,  4.346e+03,  1.616e-04],\n",
       "        [ 3.501e+00, -9.682e+00,  4.346e+03,  1.613e-04],\n",
       "        [ 3.501e+00, -9.682e+00,  4.346e+03,  1.610e-04],\n",
       "        [ 3.501e+00, -9.682e+00,  4.346e+03,  1.607e-04],\n",
       "        [ 3.501e+00, -9.682e+00,  4.346e+03,  1.604e-04],\n",
       "        [ 3.501e+00, -9.682e+00,  4.346e+03,  1.601e-04],\n",
       "        [ 3.501e+00, -9.682e+00,  4.346e+03,  1.598e-04],\n",
       "        [ 3.501e+00, -9.682e+00,  4.346e+03,  1.595e-04],\n",
       "        [ 3.501e+00, -9.682e+00,  4.346e+03,  1.592e-04],\n",
       "        [ 3.501e+00, -9.682e+00,  4.346e+03,  1.589e-04],\n",
       "        [ 3.501e+00, -9.682e+00,  4.346e+03,  1.586e-04],\n",
       "        [ 3.501e+00, -9.682e+00,  4.346e+03,  1.583e-04],\n",
       "        [ 3.501e+00, -9.682e+00,  4.346e+03,  1.580e-04],\n",
       "        [ 3.501e+00, -9.682e+00,  4.346e+03,  1.577e-04],\n",
       "        [ 3.501e+00, -9.682e+00,  4.346e+03,  1.574e-04],\n",
       "        [ 3.501e+00, -9.682e+00,  4.346e+03,  1.571e-04],\n",
       "        [ 3.501e+00, -9.682e+00,  4.346e+03,  1.568e-04],\n",
       "        [ 3.501e+00, -9.682e+00,  4.346e+03,  1.565e-04],\n",
       "        [ 3.501e+00, -9.682e+00,  4.346e+03,  1.562e-04],\n",
       "        [ 3.501e+00, -9.682e+00,  4.346e+03,  1.559e-04],\n",
       "        [ 3.501e+00, -9.682e+00,  4.346e+03,  1.556e-04],\n",
       "        [ 3.501e+00, -9.682e+00,  4.346e+03,  1.553e-04],\n",
       "        [ 3.501e+00, -9.682e+00,  4.346e+03,  1.550e-04],\n",
       "        [ 3.501e+00, -9.682e+00,  4.346e+03,  1.547e-04],\n",
       "        [ 3.501e+00, -9.682e+00,  4.346e+03,  1.544e-04],\n",
       "        [ 3.501e+00, -9.682e+00,  4.346e+03,  1.541e-04],\n",
       "        [ 3.501e+00, -9.682e+00,  4.346e+03,  1.538e-04],\n",
       "        [ 3.501e+00, -9.682e+00,  4.346e+03,  1.535e-04],\n",
       "        [ 3.501e+00, -9.682e+00,  4.346e+03,  1.532e-04],\n",
       "        [ 3.501e+00, -9.682e+00,  4.346e+03,  1.529e-04],\n",
       "        [ 3.501e+00, -9.682e+00,  4.346e+03,  1.527e-04],\n",
       "        [ 3.501e+00, -9.682e+00,  4.346e+03,  1.524e-04],\n",
       "        [ 3.501e+00, -9.682e+00,  4.346e+03,  1.521e-04],\n",
       "        [ 3.501e+00, -9.682e+00,  4.346e+03,  1.518e-04],\n",
       "        [ 3.501e+00, -9.682e+00,  4.346e+03,  1.515e-04],\n",
       "        [ 3.501e+00, -9.682e+00,  4.346e+03,  1.512e-04],\n",
       "        [ 3.501e+00, -9.682e+00,  4.346e+03,  1.509e-04],\n",
       "        [ 3.501e+00, -9.682e+00,  4.346e+03,  1.506e-04],\n",
       "        [ 3.501e+00, -9.682e+00,  4.346e+03,  1.503e-04],\n",
       "        [ 3.501e+00, -9.682e+00,  4.346e+03,  1.500e-04],\n",
       "        [ 3.501e+00, -9.682e+00,  4.346e+03,  1.497e-04],\n",
       "        [ 3.501e+00, -9.682e+00,  4.346e+03,  1.494e-04],\n",
       "        [ 3.501e+00, -9.682e+00,  4.346e+03,  1.491e-04],\n",
       "        [ 3.501e+00, -9.682e+00,  4.346e+03,  1.488e-04],\n",
       "        [ 3.501e+00, -9.682e+00,  4.346e+03,  1.485e-04],\n",
       "        [ 3.501e+00, -9.682e+00,  4.346e+03,  1.482e-04],\n",
       "        [ 3.501e+00, -9.682e+00,  4.346e+03,  1.479e-04],\n",
       "        [ 3.501e+00, -9.682e+00,  4.346e+03,  1.476e-04],\n",
       "        [ 3.502e+00, -9.682e+00,  4.346e+03,  1.473e-04],\n",
       "        [ 3.502e+00, -9.682e+00,  4.346e+03,  1.470e-04],\n",
       "        [ 3.502e+00, -9.682e+00,  4.346e+03,  1.467e-04],\n",
       "        [ 3.502e+00, -9.682e+00,  4.346e+03,  1.464e-04],\n",
       "        [ 3.502e+00, -9.682e+00,  4.346e+03,  1.461e-04],\n",
       "        [ 3.502e+00, -9.682e+00,  4.346e+03,  1.458e-04],\n",
       "        [ 3.502e+00, -9.682e+00,  4.346e+03,  1.455e-04],\n",
       "        [ 3.502e+00, -9.682e+00,  4.346e+03,  1.452e-04],\n",
       "        [ 3.502e+00, -9.682e+00,  4.346e+03,  1.449e-04],\n",
       "        [ 3.502e+00, -9.682e+00,  4.346e+03,  1.446e-04],\n",
       "        [ 3.502e+00, -9.682e+00,  4.346e+03,  1.443e-04],\n",
       "        [ 3.502e+00, -9.682e+00,  4.346e+03,  1.440e-04],\n",
       "        [ 3.502e+00, -9.682e+00,  4.346e+03,  1.437e-04],\n",
       "        [ 3.502e+00, -9.682e+00,  4.346e+03,  1.434e-04],\n",
       "        [ 3.502e+00, -9.682e+00,  4.346e+03,  1.431e-04],\n",
       "        [ 3.502e+00, -9.682e+00,  4.346e+03,  1.428e-04],\n",
       "        [ 3.502e+00, -9.682e+00,  4.346e+03,  1.425e-04],\n",
       "        [ 3.502e+00, -9.682e+00,  4.346e+03,  1.422e-04],\n",
       "        [ 3.502e+00, -9.682e+00,  4.346e+03,  1.419e-04],\n",
       "        [ 3.502e+00, -9.682e+00,  4.346e+03,  1.416e-04],\n",
       "        [ 3.502e+00, -9.682e+00,  4.346e+03,  1.413e-04],\n",
       "        [ 3.502e+00, -9.682e+00,  4.346e+03,  1.410e-04],\n",
       "        [ 3.502e+00, -9.682e+00,  4.346e+03,  1.407e-04],\n",
       "        [ 3.502e+00, -9.682e+00,  4.346e+03,  1.404e-04],\n",
       "        [ 3.502e+00, -9.682e+00,  4.346e+03,  1.401e-04],\n",
       "        [ 3.502e+00, -9.682e+00,  4.346e+03,  1.398e-04],\n",
       "        [ 3.502e+00, -9.682e+00,  4.346e+03,  1.395e-04],\n",
       "        [ 3.502e+00, -9.682e+00,  4.346e+03,  1.392e-04],\n",
       "        [ 3.502e+00, -9.682e+00,  4.346e+03,  1.389e-04],\n",
       "        [ 3.502e+00, -9.682e+00,  4.346e+03,  1.386e-04],\n",
       "        [ 3.502e+00, -9.682e+00,  4.346e+03,  1.383e-04],\n",
       "        [ 3.502e+00, -9.682e+00,  4.346e+03,  1.381e-04],\n",
       "        [ 3.502e+00, -9.682e+00,  4.346e+03,  1.378e-04],\n",
       "        [ 3.502e+00, -9.682e+00,  4.346e+03,  1.375e-04],\n",
       "        [ 3.502e+00, -9.682e+00,  4.346e+03,  1.372e-04],\n",
       "        [ 3.502e+00, -9.682e+00,  4.346e+03,  1.369e-04],\n",
       "        [ 3.502e+00, -9.682e+00,  4.346e+03,  1.366e-04],\n",
       "        [ 3.502e+00, -9.682e+00,  4.346e+03,  1.363e-04],\n",
       "        [ 3.502e+00, -9.682e+00,  4.346e+03,  1.360e-04],\n",
       "        [ 3.502e+00, -9.682e+00,  4.346e+03,  1.357e-04],\n",
       "        [ 3.502e+00, -9.682e+00,  4.346e+03,  1.354e-04],\n",
       "        [ 3.502e+00, -9.682e+00,  4.346e+03,  1.351e-04],\n",
       "        [ 3.502e+00, -9.682e+00,  4.346e+03,  1.348e-04],\n",
       "        [ 3.502e+00, -9.682e+00,  4.346e+03,  1.345e-04],\n",
       "        [ 3.502e+00, -9.682e+00,  4.346e+03,  1.342e-04],\n",
       "        [ 3.502e+00, -9.682e+00,  4.346e+03,  1.339e-04],\n",
       "        [ 3.502e+00, -9.682e+00,  4.346e+03,  1.336e-04]]),\n",
       " array([[ 3.501e+00, -9.682e+00,  4.346e+03,  1.631e-04],\n",
       "        [ 3.501e+00, -9.682e+00,  4.346e+03,  1.628e-04],\n",
       "        [ 3.501e+00, -9.682e+00,  4.346e+03,  1.625e-04],\n",
       "        [ 3.501e+00, -9.682e+00,  4.346e+03,  1.622e-04],\n",
       "        [ 3.501e+00, -9.682e+00,  4.346e+03,  1.619e-04],\n",
       "        [ 3.501e+00, -9.682e+00,  4.346e+03,  1.616e-04],\n",
       "        [ 3.501e+00, -9.682e+00,  4.346e+03,  1.613e-04],\n",
       "        [ 3.501e+00, -9.682e+00,  4.346e+03,  1.610e-04],\n",
       "        [ 3.501e+00, -9.682e+00,  4.346e+03,  1.607e-04],\n",
       "        [ 3.501e+00, -9.682e+00,  4.346e+03,  1.604e-04],\n",
       "        [ 3.501e+00, -9.682e+00,  4.346e+03,  1.601e-04],\n",
       "        [ 3.501e+00, -9.682e+00,  4.346e+03,  1.598e-04],\n",
       "        [ 3.501e+00, -9.682e+00,  4.346e+03,  1.595e-04],\n",
       "        [ 3.501e+00, -9.682e+00,  4.346e+03,  1.592e-04],\n",
       "        [ 3.501e+00, -9.682e+00,  4.346e+03,  1.589e-04],\n",
       "        [ 3.501e+00, -9.682e+00,  4.346e+03,  1.586e-04],\n",
       "        [ 3.501e+00, -9.682e+00,  4.346e+03,  1.583e-04],\n",
       "        [ 3.501e+00, -9.682e+00,  4.346e+03,  1.580e-04],\n",
       "        [ 3.501e+00, -9.682e+00,  4.346e+03,  1.577e-04],\n",
       "        [ 3.501e+00, -9.682e+00,  4.346e+03,  1.574e-04],\n",
       "        [ 3.501e+00, -9.682e+00,  4.346e+03,  1.571e-04],\n",
       "        [ 3.501e+00, -9.682e+00,  4.346e+03,  1.568e-04],\n",
       "        [ 3.501e+00, -9.682e+00,  4.346e+03,  1.565e-04],\n",
       "        [ 3.501e+00, -9.682e+00,  4.346e+03,  1.562e-04],\n",
       "        [ 3.501e+00, -9.682e+00,  4.346e+03,  1.559e-04],\n",
       "        [ 3.501e+00, -9.682e+00,  4.346e+03,  1.556e-04],\n",
       "        [ 3.501e+00, -9.682e+00,  4.346e+03,  1.553e-04],\n",
       "        [ 3.501e+00, -9.682e+00,  4.346e+03,  1.550e-04],\n",
       "        [ 3.501e+00, -9.682e+00,  4.346e+03,  1.547e-04],\n",
       "        [ 3.501e+00, -9.682e+00,  4.346e+03,  1.544e-04],\n",
       "        [ 3.501e+00, -9.682e+00,  4.346e+03,  1.541e-04],\n",
       "        [ 3.501e+00, -9.682e+00,  4.346e+03,  1.538e-04],\n",
       "        [ 3.501e+00, -9.682e+00,  4.346e+03,  1.535e-04],\n",
       "        [ 3.501e+00, -9.682e+00,  4.346e+03,  1.532e-04],\n",
       "        [ 3.501e+00, -9.682e+00,  4.346e+03,  1.529e-04],\n",
       "        [ 3.501e+00, -9.682e+00,  4.346e+03,  1.527e-04],\n",
       "        [ 3.501e+00, -9.682e+00,  4.346e+03,  1.524e-04],\n",
       "        [ 3.501e+00, -9.682e+00,  4.346e+03,  1.521e-04],\n",
       "        [ 3.501e+00, -9.682e+00,  4.346e+03,  1.518e-04],\n",
       "        [ 3.501e+00, -9.682e+00,  4.346e+03,  1.515e-04],\n",
       "        [ 3.501e+00, -9.682e+00,  4.346e+03,  1.512e-04],\n",
       "        [ 3.501e+00, -9.682e+00,  4.346e+03,  1.509e-04],\n",
       "        [ 3.501e+00, -9.682e+00,  4.346e+03,  1.506e-04],\n",
       "        [ 3.501e+00, -9.682e+00,  4.346e+03,  1.503e-04],\n",
       "        [ 3.501e+00, -9.682e+00,  4.346e+03,  1.500e-04],\n",
       "        [ 3.501e+00, -9.682e+00,  4.346e+03,  1.497e-04],\n",
       "        [ 3.501e+00, -9.682e+00,  4.346e+03,  1.494e-04],\n",
       "        [ 3.501e+00, -9.682e+00,  4.346e+03,  1.491e-04],\n",
       "        [ 3.501e+00, -9.682e+00,  4.346e+03,  1.488e-04],\n",
       "        [ 3.501e+00, -9.682e+00,  4.346e+03,  1.485e-04],\n",
       "        [ 3.501e+00, -9.682e+00,  4.346e+03,  1.482e-04],\n",
       "        [ 3.501e+00, -9.682e+00,  4.346e+03,  1.479e-04],\n",
       "        [ 3.501e+00, -9.682e+00,  4.346e+03,  1.476e-04],\n",
       "        [ 3.502e+00, -9.682e+00,  4.346e+03,  1.473e-04],\n",
       "        [ 3.502e+00, -9.682e+00,  4.346e+03,  1.470e-04],\n",
       "        [ 3.502e+00, -9.682e+00,  4.346e+03,  1.467e-04],\n",
       "        [ 3.502e+00, -9.682e+00,  4.346e+03,  1.464e-04],\n",
       "        [ 3.502e+00, -9.682e+00,  4.346e+03,  1.461e-04],\n",
       "        [ 3.502e+00, -9.682e+00,  4.346e+03,  1.458e-04],\n",
       "        [ 3.502e+00, -9.682e+00,  4.346e+03,  1.455e-04],\n",
       "        [ 3.502e+00, -9.682e+00,  4.346e+03,  1.452e-04],\n",
       "        [ 3.502e+00, -9.682e+00,  4.346e+03,  1.449e-04],\n",
       "        [ 3.502e+00, -9.682e+00,  4.346e+03,  1.446e-04],\n",
       "        [ 3.502e+00, -9.682e+00,  4.346e+03,  1.443e-04],\n",
       "        [ 3.502e+00, -9.682e+00,  4.346e+03,  1.440e-04],\n",
       "        [ 3.502e+00, -9.682e+00,  4.346e+03,  1.437e-04],\n",
       "        [ 3.502e+00, -9.682e+00,  4.346e+03,  1.434e-04],\n",
       "        [ 3.502e+00, -9.682e+00,  4.346e+03,  1.431e-04],\n",
       "        [ 3.502e+00, -9.682e+00,  4.346e+03,  1.428e-04],\n",
       "        [ 3.502e+00, -9.682e+00,  4.346e+03,  1.425e-04],\n",
       "        [ 3.502e+00, -9.682e+00,  4.346e+03,  1.422e-04],\n",
       "        [ 3.502e+00, -9.682e+00,  4.346e+03,  1.419e-04],\n",
       "        [ 3.502e+00, -9.682e+00,  4.346e+03,  1.416e-04],\n",
       "        [ 3.502e+00, -9.682e+00,  4.346e+03,  1.413e-04],\n",
       "        [ 3.502e+00, -9.682e+00,  4.346e+03,  1.410e-04],\n",
       "        [ 3.502e+00, -9.682e+00,  4.346e+03,  1.407e-04],\n",
       "        [ 3.502e+00, -9.682e+00,  4.346e+03,  1.404e-04],\n",
       "        [ 3.502e+00, -9.682e+00,  4.346e+03,  1.401e-04],\n",
       "        [ 3.502e+00, -9.682e+00,  4.346e+03,  1.398e-04],\n",
       "        [ 3.502e+00, -9.682e+00,  4.346e+03,  1.395e-04],\n",
       "        [ 3.502e+00, -9.682e+00,  4.346e+03,  1.392e-04],\n",
       "        [ 3.502e+00, -9.682e+00,  4.346e+03,  1.389e-04],\n",
       "        [ 3.502e+00, -9.682e+00,  4.346e+03,  1.386e-04],\n",
       "        [ 3.502e+00, -9.682e+00,  4.346e+03,  1.383e-04],\n",
       "        [ 3.502e+00, -9.682e+00,  4.346e+03,  1.381e-04],\n",
       "        [ 3.502e+00, -9.682e+00,  4.346e+03,  1.378e-04],\n",
       "        [ 3.502e+00, -9.682e+00,  4.346e+03,  1.375e-04],\n",
       "        [ 3.502e+00, -9.682e+00,  4.346e+03,  1.372e-04],\n",
       "        [ 3.502e+00, -9.682e+00,  4.346e+03,  1.369e-04],\n",
       "        [ 3.502e+00, -9.682e+00,  4.346e+03,  1.366e-04],\n",
       "        [ 3.502e+00, -9.682e+00,  4.346e+03,  1.363e-04],\n",
       "        [ 3.502e+00, -9.682e+00,  4.346e+03,  1.360e-04],\n",
       "        [ 3.502e+00, -9.682e+00,  4.346e+03,  1.357e-04],\n",
       "        [ 3.502e+00, -9.682e+00,  4.346e+03,  1.354e-04],\n",
       "        [ 3.502e+00, -9.682e+00,  4.346e+03,  1.351e-04],\n",
       "        [ 3.502e+00, -9.682e+00,  4.346e+03,  1.348e-04],\n",
       "        [ 3.502e+00, -9.682e+00,  4.346e+03,  1.345e-04],\n",
       "        [ 3.502e+00, -9.682e+00,  4.346e+03,  1.342e-04],\n",
       "        [ 3.502e+00, -9.682e+00,  4.346e+03,  1.339e-04],\n",
       "        [ 3.502e+00, -9.682e+00,  4.346e+03,  1.336e-04]]),\n",
       " array([[ 3.501e+00, -9.682e+00,  4.346e+03,  1.631e-04],\n",
       "        [ 3.501e+00, -9.682e+00,  4.346e+03,  1.628e-04],\n",
       "        [ 3.501e+00, -9.682e+00,  4.346e+03,  1.625e-04],\n",
       "        [ 3.501e+00, -9.682e+00,  4.346e+03,  1.622e-04],\n",
       "        [ 3.501e+00, -9.682e+00,  4.346e+03,  1.619e-04],\n",
       "        [ 3.501e+00, -9.682e+00,  4.346e+03,  1.616e-04],\n",
       "        [ 3.501e+00, -9.682e+00,  4.346e+03,  1.613e-04],\n",
       "        [ 3.501e+00, -9.682e+00,  4.346e+03,  1.610e-04],\n",
       "        [ 3.501e+00, -9.682e+00,  4.346e+03,  1.607e-04],\n",
       "        [ 3.501e+00, -9.682e+00,  4.346e+03,  1.604e-04],\n",
       "        [ 3.501e+00, -9.682e+00,  4.346e+03,  1.601e-04],\n",
       "        [ 3.501e+00, -9.682e+00,  4.346e+03,  1.598e-04],\n",
       "        [ 3.501e+00, -9.682e+00,  4.346e+03,  1.595e-04],\n",
       "        [ 3.501e+00, -9.682e+00,  4.346e+03,  1.592e-04],\n",
       "        [ 3.501e+00, -9.682e+00,  4.346e+03,  1.589e-04],\n",
       "        [ 3.501e+00, -9.682e+00,  4.346e+03,  1.586e-04],\n",
       "        [ 3.501e+00, -9.682e+00,  4.346e+03,  1.583e-04],\n",
       "        [ 3.501e+00, -9.682e+00,  4.346e+03,  1.580e-04],\n",
       "        [ 3.501e+00, -9.682e+00,  4.346e+03,  1.577e-04],\n",
       "        [ 3.501e+00, -9.682e+00,  4.346e+03,  1.574e-04],\n",
       "        [ 3.501e+00, -9.682e+00,  4.346e+03,  1.571e-04],\n",
       "        [ 3.501e+00, -9.682e+00,  4.346e+03,  1.568e-04],\n",
       "        [ 3.501e+00, -9.682e+00,  4.346e+03,  1.565e-04],\n",
       "        [ 3.501e+00, -9.682e+00,  4.346e+03,  1.562e-04],\n",
       "        [ 3.501e+00, -9.682e+00,  4.346e+03,  1.559e-04],\n",
       "        [ 3.501e+00, -9.682e+00,  4.346e+03,  1.556e-04],\n",
       "        [ 3.501e+00, -9.682e+00,  4.346e+03,  1.553e-04],\n",
       "        [ 3.501e+00, -9.682e+00,  4.346e+03,  1.550e-04],\n",
       "        [ 3.501e+00, -9.682e+00,  4.346e+03,  1.547e-04],\n",
       "        [ 3.501e+00, -9.682e+00,  4.346e+03,  1.544e-04],\n",
       "        [ 3.501e+00, -9.682e+00,  4.346e+03,  1.541e-04],\n",
       "        [ 3.501e+00, -9.682e+00,  4.346e+03,  1.538e-04],\n",
       "        [ 3.501e+00, -9.682e+00,  4.346e+03,  1.535e-04],\n",
       "        [ 3.501e+00, -9.682e+00,  4.346e+03,  1.532e-04],\n",
       "        [ 3.501e+00, -9.682e+00,  4.346e+03,  1.529e-04],\n",
       "        [ 3.501e+00, -9.682e+00,  4.346e+03,  1.527e-04],\n",
       "        [ 3.501e+00, -9.682e+00,  4.346e+03,  1.524e-04],\n",
       "        [ 3.501e+00, -9.682e+00,  4.346e+03,  1.521e-04],\n",
       "        [ 3.501e+00, -9.682e+00,  4.346e+03,  1.518e-04],\n",
       "        [ 3.501e+00, -9.682e+00,  4.346e+03,  1.515e-04],\n",
       "        [ 3.501e+00, -9.682e+00,  4.346e+03,  1.512e-04],\n",
       "        [ 3.501e+00, -9.682e+00,  4.346e+03,  1.509e-04],\n",
       "        [ 3.501e+00, -9.682e+00,  4.346e+03,  1.506e-04],\n",
       "        [ 3.501e+00, -9.682e+00,  4.346e+03,  1.503e-04],\n",
       "        [ 3.501e+00, -9.682e+00,  4.346e+03,  1.500e-04],\n",
       "        [ 3.501e+00, -9.682e+00,  4.346e+03,  1.497e-04],\n",
       "        [ 3.501e+00, -9.682e+00,  4.346e+03,  1.494e-04],\n",
       "        [ 3.501e+00, -9.682e+00,  4.346e+03,  1.491e-04],\n",
       "        [ 3.501e+00, -9.682e+00,  4.346e+03,  1.488e-04],\n",
       "        [ 3.501e+00, -9.682e+00,  4.346e+03,  1.485e-04],\n",
       "        [ 3.501e+00, -9.682e+00,  4.346e+03,  1.482e-04],\n",
       "        [ 3.501e+00, -9.682e+00,  4.346e+03,  1.479e-04],\n",
       "        [ 3.501e+00, -9.682e+00,  4.346e+03,  1.476e-04],\n",
       "        [ 3.502e+00, -9.682e+00,  4.346e+03,  1.473e-04],\n",
       "        [ 3.502e+00, -9.682e+00,  4.346e+03,  1.470e-04],\n",
       "        [ 3.502e+00, -9.682e+00,  4.346e+03,  1.467e-04],\n",
       "        [ 3.502e+00, -9.682e+00,  4.346e+03,  1.464e-04],\n",
       "        [ 3.502e+00, -9.682e+00,  4.346e+03,  1.461e-04],\n",
       "        [ 3.502e+00, -9.682e+00,  4.346e+03,  1.458e-04],\n",
       "        [ 3.502e+00, -9.682e+00,  4.346e+03,  1.455e-04],\n",
       "        [ 3.502e+00, -9.682e+00,  4.346e+03,  1.452e-04],\n",
       "        [ 3.502e+00, -9.682e+00,  4.346e+03,  1.449e-04],\n",
       "        [ 3.502e+00, -9.682e+00,  4.346e+03,  1.446e-04],\n",
       "        [ 3.502e+00, -9.682e+00,  4.346e+03,  1.443e-04],\n",
       "        [ 3.502e+00, -9.682e+00,  4.346e+03,  1.440e-04],\n",
       "        [ 3.502e+00, -9.682e+00,  4.346e+03,  1.437e-04],\n",
       "        [ 3.502e+00, -9.682e+00,  4.346e+03,  1.434e-04],\n",
       "        [ 3.502e+00, -9.682e+00,  4.346e+03,  1.431e-04],\n",
       "        [ 3.502e+00, -9.682e+00,  4.346e+03,  1.428e-04],\n",
       "        [ 3.502e+00, -9.682e+00,  4.346e+03,  1.425e-04],\n",
       "        [ 3.502e+00, -9.682e+00,  4.346e+03,  1.422e-04],\n",
       "        [ 3.502e+00, -9.682e+00,  4.346e+03,  1.419e-04],\n",
       "        [ 3.502e+00, -9.682e+00,  4.346e+03,  1.416e-04],\n",
       "        [ 3.502e+00, -9.682e+00,  4.346e+03,  1.413e-04],\n",
       "        [ 3.502e+00, -9.682e+00,  4.346e+03,  1.410e-04],\n",
       "        [ 3.502e+00, -9.682e+00,  4.346e+03,  1.407e-04],\n",
       "        [ 3.502e+00, -9.682e+00,  4.346e+03,  1.404e-04],\n",
       "        [ 3.502e+00, -9.682e+00,  4.346e+03,  1.401e-04],\n",
       "        [ 3.502e+00, -9.682e+00,  4.346e+03,  1.398e-04],\n",
       "        [ 3.502e+00, -9.682e+00,  4.346e+03,  1.395e-04],\n",
       "        [ 3.502e+00, -9.682e+00,  4.346e+03,  1.392e-04],\n",
       "        [ 3.502e+00, -9.682e+00,  4.346e+03,  1.389e-04],\n",
       "        [ 3.502e+00, -9.682e+00,  4.346e+03,  1.386e-04],\n",
       "        [ 3.502e+00, -9.682e+00,  4.346e+03,  1.383e-04],\n",
       "        [ 3.502e+00, -9.682e+00,  4.346e+03,  1.381e-04],\n",
       "        [ 3.502e+00, -9.682e+00,  4.346e+03,  1.378e-04],\n",
       "        [ 3.502e+00, -9.682e+00,  4.346e+03,  1.375e-04],\n",
       "        [ 3.502e+00, -9.682e+00,  4.346e+03,  1.372e-04],\n",
       "        [ 3.502e+00, -9.682e+00,  4.346e+03,  1.369e-04],\n",
       "        [ 3.502e+00, -9.682e+00,  4.346e+03,  1.366e-04],\n",
       "        [ 3.502e+00, -9.682e+00,  4.346e+03,  1.363e-04],\n",
       "        [ 3.502e+00, -9.682e+00,  4.346e+03,  1.360e-04],\n",
       "        [ 3.502e+00, -9.682e+00,  4.346e+03,  1.357e-04],\n",
       "        [ 3.502e+00, -9.682e+00,  4.346e+03,  1.354e-04],\n",
       "        [ 3.502e+00, -9.682e+00,  4.346e+03,  1.351e-04],\n",
       "        [ 3.502e+00, -9.682e+00,  4.346e+03,  1.348e-04],\n",
       "        [ 3.502e+00, -9.682e+00,  4.346e+03,  1.345e-04],\n",
       "        [ 3.502e+00, -9.682e+00,  4.346e+03,  1.342e-04],\n",
       "        [ 3.502e+00, -9.682e+00,  4.346e+03,  1.339e-04],\n",
       "        [ 3.502e+00, -9.682e+00,  4.346e+03,  1.336e-04]])]"
      ]
     },
     "execution_count": 66,
     "metadata": {},
     "output_type": "execute_result"
    }
   ],
   "source": [
    "interp_clean_cell"
   ]
  },
  {
   "cell_type": "code",
   "execution_count": 49,
   "id": "36afcca3",
   "metadata": {},
   "outputs": [],
   "source": [
    "columns=['voltage', 'current', 'cycle_index', 'discharge_capacity']\n",
    "selected_cell_data = cell.structured_data[columns].dropna()\n",
    "clean_cell_data_cycle_number = selected_cell_data.loc[(selected_cell_data['cycle_index'] == 4345) ]\n",
    "#                                               & (selected_cell_data['discharge_capacity']!=0)]"
   ]
  },
  {
   "cell_type": "code",
   "execution_count": 50,
   "id": "cebe4aa5",
   "metadata": {},
   "outputs": [
    {
     "data": {
      "text/html": [
       "<div>\n",
       "<style scoped>\n",
       "    .dataframe tbody tr th:only-of-type {\n",
       "        vertical-align: middle;\n",
       "    }\n",
       "\n",
       "    .dataframe tbody tr th {\n",
       "        vertical-align: top;\n",
       "    }\n",
       "\n",
       "    .dataframe thead th {\n",
       "        text-align: right;\n",
       "    }\n",
       "</style>\n",
       "<table border=\"1\" class=\"dataframe\">\n",
       "  <thead>\n",
       "    <tr style=\"text-align: right;\">\n",
       "      <th></th>\n",
       "      <th>voltage</th>\n",
       "      <th>current</th>\n",
       "      <th>cycle_index</th>\n",
       "      <th>discharge_capacity</th>\n",
       "    </tr>\n",
       "  </thead>\n",
       "  <tbody>\n",
       "  </tbody>\n",
       "</table>\n",
       "</div>"
      ],
      "text/plain": [
       "Empty DataFrame\n",
       "Columns: [voltage, current, cycle_index, discharge_capacity]\n",
       "Index: []"
      ]
     },
     "execution_count": 50,
     "metadata": {},
     "output_type": "execute_result"
    }
   ],
   "source": [
    "clean_cell_data_cycle_number"
   ]
  },
  {
   "cell_type": "code",
   "execution_count": 70,
   "id": "129c7f66",
   "metadata": {
    "scrolled": true
   },
   "outputs": [],
   "source": [
    "interp_clean_cell = []\n",
    "interp_clean_cell.append(bye_cycle.interpol_cycle(clean_dat, n_points=n_points))"
   ]
  },
  {
   "cell_type": "code",
   "execution_count": 14,
   "id": "ad46046c",
   "metadata": {},
   "outputs": [
    {
     "data": {
      "text/plain": [
       "(1, 1245, 100, 4)"
      ]
     },
     "execution_count": 14,
     "metadata": {},
     "output_type": "execute_result"
    }
   ],
   "source": [
    "np.array(features).shape"
   ]
  },
  {
   "cell_type": "code",
   "execution_count": 16,
   "id": "52fe9929",
   "metadata": {},
   "outputs": [
    {
     "data": {
      "text/plain": [
       "array([2.701, 2.716, 2.731, 2.746, 2.76 , 2.775, 2.79 , 2.805, 2.82 ,\n",
       "       2.835, 2.85 , 2.865, 2.88 , 2.895, 2.909, 2.924, 2.939, 2.954,\n",
       "       2.969, 2.984, 2.999, 3.014, 3.029, 3.044, 3.058, 3.073, 3.088,\n",
       "       3.103, 3.118, 3.133, 3.148, 3.163, 3.178, 3.193, 3.207, 3.222,\n",
       "       3.237, 3.252, 3.267, 3.282, 3.297, 3.312, 3.327, 3.342, 3.357,\n",
       "       3.371, 3.386, 3.401, 3.416, 3.431, 3.446, 3.461, 3.476, 3.491,\n",
       "       3.506, 3.52 , 3.535, 3.55 , 3.565, 3.58 , 3.595, 3.61 , 3.625,\n",
       "       3.64 , 3.655, 3.669, 3.684, 3.699, 3.714, 3.729, 3.744, 3.759,\n",
       "       3.774, 3.789, 3.804, 3.819, 3.833, 3.848, 3.863, 3.878, 3.893,\n",
       "       3.908, 3.923, 3.938, 3.953, 3.968, 3.982, 3.997, 4.012, 4.027,\n",
       "       4.042, 4.057, 4.072, 4.087, 4.102, 4.117, 4.131, 4.146, 4.161,\n",
       "       4.176])"
      ]
     },
     "execution_count": 16,
     "metadata": {},
     "output_type": "execute_result"
    }
   ],
   "source": [
    "np.array(features)[0,0,:,0]"
   ]
  },
  {
   "cell_type": "code",
   "execution_count": 20,
   "id": "e57351bb",
   "metadata": {},
   "outputs": [
    {
     "name": "stdout",
     "output_type": "stream",
     "text": [
      "512\n",
      "1315\n"
     ]
    }
   ],
   "source": [
    "# This cell takes forever to run if you don't use CACHED Data!\n",
    "import pickle\n",
    "USE_CACHED_DATA = True\n",
    "features_file_name = 'features.pkl'\n",
    "if not USE_CACHED_DATA:\n",
    "    features = []\n",
    "    for i,n in enumerate(names):\n",
    "        cell = auto_load_processed(n)\n",
    "        print(f'Featurizing data for cell {i}.')\n",
    "        features.append(prep_features_per_cell(cell, n_points))\n",
    "    with open(features_file_name, 'wb') as f: \n",
    "        pickle.dump(features, f)\n",
    "else:\n",
    "    with open(features_file_name, 'rb') as f:\n",
    "        features = np.array(pickle.load(f))\n",
    "        print('CACHED data is loaded for features.')"
   ]
  },
  {
   "cell_type": "code",
   "execution_count": 21,
   "id": "40f50d78",
   "metadata": {},
   "outputs": [
    {
     "name": "stderr",
     "output_type": "stream",
     "text": [
      "100%|██████████| 363/363 [00:06<00:00, 55.50it/s]"
     ]
    },
    {
     "name": "stdout",
     "output_type": "stream",
     "text": [
      "Empty data found in cycles: [1, 2, 3, 4, 5, 36, 37, 38, 39, 40, 141, 142, 143, 144, 145, 246, 247, 248, 249, 250, 351, 352, 353, 354, 355, 358, 359, 360, 361, 362] in cell\n"
     ]
    },
    {
     "name": "stderr",
     "output_type": "stream",
     "text": [
      "\n"
     ]
    }
   ],
   "source": [
    "n_points = 100\n",
    "max_time_idx = bye_cycle.clean_cycle_data(cell_two, 10).shape[0]\n",
    "max_cycle_idx = max(cell_two.structured_data['cycle_index'])\n",
    "interp_clean_cell_two = [] #np.empty((max_cycle_idx, max_time_idx, 3))\n",
    "empty_cycles = []\n",
    "for i in tqdm(range(max_cycle_idx)):\n",
    "    clean_dat = bye_cycle.clean_cycle_data(cell_two, i)\n",
    "    # Looks like there are some missing cycle measurements so ...\n",
    "    if clean_dat.shape[0] !=0:\n",
    "        interp_clean_cell_two.append(bye_cycle.interpol_cycle(clean_dat, n_points=100))\n",
    "    else:\n",
    "        empty_cycles.append(i)\n",
    "#     break\n",
    "#     np.append(clean_cell_one, np.array(clean_cycle_data(cell_one, i))[:, np.newaxis, :], axis=0)\n",
    "#     break\n",
    "interp_clean_cell_two = np.array(interp_clean_cell_two)\n",
    "print(f'Empty data found in cycles: {empty_cycles} in cell')"
   ]
  },
  {
   "cell_type": "code",
   "execution_count": 22,
   "id": "8158b00d",
   "metadata": {},
   "outputs": [
    {
     "name": "stdout",
     "output_type": "stream",
     "text": [
      "966\n",
      "363\n"
     ]
    }
   ],
   "source": [
    "print(max_time_idx)\n",
    "print(max_cycle_idx)"
   ]
  },
  {
   "cell_type": "code",
   "execution_count": null,
   "id": "cfbf863a",
   "metadata": {},
   "outputs": [],
   "source": []
  }
 ],
 "metadata": {
  "kernelspec": {
   "display_name": "conda_beep",
   "language": "python",
   "name": "conda_beep"
  },
  "language_info": {
   "codemirror_mode": {
    "name": "ipython",
    "version": 3
   },
   "file_extension": ".py",
   "mimetype": "text/x-python",
   "name": "python",
   "nbconvert_exporter": "python",
   "pygments_lexer": "ipython3",
   "version": "3.8.13"
  }
 },
 "nbformat": 4,
 "nbformat_minor": 5
}
