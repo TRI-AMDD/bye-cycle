{
 "cells": [
  {
   "cell_type": "code",
   "execution_count": null,
   "id": "3b3022ba",
   "metadata": {},
   "outputs": [],
   "source": [
    "import os\n",
    "import bye_cycle\n",
    "import tensorflow as tf\n",
    "from tqdm import tqdm\n",
    "import numpy as np\n",
    "import pickle\n",
    "import matplotlib.pyplot as plt\n",
    "from beep.structure.cli import auto_load_processed"
   ]
  },
  {
   "cell_type": "code",
   "execution_count": null,
   "id": "85aca4a0",
   "metadata": {},
   "outputs": [],
   "source": [
    "# Disabling tf warnings\n",
    "tf.get_logger().setLevel('INFO')\n",
    "# Disabling GPU\n",
    "RUN_ON_GPU = True\n",
    "if not RUN_ON_GPU:\n",
    "    os.environ[\"CUDA_VISIBLE_DEVICES\"] = \"-1\""
   ]
  },
  {
   "cell_type": "code",
   "execution_count": null,
   "id": "1af0dd2b",
   "metadata": {},
   "outputs": [],
   "source": [
    "# read CACHED data \n",
    "# excluding all diagnostic cycles and those with increase in discharge cap, renumber based on EFC\n",
    "cycle_window_size = 100\n",
    "skip_window_after_diagnostic = 50\n",
    "structured_data_list = []\n",
    "summary_data_list = []\n",
    "nominal_cell_capacity = 4.83\n",
    "drop_following_diagnostic = False\n",
    "for i,cell_file in enumerate(tqdm(os.listdir('CACHED_DATA/pre_processed_pandas/'))):\n",
    "    print(i, cell_file)\n",
    "    if cell_file.startswith(\"Pre\"):\n",
    "        with open(f'CACHED_DATA/pre_processed_pandas/{cell_file}', 'rb') as f:\n",
    "            structured_data, summary_data = pickle.load(f)\n",
    "#         a = find_renumbedred_index(structured_data)\n",
    "#         print(len(summary_data[0]))\n",
    "#         break\n",
    "#         equivalent_cycle_index = summary_data[0]['charge_throughput']/nominal_cell_capacity\n",
    "#         summary_data[0]['cycle_index'] = equivalent_cycle_index\n",
    "#         print(summary_data[0]['cycle_index'])\n",
    "#         print(len(summary_data[0]))\n",
    "        if not drop_following_diagnostic:\n",
    "            cycle_indices_dropped = []\n",
    "        else:\n",
    "            summary_data[0], cycle_indices_dropped = decrease_monotonically(summary_data[0])\n",
    "            print(cycle_indices_dropped)\n",
    "#         print(len(summary_data[0]))\n",
    "        # getting equivalent cycle index\n",
    "\n",
    "#         break\n",
    "#         print(len(summary_data[0]))\n",
    "#         skipped_cycles = [list(range(m+1,m+skip_window_after_diagnostic+1)) for m in a]\n",
    "#         flatten_skipped_cycles = [x for xs in skipped_cycles for x in xs]\n",
    "        # check if the cell has enough cycles based on the $window_cycles_size\n",
    "        if len(summary_data[0]) >= cycle_window_size * 2:\n",
    "            cycle_list = []\n",
    "            new_cycle_indices = []\n",
    "            j = 0\n",
    "            for cycle in structured_data:\n",
    "                if len(cycle) > 2:\n",
    "                    cycle_index_value = np.unique(cycle['cycle_index'])[0]\n",
    "                    if  cycle_index_value not in cycle_indices_dropped:\n",
    "                        cycle.loc[:,'cycle_index'] = j\n",
    "                        cycle_list.append(cycle)\n",
    "                        new_cycle_indices.append(j)\n",
    "                        j += 1\n",
    "#                 else:\n",
    "#                     print(f'TIME-SERIES THRESHOLD ALEERT FOR {i, cell_file}')\n",
    "            structured_data_list.append(cycle_list)\n",
    "#             summary_data[0][summary_data[0]['summary_data[0]'] != flatten_skipped_cycles]\n",
    "#             summary_data[0] = summary_data[0][~summary_data[0]['cycle_index'].isin(flatten_skipped_cycles)]\n",
    "#             summary_data[0]['cycle_index'] = new_cycle_indices\n",
    "            summary_data_list.append(summary_data[0])\n",
    "#             print(len(summary_data_list[i]), len(structured_data_list[i]))\n",
    "        else:\n",
    "            print(f'NUMBER OF CYCLES THRESHOLD ALEERT FOR {i, cell_file}')\n",
    "#         dat.append(cell_data)\n",
    "#     if i ==2:\n",
    "#         break\n",
    "print('CACHED data is loaded.')"
   ]
  },
  {
   "cell_type": "code",
   "execution_count": null,
   "id": "474010a4",
   "metadata": {},
   "outputs": [],
   "source": [
    "plt.figure(dpi=300, facecolor='white')\n",
    "for i,c in enumerate(summary_data_list):\n",
    "    plt.scatter(c['cycle_index'][1:], c['discharge_capacity'][1:], \n",
    "                s=0.1, color=f'C{i}', label='actual cycle_index', alpha=0.3)\n",
    "plt.xlabel('Cycle index')\n",
    "plt.ylabel('Discharge capacity (Ah/Wh)')\n",
    "plt.ylim([0.8, 1.2])\n",
    "plt.savefig(f'media/NCA/NCA_dataset.png', dpi=400, transparent=False)"
   ]
  },
  {
   "cell_type": "code",
   "execution_count": null,
   "id": "a75e5605",
   "metadata": {},
   "outputs": [],
   "source": []
  },
  {
   "cell_type": "code",
   "execution_count": null,
   "id": "5c789115",
   "metadata": {},
   "outputs": [],
   "source": []
  },
  {
   "cell_type": "code",
   "execution_count": null,
   "id": "2147b3bb",
   "metadata": {},
   "outputs": [],
   "source": []
  },
  {
   "cell_type": "code",
   "execution_count": null,
   "id": "b6314e8a",
   "metadata": {},
   "outputs": [],
   "source": []
  },
  {
   "cell_type": "code",
   "execution_count": null,
   "id": "8b79bafa",
   "metadata": {},
   "outputs": [],
   "source": []
  },
  {
   "cell_type": "code",
   "execution_count": null,
   "id": "018d7db7",
   "metadata": {},
   "outputs": [],
   "source": []
  },
  {
   "cell_type": "code",
   "execution_count": null,
   "id": "01cbb086",
   "metadata": {},
   "outputs": [],
   "source": []
  }
 ],
 "metadata": {
  "kernelspec": {
   "display_name": "conda_beep",
   "language": "python",
   "name": "conda_beep"
  },
  "language_info": {
   "codemirror_mode": {
    "name": "ipython",
    "version": 3
   },
   "file_extension": ".py",
   "mimetype": "text/x-python",
   "name": "python",
   "nbconvert_exporter": "python",
   "pygments_lexer": "ipython3",
   "version": "3.8.13"
  }
 },
 "nbformat": 4,
 "nbformat_minor": 5
}
