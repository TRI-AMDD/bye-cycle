{
 "cells": [
  {
   "cell_type": "code",
   "execution_count": 1,
   "id": "0fa32217",
   "metadata": {},
   "outputs": [],
   "source": [
    "import os\n",
    "import bye_cycle\n",
    "import tensorflow as tf\n",
    "from tqdm import tqdm\n",
    "import numpy as np\n",
    "import pickle"
   ]
  },
  {
   "cell_type": "code",
   "execution_count": 2,
   "id": "20d6aaeb",
   "metadata": {},
   "outputs": [],
   "source": [
    "# Disabling tf warnings\n",
    "tf.get_logger().setLevel('INFO')\n",
    "# Disabling GPU\n",
    "RUN_ON_GPU = True\n",
    "if not RUN_ON_GPU:\n",
    "    os.environ[\"CUDA_VISIBLE_DEVICES\"] = \"-1\""
   ]
  },
  {
   "cell_type": "code",
   "execution_count": 3,
   "id": "e9d960f2",
   "metadata": {},
   "outputs": [
    {
     "name": "stdout",
     "output_type": "stream",
     "text": [
      "CACHED data is loaded.\n"
     ]
    }
   ],
   "source": [
    "dat = []\n",
    "for file in os.listdir('CACHED_DATA/'):\n",
    "    if file.startswith(\"cell\"):\n",
    "        with open(f'CACHED_DATA/{file}', 'rb') as f:\n",
    "            cell_data = np.array(pickle.load(f))[0]\n",
    "        dat.append(cell_data)\n",
    "print('CACHED data is loaded.')"
   ]
  },
  {
   "cell_type": "code",
   "execution_count": 63,
   "id": "537562cf",
   "metadata": {},
   "outputs": [
    {
     "data": {
      "text/plain": [
       "2"
      ]
     },
     "execution_count": 63,
     "metadata": {},
     "output_type": "execute_result"
    }
   ],
   "source": [
    "len(dat[8])"
   ]
  },
  {
   "cell_type": "code",
   "execution_count": 71,
   "id": "6900f620",
   "metadata": {},
   "outputs": [],
   "source": [
    "import random\n",
    "random.seed(0)\n",
    "indices = list(range(len(dat)))\n",
    "random.shuffle(indices)\n",
    "train_size = 0.9\n",
    "val_size = 0.09\n",
    "N_train = int(train_size *len(dat))\n",
    "N_val = int(val_size *len(dat))\n",
    "train_dat = dat[:N_train]\n",
    "# train_indices = random.sample(range(len(dat)), N_train)\n",
    "test_dat = dat[N_train:]\n",
    "val_dat = test_dat[:N_val]\n",
    "test_dat = test_dat[N_val:]\n",
    "\n",
    "# val_indices = random.sample(list(range(len(dat))).pop(train_indices), N_val)\n",
    "# N_test = len(dat) - N_train - N_val"
   ]
  },
  {
   "cell_type": "code",
   "execution_count": 66,
   "id": "701f3835",
   "metadata": {},
   "outputs": [],
   "source": [
    "# data_prep\n",
    "def prep_ml_data(dat, cycle_numbers=20):\n",
    "    features = np.empty([0, cycle_numbers,100, 3])\n",
    "    labels = np.empty([0, cycle_numbers])\n",
    "    print('Generating features and labels. Skipping cells with cycles lower than 50.')\n",
    "    for j,d in enumerate(tqdm(dat)):\n",
    "        if not len(d) < 50:\n",
    "            n = d.shape[0]//cycle_numbers\n",
    "            cell_features = []\n",
    "            cell_labels = []\n",
    "            for i in range(n-1):\n",
    "                cell_features.append(d[cycle_numbers*i:cycle_numbers*(i+1), :, :3])\n",
    "                cell_labels.append(d[cycle_numbers*(i+1):cycle_numbers*(i+2), 0, -1])\n",
    "#             print(np.array(cell_features).shape, j)\n",
    "            features = np.append(features, np.array(cell_features), axis=0)\n",
    "            labels = np.append(labels, np.array(cell_labels), axis=0)\n",
    "        else:\n",
    "            print(f'Cell {j} has only {len(d)} cycles. Skipping!')\n",
    "    return features, labels"
   ]
  },
  {
   "cell_type": "code",
   "execution_count": 67,
   "id": "6cb5796d",
   "metadata": {},
   "outputs": [
    {
     "name": "stdout",
     "output_type": "stream",
     "text": [
      "Generating features and labels. Skipping cells with cycles lower than 50.\n"
     ]
    },
    {
     "name": "stderr",
     "output_type": "stream",
     "text": [
      "  6%|▌         | 19/339 [00:00<00:01, 182.78it/s]"
     ]
    },
    {
     "name": "stdout",
     "output_type": "stream",
     "text": [
      "Cell 8 has only 2 cycles. Skipping!\n"
     ]
    },
    {
     "name": "stderr",
     "output_type": "stream",
     "text": [
      "\r",
      " 11%|█         | 38/339 [00:00<00:06, 49.11it/s] "
     ]
    },
    {
     "name": "stdout",
     "output_type": "stream",
     "text": [
      "Cell 41 has only 2 cycles. Skipping!\n"
     ]
    },
    {
     "name": "stderr",
     "output_type": "stream",
     "text": [
      " 39%|███▉      | 133/339 [00:11<00:28,  7.29it/s]"
     ]
    },
    {
     "name": "stdout",
     "output_type": "stream",
     "text": [
      "Cell 131 has only 48 cycles. Skipping!\n"
     ]
    },
    {
     "name": "stderr",
     "output_type": "stream",
     "text": [
      " 56%|█████▋    | 191/339 [00:24<00:39,  3.78it/s]"
     ]
    },
    {
     "name": "stdout",
     "output_type": "stream",
     "text": [
      "Cell 191 has only 2 cycles. Skipping!\n"
     ]
    },
    {
     "name": "stderr",
     "output_type": "stream",
     "text": [
      "100%|██████████| 339/339 [01:18<00:00,  4.34it/s]\n"
     ]
    }
   ],
   "source": [
    "train_features, train_labels = prep_ml_data(train_dat)"
   ]
  },
  {
   "cell_type": "code",
   "execution_count": 68,
   "id": "488c4bc5",
   "metadata": {},
   "outputs": [
    {
     "name": "stdout",
     "output_type": "stream",
     "text": [
      "Generating features and labels. Skipping cells with cycles lower than 50.\n"
     ]
    },
    {
     "name": "stderr",
     "output_type": "stream",
     "text": [
      "100%|██████████| 33/33 [00:00<00:00, 51.33it/s] \n"
     ]
    }
   ],
   "source": [
    "val_features, val_labels = prep_ml_data(val_dat)"
   ]
  },
  {
   "cell_type": "code",
   "execution_count": 69,
   "id": "1c05df0f",
   "metadata": {},
   "outputs": [
    {
     "name": "stdout",
     "output_type": "stream",
     "text": [
      "Generating features and labels. Skipping cells with cycles lower than 50.\n"
     ]
    },
    {
     "name": "stderr",
     "output_type": "stream",
     "text": [
      "100%|██████████| 5/5 [00:00<00:00, 129.55it/s]\n"
     ]
    }
   ],
   "source": [
    "test_features, test_labels = prep_ml_data(test_dat)"
   ]
  },
  {
   "cell_type": "code",
   "execution_count": 72,
   "id": "54f59da7",
   "metadata": {},
   "outputs": [],
   "source": [
    "def standardize(inputs):\n",
    "    fstd = np.std(inputs, axis=0)\n",
    "    fmean = np.mean(inputs, axis=0)\n",
    "    std_features = (inputs - fmean) / fstd\n",
    "    return std_features\n",
    "std_train_features = standardize(train_features)\n",
    "std_test_features = standardize(test_features)\n",
    "std_val_features = standardize(val_features)"
   ]
  },
  {
   "cell_type": "code",
   "execution_count": 73,
   "id": "92620edb",
   "metadata": {},
   "outputs": [],
   "source": [
    "from dataclasses import dataclass\n",
    "@dataclass\n",
    "class Config:\n",
    "    vocab_size: int\n",
    "    example_number: int\n",
    "    batch_size: int\n",
    "    buffer_size: int\n",
    "    rnn_units: int\n",
    "    hidden_dim: int\n",
    "    embedding_dim: int\n",
    "    reg_strength: float\n",
    "    lr: float\n",
    "    drop_rate: float\n",
    "        \n",
    "config = Config(vocab_size=21, # include gap\n",
    "                example_number=len(train_labels), \n",
    "                batch_size=512, \n",
    "                buffer_size=10000,\n",
    "                rnn_units=64,\n",
    "                hidden_dim=64,\n",
    "                embedding_dim=32,\n",
    "                reg_strength=0,\n",
    "                lr=1e-3,\n",
    "                drop_rate=0.1\n",
    "               )"
   ]
  },
  {
   "cell_type": "code",
   "execution_count": 75,
   "id": "7b536f0c",
   "metadata": {},
   "outputs": [],
   "source": [
    "# [:,:,:2]\n",
    "np.random.seed(0)\n",
    "i = np.arange(len(train_features))\n",
    "np.random.shuffle(i)\n",
    "train_data = tf.data.Dataset.from_tensor_slices((std_train_features[i], train_labels[i])).batch(config.batch_size)\n",
    "i = np.arange(len(val_features))\n",
    "val_data = tf.data.Dataset.from_tensor_slices((std_val_features[i], val_labels[i])).batch(config.batch_size)\n",
    "i = np.arange(len(test_features))\n",
    "test_data = tf.data.Dataset.from_tensor_slices((std_test_features[i], test_labels[i])).batch(config.batch_size)\n",
    "N = len(dat)\n",
    "C = std_train_features.shape[1]\n",
    "T = std_train_features.shape[2]\n",
    "L = std_train_features.shape[-1]"
   ]
  },
  {
   "cell_type": "code",
   "execution_count": 93,
   "id": "89771259",
   "metadata": {},
   "outputs": [
    {
     "data": {
      "text/plain": [
       "(23103, 20, 100, 3)"
      ]
     },
     "execution_count": 93,
     "metadata": {},
     "output_type": "execute_result"
    }
   ],
   "source": [
    "std_train_features.shape"
   ]
  },
  {
   "cell_type": "code",
   "execution_count": 107,
   "id": "c34d5051",
   "metadata": {},
   "outputs": [
    {
     "name": "stdout",
     "output_type": "stream",
     "text": [
      "input: (None, 20, 100, 3)\n",
      "output CNN 1: (None, 20, 16)\n",
      "(None, 20, 16)\n",
      "Model: \"model\"\n",
      "_________________________________________________________________\n",
      " Layer (type)                Output Shape              Param #   \n",
      "=================================================================\n",
      " input_1 (InputLayer)        [(None, 20, 100, 3)]      0         \n",
      "                                                                 \n",
      " time_distributed (TimeDistr  (None, 20, 1, 16)        4816      \n",
      " ibuted)                                                         \n",
      "                                                                 \n",
      " time_distributed_1 (TimeDis  (None, 20, 16)           0         \n",
      " tributed)                                                       \n",
      "                                                                 \n",
      " bidirectional_1 (Bidirectio  (None, 64)               12544     \n",
      " nal)                                                            \n",
      "                                                                 \n",
      " dense (Dense)               (None, 16)                1040      \n",
      "                                                                 \n",
      " dense_1 (Dense)             (None, 20)                340       \n",
      "                                                                 \n",
      "=================================================================\n",
      "Total params: 18,740\n",
      "Trainable params: 18,740\n",
      "Non-trainable params: 0\n",
      "_________________________________________________________________\n"
     ]
    }
   ],
   "source": [
    "def build_model(C, T, L, cycle_numbers=20):\n",
    "    inputs = tf.keras.Input(shape=(C, T, L))\n",
    "    print(f'input: {inputs.shape}')\n",
    "    conv_1d_layer = tf.keras.layers.Conv1D(16, 100)\n",
    "    blstm_layer = tf.keras.layers.Bidirectional(tf.keras.layers.LSTM(16))\n",
    "    x = tf.keras.layers.TimeDistributed(conv_1d_layer, input_shape=(5, 3))(inputs)\n",
    "    x = tf.keras.layers.TimeDistributed(tf.keras.layers.Flatten())(x)\n",
    "#     x = tf.keras.layers.Reshape((100, 64))(x)\n",
    "    print(f'output CNN 1: {x.shape}')\n",
    "#     conv_1d_layer = tf.keras.layers.Conv1D(64, 5, input_shape=(100,64))\n",
    "#     x = tf.keras.layers.TimeDistributed(conv_1d_layer, input_shape=(100,))(x)\n",
    "    print(x.shape)\n",
    "    x = tf.keras.layers.Bidirectional(tf.keras.layers.LSTM(32, return_sequences=False))(x)\n",
    "    x = tf.keras.layers.Dense(16, activation='relu')(x)\n",
    "#     e = tf.keras.layers.Embedding(input_dim=config.vocab_size, \n",
    "#                                     output_dim=config.embedding_dim,\n",
    "#                                     mask_zero=True)(inputs)\n",
    "    yhat = tf.keras.layers.Dense(cycle_numbers)(x)\n",
    "    model = tf.keras.Model(inputs=[inputs], outputs=yhat)\n",
    "    return model\n",
    "tf.keras.backend.clear_session()\n",
    "model = build_model(C, T, L)\n",
    "opt = tf.optimizers.Adam(1e-3)\n",
    "model.compile(\n",
    "  opt,\n",
    "  loss='mean_squared_error')\n",
    "model.summary()"
   ]
  },
  {
   "cell_type": "code",
   "execution_count": 108,
   "id": "64ec02ba",
   "metadata": {},
   "outputs": [
    {
     "name": "stdout",
     "output_type": "stream",
     "text": [
      "Epoch 1/150\n",
      "46/46 [==============================] - 5s 47ms/step - loss: 3.4855 - val_loss: 2.8131 - lr: 0.0010\n",
      "Epoch 2/150\n",
      "46/46 [==============================] - 1s 26ms/step - loss: 1.2137 - val_loss: 0.9086 - lr: 0.0010\n",
      "Epoch 3/150\n",
      "46/46 [==============================] - 1s 26ms/step - loss: 0.3017 - val_loss: 0.5406 - lr: 0.0010\n",
      "Epoch 4/150\n",
      "46/46 [==============================] - 1s 25ms/step - loss: 0.1886 - val_loss: 0.5001 - lr: 0.0010\n",
      "Epoch 5/150\n",
      "46/46 [==============================] - 1s 25ms/step - loss: 0.1655 - val_loss: 0.5114 - lr: 0.0010\n",
      "Epoch 6/150\n",
      "46/46 [==============================] - 1s 25ms/step - loss: 0.1537 - val_loss: 0.5676 - lr: 0.0010\n",
      "Epoch 7/150\n",
      "46/46 [==============================] - 1s 25ms/step - loss: 0.1442 - val_loss: 0.5427 - lr: 0.0010\n",
      "Epoch 8/150\n",
      "46/46 [==============================] - 1s 25ms/step - loss: 0.1399 - val_loss: 0.4674 - lr: 0.0010\n",
      "Epoch 9/150\n",
      "46/46 [==============================] - 1s 25ms/step - loss: 0.1369 - val_loss: 0.5647 - lr: 0.0010\n",
      "Epoch 10/150\n",
      "46/46 [==============================] - 1s 25ms/step - loss: 0.1319 - val_loss: 0.5387 - lr: 0.0010\n",
      "Epoch 11/150\n",
      "46/46 [==============================] - 1s 25ms/step - loss: 0.1301 - val_loss: 0.5495 - lr: 0.0010\n",
      "Epoch 12/150\n",
      "46/46 [==============================] - 1s 25ms/step - loss: 0.1276 - val_loss: 0.5625 - lr: 0.0010\n",
      "Epoch 13/150\n",
      "46/46 [==============================] - 1s 25ms/step - loss: 0.1269 - val_loss: 0.5203 - lr: 0.0010\n",
      "Epoch 14/150\n",
      "46/46 [==============================] - 1s 25ms/step - loss: 0.1234 - val_loss: 0.5985 - lr: 9.0000e-04\n",
      "Epoch 15/150\n",
      "46/46 [==============================] - 1s 25ms/step - loss: 0.1233 - val_loss: 0.5383 - lr: 9.0000e-04\n",
      "Epoch 16/150\n",
      "46/46 [==============================] - 1s 25ms/step - loss: 0.1211 - val_loss: 0.5130 - lr: 9.0000e-04\n",
      "Epoch 17/150\n",
      "46/46 [==============================] - 1s 25ms/step - loss: 0.1184 - val_loss: 0.4805 - lr: 9.0000e-04\n",
      "Epoch 18/150\n",
      "46/46 [==============================] - 1s 25ms/step - loss: 0.1160 - val_loss: 0.5230 - lr: 9.0000e-04\n"
     ]
    }
   ],
   "source": [
    "result = model.fit(\n",
    "    train_data, \n",
    "    validation_data=val_data, \n",
    "    callbacks=[tf.keras.callbacks.ReduceLROnPlateau(\n",
    "            monitor=\"val_loss\", factor=0.9, patience=5, min_lr=1e-5\n",
    "        ), tf.keras.callbacks.EarlyStopping(monitor='val_loss', mode='min', restore_best_weights=True, patience=10)],\n",
    "# #         tf.keras.callbacks.LambdaCallback(\n",
    "# #         on_epoch_begin=lambda epochs,logs: print('lr =',lr_decayed_fn(opt.iterations).numpy())\n",
    "# #         ),\n",
    "#         ,\n",
    "    epochs=150)"
   ]
  },
  {
   "cell_type": "code",
   "execution_count": 109,
   "id": "f44bcf5d",
   "metadata": {},
   "outputs": [
    {
     "data": {
      "text/plain": [
       "Text(0.5, 0, 'Epochs')"
      ]
     },
     "execution_count": 109,
     "metadata": {},
     "output_type": "execute_result"
    },
    {
     "data": {
      "image/png": "[encoded data removed]",
      "text/plain": [
       "<Figure size 600x400 with 1 Axes>"
      ]
     },
     "metadata": {
      "needs_background": "light"
     },
     "output_type": "display_data"
    }
   ],
   "source": [
    "import matplotlib.pyplot as plt\n",
    "plt.figure(dpi=100)\n",
    "plt.plot(result.history['loss'], color='C0', label='Train')\n",
    "plt.plot(result.history['val_loss'], color='C1', label='Validation')\n",
    "plt.legend()\n",
    "plt.ylabel('MSE')\n",
    "plt.xlabel('Epochs')"
   ]
  },
  {
   "cell_type": "code",
   "execution_count": null,
   "id": "2ac1a7eb",
   "metadata": {},
   "outputs": [],
   "source": []
  }
 ],
 "metadata": {
  "kernelspec": {
   "display_name": "conda_beep",
   "language": "python",
   "name": "conda_beep"
  },
  "language_info": {
   "codemirror_mode": {
    "name": "ipython",
    "version": 3
   },
   "file_extension": ".py",
   "mimetype": "text/x-python",
   "name": "python",
   "nbconvert_exporter": "python",
   "pygments_lexer": "ipython3",
   "version": "3.8.13"
  }
 },
 "nbformat": 4,
 "nbformat_minor": 5
}
