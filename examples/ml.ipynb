{
 "cells": [
  {
   "cell_type": "code",
   "execution_count": 1,
   "id": "2e5c406a",
   "metadata": {},
   "outputs": [],
   "source": [
    "import os\n",
    "import bye_cycle\n",
    "import tensorflow as tf\n",
    "from tqdm import tqdm\n",
    "import numpy as np\n",
    "import pickle"
   ]
  },
  {
   "cell_type": "code",
   "execution_count": 2,
   "id": "15ccaa01",
   "metadata": {},
   "outputs": [],
   "source": [
    "# Disabling tf warnings\n",
    "tf.get_logger().setLevel('INFO')\n",
    "# Disabling GPU\n",
    "RUN_ON_GPU = True\n",
    "if not RUN_ON_GPU:\n",
    "    os.environ[\"CUDA_VISIBLE_DEVICES\"] = \"-1\""
   ]
  },
  {
   "cell_type": "code",
   "execution_count": 3,
   "id": "ae107846",
   "metadata": {},
   "outputs": [],
   "source": [
    "# gpus = tf.config.list_physical_devices('GPU')\n",
    "# if gpus:\n",
    "#   # Restrict TensorFlow to only allocate 1GB of memory on the first GPU\n",
    "#   try:\n",
    "#     tf.config.set_logical_device_configuration(\n",
    "#         gpus[0],\n",
    "#         [tf.config.LogicalDeviceConfiguration(memory_limit=32*1024)])\n",
    "#     logical_gpus = tf.config.list_logical_devices('GPU')\n",
    "#     print(len(gpus), \"Physical GPUs,\", len(logical_gpus), \"Logical GPUs\")\n",
    "#   except RuntimeError as e:\n",
    "#     # Virtual devices must be set before GPUs have been initialized\n",
    "#     print(e)"
   ]
  },
  {
   "cell_type": "code",
   "execution_count": 4,
   "id": "9dfbcf57",
   "metadata": {},
   "outputs": [
    {
     "name": "stdout",
     "output_type": "stream",
     "text": [
      "CACHED data is loaded.\n"
     ]
    }
   ],
   "source": [
    "dat = []\n",
    "for file in os.listdir('CACHED_DATA/'):\n",
    "    if file.startswith(\"cell\"):\n",
    "        with open(f'CACHED_DATA/{file}', 'rb') as f:\n",
    "            cell_data = np.array(pickle.load(f))[0]\n",
    "        dat.append(cell_data)\n",
    "print('CACHED data is loaded.')"
   ]
  },
  {
   "cell_type": "code",
   "execution_count": 5,
   "id": "9e12d47b",
   "metadata": {},
   "outputs": [],
   "source": [
    "# data_prep\n",
    "def prep_ml_data(dat):\n",
    "    features = np.empty([0, 100, 3])\n",
    "    labels = np.empty([0])\n",
    "    for d in tqdm(dat):\n",
    "        cell_features = d[:-1, :, :3] # drop the last cycle\n",
    "        cell_labels = np.array([d[i, 0, -1] for i in range(1, d.shape[0])]) # drop the first cycle\n",
    "        features = np.append(features, cell_features, axis=0)\n",
    "        labels = np.append(labels, cell_labels, axis=0)\n",
    "    return features, labels\n"
   ]
  },
  {
   "cell_type": "code",
   "execution_count": null,
   "id": "2e336fdb",
   "metadata": {},
   "outputs": [],
   "source": []
  },
  {
   "cell_type": "code",
   "execution_count": 6,
   "id": "2efb2b17",
   "metadata": {},
   "outputs": [
    {
     "data": {
      "text/plain": [
       "array([134, 279, 218, 100, 280,  43, 232, 217,  84,  26])"
      ]
     },
     "execution_count": 6,
     "metadata": {},
     "output_type": "execute_result"
    }
   ],
   "source": [
    "np.random.choice(np.arange(len(dat)),10)"
   ]
  },
  {
   "cell_type": "code",
   "execution_count": 7,
   "id": "00c207a7",
   "metadata": {},
   "outputs": [],
   "source": [
    "import random\n",
    "random.seed(0)\n",
    "indices = list(range(len(dat)))\n",
    "random.shuffle(indices)\n",
    "train_size = 0.9\n",
    "val_size = 0.09\n",
    "N_train = int(train_size *len(dat))\n",
    "N_val = int(val_size *len(dat))\n",
    "train_dat = dat[:N_train]\n",
    "# train_indices = random.sample(range(len(dat)), N_train)\n",
    "test_dat = dat[N_train:]\n",
    "val_dat = test_dat[:N_val]\n",
    "test_dat = test_dat[N_val:]\n",
    "\n",
    "# val_indices = random.sample(list(range(len(dat))).pop(train_indices), N_val)\n",
    "# N_test = len(dat) - N_train - N_val"
   ]
  },
  {
   "cell_type": "code",
   "execution_count": 8,
   "id": "e14c7705",
   "metadata": {},
   "outputs": [
    {
     "name": "stderr",
     "output_type": "stream",
     "text": [
      "100%|██████████| 339/339 [01:21<00:00,  4.17it/s]\n",
      "100%|██████████| 33/33 [00:00<00:00, 53.53it/s] \n",
      "100%|██████████| 5/5 [00:00<00:00, 216.09it/s]\n"
     ]
    }
   ],
   "source": [
    "train_features, train_labels = prep_ml_data(train_dat)\n",
    "val_features, val_labels = prep_ml_data(val_dat)\n",
    "test_features, test_labels = prep_ml_data(test_dat)"
   ]
  },
  {
   "cell_type": "code",
   "execution_count": 22,
   "id": "153d6b63",
   "metadata": {},
   "outputs": [],
   "source": [
    "def standardize(inputs):\n",
    "    fstd = np.std(inputs, axis=0)\n",
    "    fmean = np.mean(inputs, axis=0)\n",
    "    std_features = (inputs - fmean) / fstd\n",
    "    return std_features\n",
    "std_train_features = standardize(train_features)\n",
    "std_test_features = standardize(test_features)\n",
    "std_val_features = standardize(val_features)"
   ]
  },
  {
   "cell_type": "code",
   "execution_count": 43,
   "id": "29a05cdd",
   "metadata": {},
   "outputs": [],
   "source": [
    "from dataclasses import dataclass\n",
    "@dataclass\n",
    "class Config:\n",
    "    vocab_size: int\n",
    "    example_number: int\n",
    "    batch_size: int\n",
    "    buffer_size: int\n",
    "    rnn_units: int\n",
    "    hidden_dim: int\n",
    "    embedding_dim: int\n",
    "    reg_strength: float\n",
    "    lr: float\n",
    "    drop_rate: float\n",
    "        \n",
    "config = Config(vocab_size=21, # include gap\n",
    "                example_number=len(train_labels), \n",
    "                batch_size=512, \n",
    "                buffer_size=10000,\n",
    "                rnn_units=64,\n",
    "                hidden_dim=64,\n",
    "                embedding_dim=32,\n",
    "                reg_strength=0,\n",
    "                lr=1e-3,\n",
    "                drop_rate=0.1\n",
    "               )"
   ]
  },
  {
   "cell_type": "code",
   "execution_count": 70,
   "id": "f8fb7153",
   "metadata": {},
   "outputs": [],
   "source": [
    "# [:,:,:2]\n",
    "np.random.seed(0)\n",
    "i = np.arange(len(train_features))\n",
    "np.random.shuffle(i)\n",
    "train_data = tf.data.Dataset.from_tensor_slices((std_train_features[i], train_labels[i])).batch(config.batch_size)\n",
    "i = np.arange(len(val_features))\n",
    "val_data = tf.data.Dataset.from_tensor_slices((std_val_features[i], val_labels[i])).batch(config.batch_size)\n",
    "i = np.arange(len(test_features))\n",
    "test_data = tf.data.Dataset.from_tensor_slices((std_test_features[i], test_labels[i])).batch(config.batch_size)\n",
    "N = len(dat)\n",
    "# C = train_features.shape[2]\n",
    "T = train_features.shape[1]\n",
    "L = 3 # train_features.shape[-1]"
   ]
  },
  {
   "cell_type": "code",
   "execution_count": 82,
   "id": "2207b55b",
   "metadata": {},
   "outputs": [],
   "source": [
    "def build_model(T, L):\n",
    "    inputs = tf.keras.Input(shape=(T, L))\n",
    "    print(f'input: {inputs.shape}')\n",
    "    conv_1d_layer = tf.keras.layers.Conv1D(128, 100)\n",
    "#     blstm_layer = tf.keras.layers.Bidirectional(tf.keras.layers.LSTM(128))\n",
    "#     x = tf.keras.layers.TimeDistributed(conv_1d_layer, input_shape=(100, 3))(inputs)\n",
    "#     x = tf.keras.layers.TimeDistributed(tf.keras.layers.Flatten())(x)\n",
    "#     x = tf.keras.layers.Reshape((100, 64))(x)\n",
    "#     print(f'output CNN 1: {x.shape}')\n",
    "#     conv_1d_layer = tf.keras.layers.Conv1D(64, 5, input_shape=(100,64))\n",
    "#     x = tf.keras.layers.TimeDistributed(conv_1d_layer, input_shape=(100,))(x)\n",
    "    \n",
    "    x = tf.keras.layers.Bidirectional(tf.keras.layers.LSTM(32, return_sequences=False))(inputs)\n",
    "    print(x.shape)\n",
    "    x = tf.keras.layers.Dense(16, activation='relu')(x)\n",
    "#     x = tf.keras.layers.Dense(16, activation='relu')(x)\n",
    "#     e = tf.keras.layers.Embedding(input_dim=config.vocab_size, \n",
    "#                                     output_dim=config.embedding_dim,\n",
    "#                                     mask_zero=True)(inputs)\n",
    "    yhat = tf.keras.layers.Dense(1)(x)\n",
    "    model = tf.keras.Model(inputs=[inputs], outputs=yhat)\n",
    "    return model"
   ]
  },
  {
   "cell_type": "code",
   "execution_count": 83,
   "id": "34a48098",
   "metadata": {},
   "outputs": [
    {
     "name": "stdout",
     "output_type": "stream",
     "text": [
      "Model: \"model\"\n",
      "_________________________________________________________________\n",
      " Layer (type)                Output Shape              Param #   \n",
      "=================================================================\n",
      " input_1 (InputLayer)        [(None, 100, 3)]          0         \n",
      "                                                                 \n",
      " bidirectional (Bidirectiona  (None, 64)               9216      \n",
      " l)                                                              \n",
      "                                                                 \n",
      " dense (Dense)               (None, 64)                4160      \n",
      "                                                                 \n",
      " dense_1 (Dense)             (None, 16)                1040      \n",
      "                                                                 \n",
      " dense_2 (Dense)             (None, 1)                 17        \n",
      "                                                                 \n",
      "=================================================================\n",
      "Total params: 14,433\n",
      "Trainable params: 14,433\n",
      "Non-trainable params: 0\n",
      "_________________________________________________________________\n"
     ]
    }
   ],
   "source": [
    "model.summary()"
   ]
  },
  {
   "cell_type": "code",
   "execution_count": 84,
   "id": "5b828cc2",
   "metadata": {},
   "outputs": [
    {
     "name": "stdout",
     "output_type": "stream",
     "text": [
      "input: (None, 100, 3)\n",
      "(None, 64)\n"
     ]
    }
   ],
   "source": [
    "tf.keras.backend.clear_session()\n",
    "model = build_model(T, L)\n",
    "opt = tf.optimizers.Adam(1e-2)\n",
    "model.compile(\n",
    "  opt,\n",
    "  loss='mean_squared_error')"
   ]
  },
  {
   "cell_type": "code",
   "execution_count": 85,
   "id": "f654c741",
   "metadata": {},
   "outputs": [
    {
     "data": {
      "text/plain": [
       "(471612, 100, 3)"
      ]
     },
     "execution_count": 85,
     "metadata": {},
     "output_type": "execute_result"
    }
   ],
   "source": [
    "train_features.shape"
   ]
  },
  {
   "cell_type": "code",
   "execution_count": 86,
   "id": "2af00ba3",
   "metadata": {},
   "outputs": [
    {
     "name": "stdout",
     "output_type": "stream",
     "text": [
      "Epoch 1/150\n",
      "922/922 [==============================] - 41s 41ms/step - loss: 0.1494 - val_loss: 0.4873 - lr: 0.0100\n",
      "Epoch 2/150\n",
      "922/922 [==============================] - 36s 39ms/step - loss: 0.0969 - val_loss: 0.4584 - lr: 0.0100\n",
      "Epoch 3/150\n",
      "922/922 [==============================] - 36s 39ms/step - loss: 0.0802 - val_loss: 0.5474 - lr: 0.0100\n",
      "Epoch 4/150\n",
      "922/922 [==============================] - 36s 39ms/step - loss: 0.0678 - val_loss: 0.6170 - lr: 0.0100\n",
      "Epoch 5/150\n",
      "922/922 [==============================] - 36s 39ms/step - loss: 0.0641 - val_loss: 0.6303 - lr: 0.0100\n",
      "Epoch 6/150\n",
      "922/922 [==============================] - 36s 39ms/step - loss: 0.0646 - val_loss: 0.6089 - lr: 0.0100\n",
      "Epoch 7/150\n",
      "922/922 [==============================] - 36s 39ms/step - loss: 0.0602 - val_loss: 0.5202 - lr: 0.0100\n",
      "Epoch 8/150\n",
      "922/922 [==============================] - 36s 39ms/step - loss: 0.0570 - val_loss: 0.5490 - lr: 0.0090\n",
      "Epoch 9/150\n",
      "922/922 [==============================] - 36s 39ms/step - loss: 0.0546 - val_loss: 0.5435 - lr: 0.0090\n",
      "Epoch 10/150\n",
      "922/922 [==============================] - 36s 39ms/step - loss: 0.0526 - val_loss: 0.5177 - lr: 0.0090\n",
      "Epoch 11/150\n",
      "922/922 [==============================] - 36s 39ms/step - loss: 0.0517 - val_loss: 0.5361 - lr: 0.0090\n",
      "Epoch 12/150\n",
      "922/922 [==============================] - 36s 39ms/step - loss: 0.0526 - val_loss: 0.4788 - lr: 0.0090\n",
      "Epoch 13/150\n",
      "922/922 [==============================] - 36s 39ms/step - loss: 0.0525 - val_loss: 0.6246 - lr: 0.0081\n",
      "Epoch 14/150\n",
      "922/922 [==============================] - 36s 39ms/step - loss: 0.0487 - val_loss: 0.5356 - lr: 0.0081\n",
      "Epoch 15/150\n",
      "922/922 [==============================] - 36s 39ms/step - loss: 0.0478 - val_loss: 0.5695 - lr: 0.0081\n",
      "Epoch 16/150\n",
      "922/922 [==============================] - 36s 39ms/step - loss: 0.0475 - val_loss: 0.6705 - lr: 0.0081\n",
      "Epoch 17/150\n",
      "922/922 [==============================] - 36s 39ms/step - loss: 0.0496 - val_loss: 0.5657 - lr: 0.0081\n",
      "Epoch 18/150\n",
      "922/922 [==============================] - 36s 39ms/step - loss: 0.0455 - val_loss: 0.6205 - lr: 0.0073\n",
      "Epoch 19/150\n",
      "922/922 [==============================] - 36s 39ms/step - loss: 0.0448 - val_loss: 0.6060 - lr: 0.0073\n",
      "Epoch 20/150\n",
      "922/922 [==============================] - 36s 39ms/step - loss: 0.0445 - val_loss: 0.6345 - lr: 0.0073\n",
      "Epoch 21/150\n",
      "922/922 [==============================] - 36s 39ms/step - loss: 0.0439 - val_loss: 0.6148 - lr: 0.0073\n",
      "Epoch 22/150\n",
      "922/922 [==============================] - 36s 39ms/step - loss: 0.0476 - val_loss: 0.5595 - lr: 0.0073\n",
      "Epoch 23/150\n",
      "922/922 [==============================] - 36s 39ms/step - loss: 0.0454 - val_loss: 0.6106 - lr: 0.0066\n",
      "Epoch 24/150\n",
      "922/922 [==============================] - 35s 38ms/step - loss: 0.0441 - val_loss: 0.6476 - lr: 0.0066\n",
      "Epoch 25/150\n",
      "922/922 [==============================] - 35s 38ms/step - loss: 0.0433 - val_loss: 0.5719 - lr: 0.0066\n",
      "Epoch 26/150\n",
      "922/922 [==============================] - 35s 38ms/step - loss: 0.0425 - val_loss: 0.5979 - lr: 0.0066\n",
      "Epoch 27/150\n",
      "922/922 [==============================] - 35s 38ms/step - loss: 0.0417 - val_loss: 0.6219 - lr: 0.0066\n",
      "Epoch 28/150\n",
      "922/922 [==============================] - 35s 38ms/step - loss: 0.0409 - val_loss: 0.5441 - lr: 0.0059\n",
      "Epoch 29/150\n",
      "922/922 [==============================] - 35s 38ms/step - loss: 0.0405 - val_loss: 0.6037 - lr: 0.0059\n",
      "Epoch 30/150\n",
      "922/922 [==============================] - 35s 38ms/step - loss: 0.0403 - val_loss: 0.6051 - lr: 0.0059\n",
      "Epoch 31/150\n",
      "922/922 [==============================] - 35s 38ms/step - loss: 0.0408 - val_loss: 0.5905 - lr: 0.0059\n",
      "Epoch 32/150\n",
      "922/922 [==============================] - 35s 38ms/step - loss: 0.0403 - val_loss: 0.5886 - lr: 0.0059\n",
      "Epoch 33/150\n",
      "922/922 [==============================] - 35s 38ms/step - loss: 0.0393 - val_loss: 0.5949 - lr: 0.0053\n",
      "Epoch 34/150\n",
      "922/922 [==============================] - 35s 38ms/step - loss: 0.0390 - val_loss: 0.5836 - lr: 0.0053\n",
      "Epoch 35/150\n",
      "922/922 [==============================] - 35s 38ms/step - loss: 0.0389 - val_loss: 0.5636 - lr: 0.0053\n",
      "Epoch 36/150\n",
      "922/922 [==============================] - 35s 38ms/step - loss: 0.0387 - val_loss: 0.5568 - lr: 0.0053\n",
      "Epoch 37/150\n",
      "899/922 [============================>.] - ETA: 0s - loss: 0.0386"
     ]
    },
    {
     "ename": "KeyboardInterrupt",
     "evalue": "",
     "output_type": "error",
     "traceback": [
      "\u001b[0;31m---------------------------------------------------------------------------\u001b[0m",
      "\u001b[0;31mKeyboardInterrupt\u001b[0m                         Traceback (most recent call last)",
      "Input \u001b[0;32mIn [86]\u001b[0m, in \u001b[0;36m<cell line: 1>\u001b[0;34m()\u001b[0m\n\u001b[0;32m----> 1\u001b[0m result \u001b[38;5;241m=\u001b[39m \u001b[43mmodel\u001b[49m\u001b[38;5;241;43m.\u001b[39;49m\u001b[43mfit\u001b[49m\u001b[43m(\u001b[49m\n\u001b[1;32m      2\u001b[0m \u001b[43m    \u001b[49m\u001b[43mtrain_data\u001b[49m\u001b[43m,\u001b[49m\u001b[43m \u001b[49m\n\u001b[1;32m      3\u001b[0m \u001b[43m    \u001b[49m\u001b[43mvalidation_data\u001b[49m\u001b[38;5;241;43m=\u001b[39;49m\u001b[43mval_data\u001b[49m\u001b[43m,\u001b[49m\u001b[43m \u001b[49m\n\u001b[1;32m      4\u001b[0m \u001b[43m    \u001b[49m\u001b[43mcallbacks\u001b[49m\u001b[38;5;241;43m=\u001b[39;49m\u001b[43m[\u001b[49m\u001b[43mtf\u001b[49m\u001b[38;5;241;43m.\u001b[39;49m\u001b[43mkeras\u001b[49m\u001b[38;5;241;43m.\u001b[39;49m\u001b[43mcallbacks\u001b[49m\u001b[38;5;241;43m.\u001b[39;49m\u001b[43mReduceLROnPlateau\u001b[49m\u001b[43m(\u001b[49m\n\u001b[1;32m      5\u001b[0m \u001b[43m            \u001b[49m\u001b[43mmonitor\u001b[49m\u001b[38;5;241;43m=\u001b[39;49m\u001b[38;5;124;43m\"\u001b[39;49m\u001b[38;5;124;43mval_loss\u001b[39;49m\u001b[38;5;124;43m\"\u001b[39;49m\u001b[43m,\u001b[49m\u001b[43m \u001b[49m\u001b[43mfactor\u001b[49m\u001b[38;5;241;43m=\u001b[39;49m\u001b[38;5;241;43m0.9\u001b[39;49m\u001b[43m,\u001b[49m\u001b[43m \u001b[49m\u001b[43mpatience\u001b[49m\u001b[38;5;241;43m=\u001b[39;49m\u001b[38;5;241;43m5\u001b[39;49m\u001b[43m,\u001b[49m\u001b[43m \u001b[49m\u001b[43mmin_lr\u001b[49m\u001b[38;5;241;43m=\u001b[39;49m\u001b[38;5;241;43m1e-5\u001b[39;49m\n\u001b[1;32m      6\u001b[0m \u001b[43m        \u001b[49m\u001b[43m)\u001b[49m\u001b[43m,\u001b[49m\u001b[43m \u001b[49m\u001b[43mtf\u001b[49m\u001b[38;5;241;43m.\u001b[39;49m\u001b[43mkeras\u001b[49m\u001b[38;5;241;43m.\u001b[39;49m\u001b[43mcallbacks\u001b[49m\u001b[38;5;241;43m.\u001b[39;49m\u001b[43mEarlyStopping\u001b[49m\u001b[43m(\u001b[49m\u001b[43mmonitor\u001b[49m\u001b[38;5;241;43m=\u001b[39;49m\u001b[38;5;124;43m'\u001b[39;49m\u001b[38;5;124;43mloss\u001b[39;49m\u001b[38;5;124;43m'\u001b[39;49m\u001b[43m,\u001b[49m\u001b[43m \u001b[49m\u001b[43mmode\u001b[49m\u001b[38;5;241;43m=\u001b[39;49m\u001b[38;5;124;43m'\u001b[39;49m\u001b[38;5;124;43mmin\u001b[39;49m\u001b[38;5;124;43m'\u001b[39;49m\u001b[43m,\u001b[49m\u001b[43m \u001b[49m\u001b[43mrestore_best_weights\u001b[49m\u001b[38;5;241;43m=\u001b[39;49m\u001b[38;5;28;43;01mTrue\u001b[39;49;00m\u001b[43m,\u001b[49m\u001b[43m \u001b[49m\u001b[43mpatience\u001b[49m\u001b[38;5;241;43m=\u001b[39;49m\u001b[38;5;241;43m10\u001b[39;49m\u001b[43m)\u001b[49m\u001b[43m]\u001b[49m\u001b[43m,\u001b[49m\n\u001b[1;32m      7\u001b[0m \u001b[38;5;66;43;03m# #         tf.keras.callbacks.LambdaCallback(\u001b[39;49;00m\n\u001b[1;32m      8\u001b[0m \u001b[38;5;66;43;03m# #         on_epoch_begin=lambda epochs,logs: print('lr =',lr_decayed_fn(opt.iterations).numpy())\u001b[39;49;00m\n\u001b[1;32m      9\u001b[0m \u001b[38;5;66;43;03m# #         ),\u001b[39;49;00m\n\u001b[1;32m     10\u001b[0m \u001b[38;5;66;43;03m#         ,\u001b[39;49;00m\n\u001b[1;32m     11\u001b[0m \u001b[43m    \u001b[49m\u001b[43mepochs\u001b[49m\u001b[38;5;241;43m=\u001b[39;49m\u001b[38;5;241;43m150\u001b[39;49m\u001b[43m)\u001b[49m\n",
      "File \u001b[0;32m~/anaconda3/envs/beep/lib/python3.8/site-packages/keras/utils/traceback_utils.py:64\u001b[0m, in \u001b[0;36mfilter_traceback.<locals>.error_handler\u001b[0;34m(*args, **kwargs)\u001b[0m\n\u001b[1;32m     62\u001b[0m filtered_tb \u001b[38;5;241m=\u001b[39m \u001b[38;5;28;01mNone\u001b[39;00m\n\u001b[1;32m     63\u001b[0m \u001b[38;5;28;01mtry\u001b[39;00m:\n\u001b[0;32m---> 64\u001b[0m   \u001b[38;5;28;01mreturn\u001b[39;00m \u001b[43mfn\u001b[49m\u001b[43m(\u001b[49m\u001b[38;5;241;43m*\u001b[39;49m\u001b[43margs\u001b[49m\u001b[43m,\u001b[49m\u001b[43m \u001b[49m\u001b[38;5;241;43m*\u001b[39;49m\u001b[38;5;241;43m*\u001b[39;49m\u001b[43mkwargs\u001b[49m\u001b[43m)\u001b[49m\n\u001b[1;32m     65\u001b[0m \u001b[38;5;28;01mexcept\u001b[39;00m \u001b[38;5;167;01mException\u001b[39;00m \u001b[38;5;28;01mas\u001b[39;00m e:  \u001b[38;5;66;03m# pylint: disable=broad-except\u001b[39;00m\n\u001b[1;32m     66\u001b[0m   filtered_tb \u001b[38;5;241m=\u001b[39m _process_traceback_frames(e\u001b[38;5;241m.\u001b[39m__traceback__)\n",
      "File \u001b[0;32m~/anaconda3/envs/beep/lib/python3.8/site-packages/keras/engine/training.py:1414\u001b[0m, in \u001b[0;36mModel.fit\u001b[0;34m(self, x, y, batch_size, epochs, verbose, callbacks, validation_split, validation_data, shuffle, class_weight, sample_weight, initial_epoch, steps_per_epoch, validation_steps, validation_batch_size, validation_freq, max_queue_size, workers, use_multiprocessing)\u001b[0m\n\u001b[1;32m   1412\u001b[0m logs \u001b[38;5;241m=\u001b[39m tmp_logs  \u001b[38;5;66;03m# No error, now safe to assign to logs.\u001b[39;00m\n\u001b[1;32m   1413\u001b[0m end_step \u001b[38;5;241m=\u001b[39m step \u001b[38;5;241m+\u001b[39m data_handler\u001b[38;5;241m.\u001b[39mstep_increment\n\u001b[0;32m-> 1414\u001b[0m \u001b[43mcallbacks\u001b[49m\u001b[38;5;241;43m.\u001b[39;49m\u001b[43mon_train_batch_end\u001b[49m\u001b[43m(\u001b[49m\u001b[43mend_step\u001b[49m\u001b[43m,\u001b[49m\u001b[43m \u001b[49m\u001b[43mlogs\u001b[49m\u001b[43m)\u001b[49m\n\u001b[1;32m   1415\u001b[0m \u001b[38;5;28;01mif\u001b[39;00m \u001b[38;5;28mself\u001b[39m\u001b[38;5;241m.\u001b[39mstop_training:\n\u001b[1;32m   1416\u001b[0m   \u001b[38;5;28;01mbreak\u001b[39;00m\n",
      "File \u001b[0;32m~/anaconda3/envs/beep/lib/python3.8/site-packages/keras/callbacks.py:438\u001b[0m, in \u001b[0;36mCallbackList.on_train_batch_end\u001b[0;34m(self, batch, logs)\u001b[0m\n\u001b[1;32m    431\u001b[0m \u001b[38;5;124;03m\"\"\"Calls the `on_train_batch_end` methods of its callbacks.\u001b[39;00m\n\u001b[1;32m    432\u001b[0m \n\u001b[1;32m    433\u001b[0m \u001b[38;5;124;03mArgs:\u001b[39;00m\n\u001b[1;32m    434\u001b[0m \u001b[38;5;124;03m    batch: Integer, index of batch within the current epoch.\u001b[39;00m\n\u001b[1;32m    435\u001b[0m \u001b[38;5;124;03m    logs: Dict. Aggregated metric results up until this batch.\u001b[39;00m\n\u001b[1;32m    436\u001b[0m \u001b[38;5;124;03m\"\"\"\u001b[39;00m\n\u001b[1;32m    437\u001b[0m \u001b[38;5;28;01mif\u001b[39;00m \u001b[38;5;28mself\u001b[39m\u001b[38;5;241m.\u001b[39m_should_call_train_batch_hooks:\n\u001b[0;32m--> 438\u001b[0m   \u001b[38;5;28;43mself\u001b[39;49m\u001b[38;5;241;43m.\u001b[39;49m\u001b[43m_call_batch_hook\u001b[49m\u001b[43m(\u001b[49m\u001b[43mModeKeys\u001b[49m\u001b[38;5;241;43m.\u001b[39;49m\u001b[43mTRAIN\u001b[49m\u001b[43m,\u001b[49m\u001b[43m \u001b[49m\u001b[38;5;124;43m'\u001b[39;49m\u001b[38;5;124;43mend\u001b[39;49m\u001b[38;5;124;43m'\u001b[39;49m\u001b[43m,\u001b[49m\u001b[43m \u001b[49m\u001b[43mbatch\u001b[49m\u001b[43m,\u001b[49m\u001b[43m \u001b[49m\u001b[43mlogs\u001b[49m\u001b[38;5;241;43m=\u001b[39;49m\u001b[43mlogs\u001b[49m\u001b[43m)\u001b[49m\n",
      "File \u001b[0;32m~/anaconda3/envs/beep/lib/python3.8/site-packages/keras/callbacks.py:297\u001b[0m, in \u001b[0;36mCallbackList._call_batch_hook\u001b[0;34m(self, mode, hook, batch, logs)\u001b[0m\n\u001b[1;32m    295\u001b[0m   \u001b[38;5;28mself\u001b[39m\u001b[38;5;241m.\u001b[39m_call_batch_begin_hook(mode, batch, logs)\n\u001b[1;32m    296\u001b[0m \u001b[38;5;28;01melif\u001b[39;00m hook \u001b[38;5;241m==\u001b[39m \u001b[38;5;124m'\u001b[39m\u001b[38;5;124mend\u001b[39m\u001b[38;5;124m'\u001b[39m:\n\u001b[0;32m--> 297\u001b[0m   \u001b[38;5;28;43mself\u001b[39;49m\u001b[38;5;241;43m.\u001b[39;49m\u001b[43m_call_batch_end_hook\u001b[49m\u001b[43m(\u001b[49m\u001b[43mmode\u001b[49m\u001b[43m,\u001b[49m\u001b[43m \u001b[49m\u001b[43mbatch\u001b[49m\u001b[43m,\u001b[49m\u001b[43m \u001b[49m\u001b[43mlogs\u001b[49m\u001b[43m)\u001b[49m\n\u001b[1;32m    298\u001b[0m \u001b[38;5;28;01melse\u001b[39;00m:\n\u001b[1;32m    299\u001b[0m   \u001b[38;5;28;01mraise\u001b[39;00m \u001b[38;5;167;01mValueError\u001b[39;00m(\n\u001b[1;32m    300\u001b[0m       \u001b[38;5;124mf\u001b[39m\u001b[38;5;124m'\u001b[39m\u001b[38;5;124mUnrecognized hook: \u001b[39m\u001b[38;5;132;01m{\u001b[39;00mhook\u001b[38;5;132;01m}\u001b[39;00m\u001b[38;5;124m. Expected values are [\u001b[39m\u001b[38;5;124m\"\u001b[39m\u001b[38;5;124mbegin\u001b[39m\u001b[38;5;124m\"\u001b[39m\u001b[38;5;124m, \u001b[39m\u001b[38;5;124m\"\u001b[39m\u001b[38;5;124mend\u001b[39m\u001b[38;5;124m\"\u001b[39m\u001b[38;5;124m]\u001b[39m\u001b[38;5;124m'\u001b[39m)\n",
      "File \u001b[0;32m~/anaconda3/envs/beep/lib/python3.8/site-packages/keras/callbacks.py:318\u001b[0m, in \u001b[0;36mCallbackList._call_batch_end_hook\u001b[0;34m(self, mode, batch, logs)\u001b[0m\n\u001b[1;32m    315\u001b[0m   batch_time \u001b[38;5;241m=\u001b[39m time\u001b[38;5;241m.\u001b[39mtime() \u001b[38;5;241m-\u001b[39m \u001b[38;5;28mself\u001b[39m\u001b[38;5;241m.\u001b[39m_batch_start_time\n\u001b[1;32m    316\u001b[0m   \u001b[38;5;28mself\u001b[39m\u001b[38;5;241m.\u001b[39m_batch_times\u001b[38;5;241m.\u001b[39mappend(batch_time)\n\u001b[0;32m--> 318\u001b[0m \u001b[38;5;28;43mself\u001b[39;49m\u001b[38;5;241;43m.\u001b[39;49m\u001b[43m_call_batch_hook_helper\u001b[49m\u001b[43m(\u001b[49m\u001b[43mhook_name\u001b[49m\u001b[43m,\u001b[49m\u001b[43m \u001b[49m\u001b[43mbatch\u001b[49m\u001b[43m,\u001b[49m\u001b[43m \u001b[49m\u001b[43mlogs\u001b[49m\u001b[43m)\u001b[49m\n\u001b[1;32m    320\u001b[0m \u001b[38;5;28;01mif\u001b[39;00m \u001b[38;5;28mlen\u001b[39m(\u001b[38;5;28mself\u001b[39m\u001b[38;5;241m.\u001b[39m_batch_times) \u001b[38;5;241m>\u001b[39m\u001b[38;5;241m=\u001b[39m \u001b[38;5;28mself\u001b[39m\u001b[38;5;241m.\u001b[39m_num_batches_for_timing_check:\n\u001b[1;32m    321\u001b[0m   end_hook_name \u001b[38;5;241m=\u001b[39m hook_name\n",
      "File \u001b[0;32m~/anaconda3/envs/beep/lib/python3.8/site-packages/keras/callbacks.py:356\u001b[0m, in \u001b[0;36mCallbackList._call_batch_hook_helper\u001b[0;34m(self, hook_name, batch, logs)\u001b[0m\n\u001b[1;32m    354\u001b[0m \u001b[38;5;28;01mfor\u001b[39;00m callback \u001b[38;5;129;01min\u001b[39;00m \u001b[38;5;28mself\u001b[39m\u001b[38;5;241m.\u001b[39mcallbacks:\n\u001b[1;32m    355\u001b[0m   hook \u001b[38;5;241m=\u001b[39m \u001b[38;5;28mgetattr\u001b[39m(callback, hook_name)\n\u001b[0;32m--> 356\u001b[0m   \u001b[43mhook\u001b[49m\u001b[43m(\u001b[49m\u001b[43mbatch\u001b[49m\u001b[43m,\u001b[49m\u001b[43m \u001b[49m\u001b[43mlogs\u001b[49m\u001b[43m)\u001b[49m\n\u001b[1;32m    358\u001b[0m \u001b[38;5;28;01mif\u001b[39;00m \u001b[38;5;28mself\u001b[39m\u001b[38;5;241m.\u001b[39m_check_timing:\n\u001b[1;32m    359\u001b[0m   \u001b[38;5;28;01mif\u001b[39;00m hook_name \u001b[38;5;129;01mnot\u001b[39;00m \u001b[38;5;129;01min\u001b[39;00m \u001b[38;5;28mself\u001b[39m\u001b[38;5;241m.\u001b[39m_hook_times:\n",
      "File \u001b[0;32m~/anaconda3/envs/beep/lib/python3.8/site-packages/keras/callbacks.py:1034\u001b[0m, in \u001b[0;36mProgbarLogger.on_train_batch_end\u001b[0;34m(self, batch, logs)\u001b[0m\n\u001b[1;32m   1033\u001b[0m \u001b[38;5;28;01mdef\u001b[39;00m \u001b[38;5;21mon_train_batch_end\u001b[39m(\u001b[38;5;28mself\u001b[39m, batch, logs\u001b[38;5;241m=\u001b[39m\u001b[38;5;28;01mNone\u001b[39;00m):\n\u001b[0;32m-> 1034\u001b[0m   \u001b[38;5;28;43mself\u001b[39;49m\u001b[38;5;241;43m.\u001b[39;49m\u001b[43m_batch_update_progbar\u001b[49m\u001b[43m(\u001b[49m\u001b[43mbatch\u001b[49m\u001b[43m,\u001b[49m\u001b[43m \u001b[49m\u001b[43mlogs\u001b[49m\u001b[43m)\u001b[49m\n",
      "File \u001b[0;32m~/anaconda3/envs/beep/lib/python3.8/site-packages/keras/callbacks.py:1106\u001b[0m, in \u001b[0;36mProgbarLogger._batch_update_progbar\u001b[0;34m(self, batch, logs)\u001b[0m\n\u001b[1;32m   1102\u001b[0m   \u001b[38;5;28mself\u001b[39m\u001b[38;5;241m.\u001b[39mseen \u001b[38;5;241m+\u001b[39m\u001b[38;5;241m=\u001b[39m add_seen\n\u001b[1;32m   1104\u001b[0m \u001b[38;5;28;01mif\u001b[39;00m \u001b[38;5;28mself\u001b[39m\u001b[38;5;241m.\u001b[39mverbose \u001b[38;5;241m==\u001b[39m \u001b[38;5;241m1\u001b[39m:\n\u001b[1;32m   1105\u001b[0m   \u001b[38;5;66;03m# Only block async when verbose = 1.\u001b[39;00m\n\u001b[0;32m-> 1106\u001b[0m   logs \u001b[38;5;241m=\u001b[39m \u001b[43mtf_utils\u001b[49m\u001b[38;5;241;43m.\u001b[39;49m\u001b[43msync_to_numpy_or_python_type\u001b[49m\u001b[43m(\u001b[49m\u001b[43mlogs\u001b[49m\u001b[43m)\u001b[49m\n\u001b[1;32m   1107\u001b[0m   \u001b[38;5;28mself\u001b[39m\u001b[38;5;241m.\u001b[39mprogbar\u001b[38;5;241m.\u001b[39mupdate(\u001b[38;5;28mself\u001b[39m\u001b[38;5;241m.\u001b[39mseen, \u001b[38;5;28mlist\u001b[39m(logs\u001b[38;5;241m.\u001b[39mitems()), finalize\u001b[38;5;241m=\u001b[39m\u001b[38;5;28;01mFalse\u001b[39;00m)\n",
      "File \u001b[0;32m~/anaconda3/envs/beep/lib/python3.8/site-packages/keras/utils/tf_utils.py:607\u001b[0m, in \u001b[0;36msync_to_numpy_or_python_type\u001b[0;34m(tensors)\u001b[0m\n\u001b[1;32m    604\u001b[0m     \u001b[38;5;28;01mreturn\u001b[39;00m t\n\u001b[1;32m    605\u001b[0m   \u001b[38;5;28;01mreturn\u001b[39;00m t\u001b[38;5;241m.\u001b[39mitem() \u001b[38;5;28;01mif\u001b[39;00m np\u001b[38;5;241m.\u001b[39mndim(t) \u001b[38;5;241m==\u001b[39m \u001b[38;5;241m0\u001b[39m \u001b[38;5;28;01melse\u001b[39;00m t\n\u001b[0;32m--> 607\u001b[0m \u001b[38;5;28;01mreturn\u001b[39;00m \u001b[43mtf\u001b[49m\u001b[38;5;241;43m.\u001b[39;49m\u001b[43mnest\u001b[49m\u001b[38;5;241;43m.\u001b[39;49m\u001b[43mmap_structure\u001b[49m\u001b[43m(\u001b[49m\u001b[43m_to_single_numpy_or_python_type\u001b[49m\u001b[43m,\u001b[49m\u001b[43m \u001b[49m\u001b[43mtensors\u001b[49m\u001b[43m)\u001b[49m\n",
      "File \u001b[0;32m~/anaconda3/envs/beep/lib/python3.8/site-packages/tensorflow/python/util/nest.py:916\u001b[0m, in \u001b[0;36mmap_structure\u001b[0;34m(func, *structure, **kwargs)\u001b[0m\n\u001b[1;32m    912\u001b[0m flat_structure \u001b[38;5;241m=\u001b[39m (flatten(s, expand_composites) \u001b[38;5;28;01mfor\u001b[39;00m s \u001b[38;5;129;01min\u001b[39;00m structure)\n\u001b[1;32m    913\u001b[0m entries \u001b[38;5;241m=\u001b[39m \u001b[38;5;28mzip\u001b[39m(\u001b[38;5;241m*\u001b[39mflat_structure)\n\u001b[1;32m    915\u001b[0m \u001b[38;5;28;01mreturn\u001b[39;00m pack_sequence_as(\n\u001b[0;32m--> 916\u001b[0m     structure[\u001b[38;5;241m0\u001b[39m], [func(\u001b[38;5;241m*\u001b[39mx) \u001b[38;5;28;01mfor\u001b[39;00m x \u001b[38;5;129;01min\u001b[39;00m entries],\n\u001b[1;32m    917\u001b[0m     expand_composites\u001b[38;5;241m=\u001b[39mexpand_composites)\n",
      "File \u001b[0;32m~/anaconda3/envs/beep/lib/python3.8/site-packages/tensorflow/python/util/nest.py:916\u001b[0m, in \u001b[0;36m<listcomp>\u001b[0;34m(.0)\u001b[0m\n\u001b[1;32m    912\u001b[0m flat_structure \u001b[38;5;241m=\u001b[39m (flatten(s, expand_composites) \u001b[38;5;28;01mfor\u001b[39;00m s \u001b[38;5;129;01min\u001b[39;00m structure)\n\u001b[1;32m    913\u001b[0m entries \u001b[38;5;241m=\u001b[39m \u001b[38;5;28mzip\u001b[39m(\u001b[38;5;241m*\u001b[39mflat_structure)\n\u001b[1;32m    915\u001b[0m \u001b[38;5;28;01mreturn\u001b[39;00m pack_sequence_as(\n\u001b[0;32m--> 916\u001b[0m     structure[\u001b[38;5;241m0\u001b[39m], [\u001b[43mfunc\u001b[49m\u001b[43m(\u001b[49m\u001b[38;5;241;43m*\u001b[39;49m\u001b[43mx\u001b[49m\u001b[43m)\u001b[49m \u001b[38;5;28;01mfor\u001b[39;00m x \u001b[38;5;129;01min\u001b[39;00m entries],\n\u001b[1;32m    917\u001b[0m     expand_composites\u001b[38;5;241m=\u001b[39mexpand_composites)\n",
      "File \u001b[0;32m~/anaconda3/envs/beep/lib/python3.8/site-packages/keras/utils/tf_utils.py:601\u001b[0m, in \u001b[0;36msync_to_numpy_or_python_type.<locals>._to_single_numpy_or_python_type\u001b[0;34m(t)\u001b[0m\n\u001b[1;32m    598\u001b[0m \u001b[38;5;28;01mdef\u001b[39;00m \u001b[38;5;21m_to_single_numpy_or_python_type\u001b[39m(t):\n\u001b[1;32m    599\u001b[0m   \u001b[38;5;66;03m# Don't turn ragged or sparse tensors to NumPy.\u001b[39;00m\n\u001b[1;32m    600\u001b[0m   \u001b[38;5;28;01mif\u001b[39;00m \u001b[38;5;28misinstance\u001b[39m(t, tf\u001b[38;5;241m.\u001b[39mTensor):\n\u001b[0;32m--> 601\u001b[0m     t \u001b[38;5;241m=\u001b[39m \u001b[43mt\u001b[49m\u001b[38;5;241;43m.\u001b[39;49m\u001b[43mnumpy\u001b[49m\u001b[43m(\u001b[49m\u001b[43m)\u001b[49m\n\u001b[1;32m    602\u001b[0m   \u001b[38;5;66;03m# Strings, ragged and sparse tensors don't have .item(). Return them as-is.\u001b[39;00m\n\u001b[1;32m    603\u001b[0m   \u001b[38;5;28;01mif\u001b[39;00m \u001b[38;5;129;01mnot\u001b[39;00m \u001b[38;5;28misinstance\u001b[39m(t, (np\u001b[38;5;241m.\u001b[39mndarray, np\u001b[38;5;241m.\u001b[39mgeneric)):\n",
      "File \u001b[0;32m~/anaconda3/envs/beep/lib/python3.8/site-packages/tensorflow/python/framework/ops.py:1159\u001b[0m, in \u001b[0;36m_EagerTensorBase.numpy\u001b[0;34m(self)\u001b[0m\n\u001b[1;32m   1136\u001b[0m \u001b[38;5;124;03m\"\"\"Copy of the contents of this Tensor into a NumPy array or scalar.\u001b[39;00m\n\u001b[1;32m   1137\u001b[0m \n\u001b[1;32m   1138\u001b[0m \u001b[38;5;124;03mUnlike NumPy arrays, Tensors are immutable, so this method has to copy\u001b[39;00m\n\u001b[0;32m   (...)\u001b[0m\n\u001b[1;32m   1156\u001b[0m \u001b[38;5;124;03m    NumPy dtype.\u001b[39;00m\n\u001b[1;32m   1157\u001b[0m \u001b[38;5;124;03m\"\"\"\u001b[39;00m\n\u001b[1;32m   1158\u001b[0m \u001b[38;5;66;03m# TODO(slebedev): Consider avoiding a copy for non-CPU or remote tensors.\u001b[39;00m\n\u001b[0;32m-> 1159\u001b[0m maybe_arr \u001b[38;5;241m=\u001b[39m \u001b[38;5;28;43mself\u001b[39;49m\u001b[38;5;241;43m.\u001b[39;49m\u001b[43m_numpy\u001b[49m\u001b[43m(\u001b[49m\u001b[43m)\u001b[49m  \u001b[38;5;66;03m# pylint: disable=protected-access\u001b[39;00m\n\u001b[1;32m   1160\u001b[0m \u001b[38;5;28;01mreturn\u001b[39;00m maybe_arr\u001b[38;5;241m.\u001b[39mcopy() \u001b[38;5;28;01mif\u001b[39;00m \u001b[38;5;28misinstance\u001b[39m(maybe_arr, np\u001b[38;5;241m.\u001b[39mndarray) \u001b[38;5;28;01melse\u001b[39;00m maybe_arr\n",
      "File \u001b[0;32m~/anaconda3/envs/beep/lib/python3.8/site-packages/tensorflow/python/framework/ops.py:1125\u001b[0m, in \u001b[0;36m_EagerTensorBase._numpy\u001b[0;34m(self)\u001b[0m\n\u001b[1;32m   1123\u001b[0m \u001b[38;5;28;01mdef\u001b[39;00m \u001b[38;5;21m_numpy\u001b[39m(\u001b[38;5;28mself\u001b[39m):\n\u001b[1;32m   1124\u001b[0m   \u001b[38;5;28;01mtry\u001b[39;00m:\n\u001b[0;32m-> 1125\u001b[0m     \u001b[38;5;28;01mreturn\u001b[39;00m \u001b[38;5;28;43mself\u001b[39;49m\u001b[38;5;241;43m.\u001b[39;49m\u001b[43m_numpy_internal\u001b[49m\u001b[43m(\u001b[49m\u001b[43m)\u001b[49m\n\u001b[1;32m   1126\u001b[0m   \u001b[38;5;28;01mexcept\u001b[39;00m core\u001b[38;5;241m.\u001b[39m_NotOkStatusException \u001b[38;5;28;01mas\u001b[39;00m e:  \u001b[38;5;66;03m# pylint: disable=protected-access\u001b[39;00m\n\u001b[1;32m   1127\u001b[0m     \u001b[38;5;28;01mraise\u001b[39;00m core\u001b[38;5;241m.\u001b[39m_status_to_exception(e) \u001b[38;5;28;01mfrom\u001b[39;00m \u001b[38;5;28mNone\u001b[39m\n",
      "\u001b[0;31mKeyboardInterrupt\u001b[0m: "
     ]
    }
   ],
   "source": [
    "result = model.fit(\n",
    "    train_data, \n",
    "    validation_data=val_data, \n",
    "    callbacks=[tf.keras.callbacks.ReduceLROnPlateau(\n",
    "            monitor=\"val_loss\", factor=0.9, patience=5, min_lr=1e-5\n",
    "        ), tf.keras.callbacks.EarlyStopping(monitor='loss', mode='min', restore_best_weights=True, patience=10)],\n",
    "# #         tf.keras.callbacks.LambdaCallback(\n",
    "# #         on_epoch_begin=lambda epochs,logs: print('lr =',lr_decayed_fn(opt.iterations).numpy())\n",
    "# #         ),\n",
    "#         ,\n",
    "    epochs=150)"
   ]
  },
  {
   "cell_type": "code",
   "execution_count": null,
   "id": "8858cabc",
   "metadata": {},
   "outputs": [],
   "source": [
    "plt.figure(dpi=100)\n",
    "plt.plot(result.history['loss'], color='C0', label='Train')\n",
    "plt.plot(result.history['val_loss'], color='C1', label='Validation')\n",
    "plt.legend()\n",
    "plt.ylabel('MSE')\n",
    "plt.xlabel('Epochs')"
   ]
  },
  {
   "cell_type": "code",
   "execution_count": 76,
   "id": "962021ed",
   "metadata": {},
   "outputs": [
    {
     "name": "stdout",
     "output_type": "stream",
     "text": [
      "20/20 [==============================] - 0s 15ms/step - loss: 0.6595\n"
     ]
    }
   ],
   "source": [
    "test_result = model.evaluate(test_data)"
   ]
  },
  {
   "cell_type": "code",
   "execution_count": 18,
   "id": "d98155ab",
   "metadata": {},
   "outputs": [
    {
     "data": {
      "text/plain": [
       "(array([1.169e+05, 7.382e+04, 6.194e+04, 1.266e+05, 7.346e+04, 1.732e+04,\n",
       "        1.589e+03, 6.000e+00, 3.000e+00, 3.000e+00]),\n",
       " array([1.886e-04, 7.544e-01, 1.509e+00, 2.263e+00, 3.017e+00, 3.771e+00,\n",
       "        4.525e+00, 5.280e+00, 6.034e+00, 6.788e+00, 7.542e+00]),\n",
       " <BarContainer object of 10 artists>)"
      ]
     },
     "execution_count": 18,
     "metadata": {},
     "output_type": "execute_result"
    },
    {
     "data": {
      "image/png": "[encoded data removed]",
      "text/plain": [
       "<Figure size 432x288 with 1 Axes>"
      ]
     },
     "metadata": {
      "needs_background": "light"
     },
     "output_type": "display_data"
    }
   ],
   "source": [
    "import matplotlib.pyplot as plt\n",
    "plt.hist(train_labels)"
   ]
  },
  {
   "cell_type": "code",
   "execution_count": 19,
   "id": "59141c52",
   "metadata": {},
   "outputs": [
    {
     "data": {
      "text/plain": [
       "(471612, 100, 3)"
      ]
     },
     "execution_count": 19,
     "metadata": {},
     "output_type": "execute_result"
    }
   ],
   "source": [
    "train_features.shape"
   ]
  },
  {
   "cell_type": "code",
   "execution_count": null,
   "id": "3675c00f",
   "metadata": {},
   "outputs": [],
   "source": []
  },
  {
   "cell_type": "code",
   "execution_count": 20,
   "id": "b07b9701",
   "metadata": {},
   "outputs": [],
   "source": [
    "fstd = np.std(train_features, axis=0)\n",
    "fmean = np.mean(train_features, axis=0)\n",
    "std_features = (train_features - fmean) / fstd"
   ]
  },
  {
   "cell_type": "code",
   "execution_count": null,
   "id": "f4b3834e",
   "metadata": {},
   "outputs": [],
   "source": [
    "stan"
   ]
  },
  {
   "cell_type": "code",
   "execution_count": 21,
   "id": "960e71d6",
   "metadata": {},
   "outputs": [
    {
     "data": {
      "text/plain": [
       "(471612, 100, 3)"
      ]
     },
     "execution_count": 21,
     "metadata": {},
     "output_type": "execute_result"
    }
   ],
   "source": [
    "std_features.shape"
   ]
  },
  {
   "cell_type": "code",
   "execution_count": 42,
   "id": "1c2c51b8",
   "metadata": {},
   "outputs": [
    {
     "data": {
      "text/plain": [
       "(120, 100, 4)"
      ]
     },
     "execution_count": 42,
     "metadata": {},
     "output_type": "execute_result"
    }
   ],
   "source": [
    "cycle_1 = dat[0]\n",
    "labels_1 = np.array([cycle_1[i, 0, -1] for i in range(1,cycle_1.shape[0])])"
   ]
  },
  {
   "cell_type": "code",
   "execution_count": 55,
   "id": "67cf8310",
   "metadata": {},
   "outputs": [
    {
     "name": "stdout",
     "output_type": "stream",
     "text": [
      "4.679043769836426 4.063972473144531\n",
      "4.67928409576416 4.057681083679199\n",
      "4.677210807800293 4.054137229919434\n",
      "4.6732025146484375 4.050907611846924\n",
      "4.669522762298584 4.047037124633789\n",
      "4.667201519012451 4.0441131591796875\n",
      "4.664853096008301 4.041234970092773\n",
      "4.6590800285339355 4.037606716156006\n",
      "4.6540117263793945 4.034421443939209\n",
      "4.648177146911621 4.030792713165283\n",
      "4.644162654876709 4.026839733123779\n",
      "4.638237953186035 4.023080348968506\n",
      "4.632976531982422 4.019033908843994\n",
      "4.626867771148682 4.01548957824707\n",
      "4.620232582092285 4.011753559112549\n",
      "4.614728927612305 4.008667945861816\n",
      "4.609258651733398 4.005490779876709\n",
      "4.601845741271973 4.002580642700195\n",
      "4.596648693084717 3.9993133544921875\n",
      "4.592094421386719 3.996623992919922\n",
      "4.583608627319336 3.9935522079467773\n",
      "4.578281402587891 3.990145444869995\n",
      "4.572017192840576 3.988149881362915\n",
      "4.565342426300049 3.984947681427002\n",
      "4.558945655822754 3.981903553009033\n",
      "4.551966190338135 3.97884202003479\n",
      "4.544899940490723 3.9764208793640137\n",
      "4.538436412811279 3.9735403060913086\n",
      "4.5308003425598145 3.9707839488983154\n",
      "4.523234844207764 3.9673962593078613\n",
      "4.53538179397583 3.9641501903533936\n",
      "4.5278449058532715 3.958836078643799\n",
      "4.521148681640625 3.9542887210845947\n",
      "4.512873649597168 3.950392007827759\n",
      "4.502866744995117 3.946357250213623\n",
      "4.49619197845459 3.942579746246338\n",
      "4.485743522644043 3.939211845397949\n",
      "4.477250576019287 3.9357404708862305\n",
      "4.470167636871338 3.932446002960205\n",
      "4.459231376647949 3.929459571838379\n",
      "4.449305057525635 3.926649808883667\n",
      "4.44219446182251 3.923985481262207\n",
      "4.431399822235107 3.9213945865631104\n",
      "4.421221733093262 3.9184563159942627\n",
      "4.412893295288086 3.9151501655578613\n",
      "4.4008989334106445 3.9128708839416504\n",
      "4.389110565185547 3.9103071689605713\n",
      "4.379030704498291 3.907801389694214\n",
      "4.368375301361084 3.9055016040802\n",
      "4.355327606201172 3.9032905101776123\n",
      "4.345365524291992 3.9007110595703125\n",
      "4.333405494689941 3.8985157012939453\n",
      "4.320797920227051 3.8960938453674316\n",
      "4.308480262756348 3.893514633178711\n",
      "4.295579433441162 3.8913145065307617\n",
      "4.282956123352051 3.8891847133636475\n",
      "4.272702217102051 3.886404275894165\n",
      "4.2586798667907715 3.884413719177246\n",
      "4.247519493103027 3.8821263313293457\n",
      "4.238955974578857 3.879915237426758\n",
      "4.223629951477051 3.877606153488159\n",
      "4.213676929473877 3.875479221343994\n",
      "4.201985836029053 3.873077630996704\n",
      "4.19005012512207 3.8711259365081787\n",
      "4.1776251792907715 3.8687686920166016\n",
      "4.1665358543396 3.866509437561035\n",
      "4.152097702026367 3.8643360137939453\n",
      "4.141677379608154 3.8618202209472656\n",
      "4.131402015686035 3.859988212585449\n",
      "4.124592304229736 3.8574485778808594\n",
      "4.111353874206543 3.855461835861206\n",
      "4.103631973266602 3.853074312210083\n",
      "4.089606285095215 3.850778818130493\n",
      "4.079553604125977 3.848595142364502\n",
      "4.067245960235596 3.8466999530792236\n",
      "4.055853366851807 3.843975782394409\n",
      "4.0442633628845215 3.841834783554077\n",
      "4.03374719619751 3.8401718139648438\n",
      "4.02166748046875 3.837796211242676\n",
      "4.009901523590088 3.8357176780700684\n",
      "4.002554416656494 3.832846164703369\n",
      "3.99153470993042 3.8303520679473877\n",
      "3.9713048934936523 3.8279027938842773\n",
      "3.9538028240203857 3.8263092041015625\n",
      "3.9423582553863525 3.8239119052886963\n",
      "3.924147367477417 3.8220088481903076\n",
      "3.91141414642334 3.820800542831421\n",
      "3.898486852645874 3.8184781074523926\n",
      "3.882948637008667 3.816669464111328\n",
      "3.8668816089630127 3.814016103744507\n",
      "3.8543999195098877 3.812095880508423\n",
      "3.8381943702697754 3.8098256587982178\n",
      "3.8228118419647217 3.807732343673706\n",
      "3.8069264888763428 3.805509328842163\n",
      "3.791198492050171 3.8035199642181396\n",
      "3.7729403972625732 3.801581621170044\n",
      "3.7541635036468506 3.7995548248291016\n",
      "3.7370002269744873 3.7966928482055664\n",
      "3.7141969203948975 3.795306444168091\n",
      "3.6923186779022217 3.793069362640381\n",
      "3.664736747741699 3.7905657291412354\n",
      "3.6347222328186035 3.7883694171905518\n",
      "3.597965717315674 3.7864789962768555\n",
      "3.559765338897705 3.784263849258423\n",
      "3.5218112468719482 3.78206205368042\n",
      "3.471039295196533 3.7798831462860107\n",
      "2.86173415184021 3.7778141498565674\n",
      "2.657102108001709 3.775261402130127\n",
      "2.5019187927246094 3.7731409072875977\n",
      "2.3644704818725586 3.771022319793701\n",
      "2.510812997817993 3.7694952487945557\n",
      "2.46748948097229 3.7671995162963867\n",
      "2.361144542694092 3.764862537384033\n",
      "2.2638888359069824 3.762784242630005\n",
      "2.172137498855591 3.7604002952575684\n",
      "2.0868093967437744 3.758429527282715\n",
      "2.0037221908569336 3.755798578262329\n",
      "0.48287373781204224 3.753230094909668\n",
      "3.310600519180298 3.7504074573516846\n"
     ]
    }
   ],
   "source": [
    "cycle = dat[10]\n",
    "labels = np.array([cycle[i, 0, -1] for i in range(1,cycle.shape[0])])\n",
    "for m,n in zip(labels_1, labels):\n",
    "    print(m,n)"
   ]
  },
  {
   "cell_type": "code",
   "execution_count": 29,
   "id": "9d78a9db",
   "metadata": {},
   "outputs": [],
   "source": [
    "cycle_1 = dat[0]\n",
    "labels_1 = np.array([cycle_1[i, 0, -1] for i in range(1,cycle_1.shape[0])])"
   ]
  },
  {
   "cell_type": "code",
   "execution_count": 35,
   "id": "7ace7c35",
   "metadata": {},
   "outputs": [],
   "source": [
    "cycle_2 = dat[1]\n",
    "labels_2 = np.array([cycle_2[i, 0, -1] for i in range(1,cycle_2.shape[0])])"
   ]
  },
  {
   "cell_type": "code",
   "execution_count": 38,
   "id": "e80b4a7e",
   "metadata": {},
   "outputs": [
    {
     "data": {
      "text/plain": [
       "[<matplotlib.lines.Line2D at 0x7f711cc65b50>]"
      ]
     },
     "execution_count": 38,
     "metadata": {},
     "output_type": "execute_result"
    },
    {
     "data": {
      "image/png": "[encoded data removed]",
      "text/plain": [
       "<Figure size 432x288 with 1 Axes>"
      ]
     },
     "metadata": {
      "needs_background": "light"
     },
     "output_type": "display_data"
    }
   ],
   "source": [
    "import matplotlib.pyplot as plt\n",
    "plt.plot(labels_1,color='C0')\n",
    "plt.plot(labels_2, color='C2')"
   ]
  },
  {
   "cell_type": "code",
   "execution_count": 37,
   "id": "49338788",
   "metadata": {},
   "outputs": [
    {
     "data": {
      "text/plain": [
       "[<matplotlib.lines.Line2D at 0x7f711cd058e0>]"
      ]
     },
     "execution_count": 37,
     "metadata": {},
     "output_type": "execute_result"
    },
    {
     "data": {
      "image/png": "[encoded data removed]",
      "text/plain": [
       "<Figure size 432x288 with 1 Axes>"
      ]
     },
     "metadata": {
      "needs_background": "light"
     },
     "output_type": "display_data"
    }
   ],
   "source": [
    "plt.plot(labels_2)"
   ]
  },
  {
   "cell_type": "code",
   "execution_count": 13,
   "id": "890a2adb",
   "metadata": {},
   "outputs": [
    {
     "name": "stdout",
     "output_type": "stream",
     "text": [
      "CACHED data is loaded for labels.\n"
     ]
    }
   ],
   "source": [
    "labels_file_name = 'labels.pkl'\n",
    "with open(f'../../{labels_file_name}', 'rb') as f:\n",
    "    labels = np.array(pickle.load(f))\n",
    "    print('CACHED data is loaded for labels.')"
   ]
  },
  {
   "cell_type": "code",
   "execution_count": 14,
   "id": "5bda2c2d",
   "metadata": {},
   "outputs": [
    {
     "data": {
      "text/plain": [
       "(377,)"
      ]
     },
     "execution_count": 14,
     "metadata": {},
     "output_type": "execute_result"
    }
   ],
   "source": [
    "labels.shape"
   ]
  },
  {
   "cell_type": "code",
   "execution_count": null,
   "id": "ab2cc930",
   "metadata": {},
   "outputs": [],
   "source": []
  }
 ],
 "metadata": {
  "kernelspec": {
   "display_name": "conda_beep",
   "language": "python",
   "name": "conda_beep"
  },
  "language_info": {
   "codemirror_mode": {
    "name": "ipython",
    "version": 3
   },
   "file_extension": ".py",
   "mimetype": "text/x-python",
   "name": "python",
   "nbconvert_exporter": "python",
   "pygments_lexer": "ipython3",
   "version": "3.8.13"
  }
 },
 "nbformat": 4,
 "nbformat_minor": 5
}
